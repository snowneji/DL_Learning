{
 "cells": [
  {
   "cell_type": "markdown",
   "metadata": {},
   "source": [
    "Learning from: https://machinelearningmastery.com/time-series-prediction-lstm-recurrent-neural-networks-python-keras/\n",
    "\n",
    "using USD_INR exchange rate data"
   ]
  },
  {
   "cell_type": "code",
   "execution_count": 1,
   "metadata": {},
   "outputs": [
    {
     "name": "stderr",
     "output_type": "stream",
     "text": [
      "Using TensorFlow backend.\n"
     ]
    }
   ],
   "source": [
    "import pandas as pd\n",
    "import numpy as np\n",
    "import keras\n",
    "import matplotlib.pyplot as plt\n",
    "%matplotlib inline\n",
    "\n",
    "import math\n",
    "from keras.models import Sequential\n",
    "from keras.layers import Dense\n",
    "from keras.layers import LSTM\n",
    "from sklearn.preprocessing import MinMaxScaler\n",
    "from sklearn.metrics import mean_squared_error"
   ]
  },
  {
   "cell_type": "markdown",
   "metadata": {},
   "source": [
    "# Basic LSTM"
   ]
  },
  {
   "cell_type": "code",
   "execution_count": 24,
   "metadata": {},
   "outputs": [],
   "source": [
    "dat = pd.read_csv('USD_INR.csv')"
   ]
  },
  {
   "cell_type": "code",
   "execution_count": 25,
   "metadata": {},
   "outputs": [
    {
     "data": {
      "text/html": [
       "<div>\n",
       "<style scoped>\n",
       "    .dataframe tbody tr th:only-of-type {\n",
       "        vertical-align: middle;\n",
       "    }\n",
       "\n",
       "    .dataframe tbody tr th {\n",
       "        vertical-align: top;\n",
       "    }\n",
       "\n",
       "    .dataframe thead th {\n",
       "        text-align: right;\n",
       "    }\n",
       "</style>\n",
       "<table border=\"1\" class=\"dataframe\">\n",
       "  <thead>\n",
       "    <tr style=\"text-align: right;\">\n",
       "      <th></th>\n",
       "      <th>Date</th>\n",
       "      <th>Price</th>\n",
       "      <th>Open</th>\n",
       "      <th>High</th>\n",
       "      <th>Low</th>\n",
       "      <th>Change %</th>\n",
       "    </tr>\n",
       "  </thead>\n",
       "  <tbody>\n",
       "    <tr>\n",
       "      <th>0</th>\n",
       "      <td>Aug 10, 2017</td>\n",
       "      <td>64.165</td>\n",
       "      <td>63.898</td>\n",
       "      <td>64.175</td>\n",
       "      <td>63.855</td>\n",
       "      <td>0.48</td>\n",
       "    </tr>\n",
       "    <tr>\n",
       "      <th>1</th>\n",
       "      <td>Aug 09, 2017</td>\n",
       "      <td>63.860</td>\n",
       "      <td>63.780</td>\n",
       "      <td>63.860</td>\n",
       "      <td>63.710</td>\n",
       "      <td>0.26</td>\n",
       "    </tr>\n",
       "    <tr>\n",
       "      <th>2</th>\n",
       "      <td>Aug 08, 2017</td>\n",
       "      <td>63.692</td>\n",
       "      <td>63.750</td>\n",
       "      <td>63.785</td>\n",
       "      <td>63.615</td>\n",
       "      <td>-0.23</td>\n",
       "    </tr>\n",
       "    <tr>\n",
       "      <th>3</th>\n",
       "      <td>Aug 07, 2017</td>\n",
       "      <td>63.840</td>\n",
       "      <td>63.710</td>\n",
       "      <td>63.865</td>\n",
       "      <td>63.648</td>\n",
       "      <td>0.26</td>\n",
       "    </tr>\n",
       "    <tr>\n",
       "      <th>4</th>\n",
       "      <td>Aug 04, 2017</td>\n",
       "      <td>63.675</td>\n",
       "      <td>63.670</td>\n",
       "      <td>63.786</td>\n",
       "      <td>63.572</td>\n",
       "      <td>-0.05</td>\n",
       "    </tr>\n",
       "  </tbody>\n",
       "</table>\n",
       "</div>"
      ],
      "text/plain": [
       "           Date   Price    Open    High     Low  Change %\n",
       "0  Aug 10, 2017  64.165  63.898  64.175  63.855      0.48\n",
       "1  Aug 09, 2017  63.860  63.780  63.860  63.710      0.26\n",
       "2  Aug 08, 2017  63.692  63.750  63.785  63.615     -0.23\n",
       "3  Aug 07, 2017  63.840  63.710  63.865  63.648      0.26\n",
       "4  Aug 04, 2017  63.675  63.670  63.786  63.572     -0.05"
      ]
     },
     "execution_count": 25,
     "metadata": {},
     "output_type": "execute_result"
    }
   ],
   "source": [
    "dat.head()"
   ]
  },
  {
   "cell_type": "code",
   "execution_count": 26,
   "metadata": {
    "scrolled": true
   },
   "outputs": [
    {
     "name": "stderr",
     "output_type": "stream",
     "text": [
      "/Users/y0w0252/my-python/lib/python2.7/site-packages/ipykernel_launcher.py:2: SettingWithCopyWarning: \n",
      "A value is trying to be set on a copy of a slice from a DataFrame.\n",
      "Try using .loc[row_indexer,col_indexer] = value instead\n",
      "\n",
      "See the caveats in the documentation: http://pandas.pydata.org/pandas-docs/stable/indexing.html#indexing-view-versus-copy\n",
      "  \n"
     ]
    }
   ],
   "source": [
    "p_dat = dat[['Date','Price']]\n",
    "p_dat['Date'] = pd.to_datetime(p_dat['Date'])"
   ]
  },
  {
   "cell_type": "code",
   "execution_count": 27,
   "metadata": {},
   "outputs": [],
   "source": [
    "p_dat = p_dat.sort_values('Date',ascending=True)"
   ]
  },
  {
   "cell_type": "code",
   "execution_count": 28,
   "metadata": {},
   "outputs": [
    {
     "data": {
      "text/html": [
       "<div>\n",
       "<style scoped>\n",
       "    .dataframe tbody tr th:only-of-type {\n",
       "        vertical-align: middle;\n",
       "    }\n",
       "\n",
       "    .dataframe tbody tr th {\n",
       "        vertical-align: top;\n",
       "    }\n",
       "\n",
       "    .dataframe thead th {\n",
       "        text-align: right;\n",
       "    }\n",
       "</style>\n",
       "<table border=\"1\" class=\"dataframe\">\n",
       "  <thead>\n",
       "    <tr style=\"text-align: right;\">\n",
       "      <th></th>\n",
       "      <th>Date</th>\n",
       "      <th>Price</th>\n",
       "    </tr>\n",
       "  </thead>\n",
       "  <tbody>\n",
       "    <tr>\n",
       "      <th>9696</th>\n",
       "      <td>1980-01-02</td>\n",
       "      <td>8.00</td>\n",
       "    </tr>\n",
       "    <tr>\n",
       "      <th>9695</th>\n",
       "      <td>1980-01-03</td>\n",
       "      <td>7.95</td>\n",
       "    </tr>\n",
       "    <tr>\n",
       "      <th>9694</th>\n",
       "      <td>1980-01-04</td>\n",
       "      <td>8.05</td>\n",
       "    </tr>\n",
       "    <tr>\n",
       "      <th>9693</th>\n",
       "      <td>1980-01-07</td>\n",
       "      <td>8.05</td>\n",
       "    </tr>\n",
       "    <tr>\n",
       "      <th>9692</th>\n",
       "      <td>1980-01-08</td>\n",
       "      <td>8.05</td>\n",
       "    </tr>\n",
       "  </tbody>\n",
       "</table>\n",
       "</div>"
      ],
      "text/plain": [
       "           Date  Price\n",
       "9696 1980-01-02   8.00\n",
       "9695 1980-01-03   7.95\n",
       "9694 1980-01-04   8.05\n",
       "9693 1980-01-07   8.05\n",
       "9692 1980-01-08   8.05"
      ]
     },
     "execution_count": 28,
     "metadata": {},
     "output_type": "execute_result"
    }
   ],
   "source": [
    "p_dat.head()"
   ]
  },
  {
   "cell_type": "code",
   "execution_count": 32,
   "metadata": {},
   "outputs": [
    {
     "data": {
      "text/plain": [
       "<matplotlib.axes._subplots.AxesSubplot at 0x117ef72d0>"
      ]
     },
     "execution_count": 32,
     "metadata": {},
     "output_type": "execute_result"
    },
    {
     "data": {
      "image/png": "[encoded data removed]",
      "text/plain": [
       "<matplotlib.figure.Figure at 0x117e13490>"
      ]
     },
     "metadata": {},
     "output_type": "display_data"
    }
   ],
   "source": [
    "p_dat.plot(x='Date',y='Price')"
   ]
  },
  {
   "cell_type": "code",
   "execution_count": 33,
   "metadata": {},
   "outputs": [],
   "source": [
    "price_dat = p_dat['Price']"
   ]
  },
  {
   "cell_type": "code",
   "execution_count": 34,
   "metadata": {},
   "outputs": [
    {
     "data": {
      "text/plain": [
       "9696    8.00\n",
       "9695    7.95\n",
       "9694    8.05\n",
       "9693    8.05\n",
       "9692    8.05\n",
       "Name: Price, dtype: float64"
      ]
     },
     "execution_count": 34,
     "metadata": {},
     "output_type": "execute_result"
    }
   ],
   "source": [
    "price_dat.head()"
   ]
  },
  {
   "cell_type": "code",
   "execution_count": 35,
   "metadata": {
    "scrolled": true
   },
   "outputs": [
    {
     "name": "stdout",
     "output_type": "stream",
     "text": [
      "35.5577077447\n",
      "17.540190695\n"
     ]
    }
   ],
   "source": [
    "print(np.mean(price_dat.values))\n",
    "print(np.std(price_dat.values))"
   ]
  },
  {
   "cell_type": "markdown",
   "metadata": {},
   "source": [
    "### Normalize"
   ]
  },
  {
   "cell_type": "code",
   "execution_count": 36,
   "metadata": {},
   "outputs": [],
   "source": [
    "price_dat = price_dat.values.ravel().reshape(-1,1)"
   ]
  },
  {
   "cell_type": "code",
   "execution_count": 37,
   "metadata": {},
   "outputs": [],
   "source": [
    "scaler = MinMaxScaler(feature_range=(0, 1))\n",
    "price_dat = scaler.fit_transform(price_dat)"
   ]
  },
  {
   "cell_type": "code",
   "execution_count": 38,
   "metadata": {},
   "outputs": [
    {
     "name": "stdout",
     "output_type": "stream",
     "text": [
      "0.456077018318\n",
      "0.286956084989\n"
     ]
    }
   ],
   "source": [
    "print(np.mean(price_dat))\n",
    "print(np.std(price_dat))"
   ]
  },
  {
   "cell_type": "code",
   "execution_count": 39,
   "metadata": {},
   "outputs": [
    {
     "data": {
      "text/plain": [
       "[<matplotlib.lines.Line2D at 0x118314e50>]"
      ]
     },
     "execution_count": 39,
     "metadata": {},
     "output_type": "execute_result"
    },
    {
     "data": {
      "image/png": "[encoded data removed]",
      "text/plain": [
       "<matplotlib.figure.Figure at 0x117e4d850>"
      ]
     },
     "metadata": {},
     "output_type": "display_data"
    }
   ],
   "source": [
    "plt.plot(price_dat)"
   ]
  },
  {
   "cell_type": "markdown",
   "metadata": {},
   "source": [
    "### Train Test Split"
   ]
  },
  {
   "cell_type": "code",
   "execution_count": 40,
   "metadata": {},
   "outputs": [
    {
     "name": "stdout",
     "output_type": "stream",
     "text": [
      "7758\n"
     ]
    }
   ],
   "source": [
    "ratio = int(round(len(price_dat)*0.8))\n",
    "print(ratio)"
   ]
  },
  {
   "cell_type": "code",
   "execution_count": 41,
   "metadata": {},
   "outputs": [],
   "source": [
    "train_dat = price_dat[:ratio]\n",
    "valid_dat = price_dat[ratio:]"
   ]
  },
  {
   "cell_type": "markdown",
   "metadata": {},
   "source": [
    "### Creating look back dataset:"
   ]
  },
  {
   "cell_type": "code",
   "execution_count": 42,
   "metadata": {},
   "outputs": [],
   "source": [
    "# convert an array of values into a dataset matrix\n",
    "def create_dataset(dataset, look_back=1):\n",
    "    dataX, dataY = [], []\n",
    "    for i in range(len(dataset)-look_back-1):\n",
    "        a = dataset[i:(i+look_back), 0] # if look_back=1, look back 1 datapoint,  if look_back=2, look back 2 datapoints\n",
    "        dataX.append(a)\n",
    "        dataY.append(dataset[i + look_back, 0]) # the next point from the look back points\n",
    "    return np.array(dataX), np.array(dataY)"
   ]
  },
  {
   "cell_type": "code",
   "execution_count": 43,
   "metadata": {},
   "outputs": [],
   "source": [
    "# reshape into X=t and Y=t+1\n",
    "look_back = 1 # using past 1 value to predict the next\n",
    "\n",
    "trainX, trainY = create_dataset(train_dat, look_back)\n",
    "testX, testY = create_dataset(valid_dat, look_back)"
   ]
  },
  {
   "cell_type": "code",
   "execution_count": 44,
   "metadata": {},
   "outputs": [
    {
     "name": "stdout",
     "output_type": "stream",
     "text": [
      "(7756, 1)\n",
      "(7756,)\n"
     ]
    }
   ],
   "source": [
    "print(trainX.shape)\n",
    "print(trainY.shape)"
   ]
  },
  {
   "cell_type": "code",
   "execution_count": 45,
   "metadata": {},
   "outputs": [
    {
     "data": {
      "text/plain": [
       "array([[ 0.00523517],\n",
       "       [ 0.00441718],\n",
       "       [ 0.00605317],\n",
       "       [ 0.00605317],\n",
       "       [ 0.00605317]])"
      ]
     },
     "execution_count": 45,
     "metadata": {},
     "output_type": "execute_result"
    }
   ],
   "source": [
    "trainX[:5,:]"
   ]
  },
  {
   "cell_type": "code",
   "execution_count": 46,
   "metadata": {},
   "outputs": [],
   "source": [
    "# reshape input to be [samples, time steps, features]\n",
    "trainX = np.reshape(trainX, (trainX.shape[0], 1, trainX.shape[1]))\n",
    "testX = np.reshape(testX, (testX.shape[0], 1, testX.shape[1]))"
   ]
  },
  {
   "cell_type": "code",
   "execution_count": 47,
   "metadata": {},
   "outputs": [
    {
     "name": "stdout",
     "output_type": "stream",
     "text": [
      "(7756, 1, 1)\n"
     ]
    }
   ],
   "source": [
    "print(trainX.shape)\n"
   ]
  },
  {
   "cell_type": "code",
   "execution_count": 48,
   "metadata": {},
   "outputs": [
    {
     "name": "stdout",
     "output_type": "stream",
     "text": [
      "Epoch 1/100\n",
      " - 37s - loss: 0.0031\n",
      "Epoch 2/100\n",
      " - 35s - loss: 1.0981e-05\n",
      "Epoch 3/100\n",
      " - 35s - loss: 1.0927e-05\n",
      "Epoch 4/100\n",
      " - 37s - loss: 1.0966e-05\n",
      "Epoch 5/100\n",
      " - 38s - loss: 9.8991e-06\n",
      "Epoch 6/100\n",
      " - 38s - loss: 9.8438e-06\n",
      "Epoch 7/100\n",
      " - 35s - loss: 9.5972e-06\n",
      "Epoch 8/100\n",
      " - 37s - loss: 9.1833e-06\n",
      "Epoch 9/100\n",
      " - 37s - loss: 8.7126e-06\n",
      "Epoch 10/100\n",
      " - 36s - loss: 8.5389e-06\n",
      "Epoch 11/100\n",
      " - 36s - loss: 8.2623e-06\n",
      "Epoch 12/100\n",
      " - 36s - loss: 8.1960e-06\n",
      "Epoch 13/100\n",
      " - 38s - loss: 7.8410e-06\n",
      "Epoch 14/100\n",
      " - 38s - loss: 7.9955e-06\n",
      "Epoch 15/100\n",
      " - 38s - loss: 7.8422e-06\n",
      "Epoch 16/100\n",
      " - 37s - loss: 7.9790e-06\n",
      "Epoch 17/100\n",
      " - 39s - loss: 7.8332e-06\n",
      "Epoch 18/100\n",
      " - 38s - loss: 7.8582e-06\n",
      "Epoch 19/100\n",
      " - 39s - loss: 7.9832e-06\n",
      "Epoch 20/100\n",
      " - 37s - loss: 7.6835e-06\n",
      "Epoch 21/100\n",
      " - 35s - loss: 7.8281e-06\n",
      "Epoch 22/100\n",
      " - 36s - loss: 7.6284e-06\n",
      "Epoch 23/100\n",
      " - 35s - loss: 7.8433e-06\n",
      "Epoch 24/100\n",
      " - 35s - loss: 8.2040e-06\n",
      "Epoch 25/100\n",
      " - 35s - loss: 7.6755e-06\n",
      "Epoch 26/100\n",
      " - 35s - loss: 7.6706e-06\n",
      "Epoch 27/100\n",
      " - 35s - loss: 7.8228e-06\n",
      "Epoch 28/100\n",
      " - 36s - loss: 7.7035e-06\n",
      "Epoch 29/100\n",
      " - 35s - loss: 7.9033e-06\n",
      "Epoch 30/100\n",
      " - 36s - loss: 7.8007e-06\n",
      "Epoch 31/100\n",
      " - 40s - loss: 7.6218e-06\n",
      "Epoch 32/100\n",
      " - 39s - loss: 7.7014e-06\n",
      "Epoch 33/100\n",
      " - 38s - loss: 7.6953e-06\n",
      "Epoch 34/100\n",
      " - 37s - loss: 7.5600e-06\n",
      "Epoch 35/100\n",
      " - 36s - loss: 7.5823e-06\n",
      "Epoch 36/100\n",
      " - 36s - loss: 7.4937e-06\n",
      "Epoch 37/100\n",
      " - 37s - loss: 7.4095e-06\n",
      "Epoch 38/100\n",
      " - 36s - loss: 7.5891e-06\n",
      "Epoch 39/100\n",
      " - 36s - loss: 7.6246e-06\n",
      "Epoch 40/100\n",
      " - 37s - loss: 7.6591e-06\n",
      "Epoch 41/100\n",
      " - 37s - loss: 7.6217e-06\n",
      "Epoch 42/100\n",
      " - 36s - loss: 7.5095e-06\n",
      "Epoch 43/100\n",
      " - 36s - loss: 7.3116e-06\n",
      "Epoch 44/100\n",
      " - 37s - loss: 7.7990e-06\n",
      "Epoch 45/100\n",
      " - 39s - loss: 7.4654e-06\n",
      "Epoch 46/100\n",
      " - 39s - loss: 7.3999e-06\n",
      "Epoch 47/100\n",
      " - 37s - loss: 7.8159e-06\n",
      "Epoch 48/100\n",
      " - 38s - loss: 7.4990e-06\n",
      "Epoch 49/100\n",
      " - 36s - loss: 7.5050e-06\n",
      "Epoch 50/100\n",
      " - 35s - loss: 7.2329e-06\n",
      "Epoch 51/100\n",
      " - 37s - loss: 7.5788e-06\n",
      "Epoch 52/100\n",
      " - 38s - loss: 7.5405e-06\n",
      "Epoch 53/100\n",
      " - 44s - loss: 7.1437e-06\n",
      "Epoch 54/100\n",
      " - 41s - loss: 7.5426e-06\n",
      "Epoch 55/100\n",
      " - 37s - loss: 7.5087e-06\n",
      "Epoch 56/100\n",
      " - 36s - loss: 7.7745e-06\n",
      "Epoch 57/100\n",
      " - 37s - loss: 7.7138e-06\n",
      "Epoch 58/100\n",
      " - 38s - loss: 7.4747e-06\n",
      "Epoch 59/100\n",
      " - 37s - loss: 7.4158e-06\n",
      "Epoch 60/100\n",
      " - 38s - loss: 7.5317e-06\n",
      "Epoch 61/100\n",
      " - 38s - loss: 7.3939e-06\n",
      "Epoch 62/100\n",
      " - 38s - loss: 7.5717e-06\n",
      "Epoch 63/100\n",
      " - 38s - loss: 7.6924e-06\n",
      "Epoch 64/100\n",
      " - 38s - loss: 7.5137e-06\n",
      "Epoch 65/100\n",
      " - 38s - loss: 7.5789e-06\n",
      "Epoch 66/100\n",
      " - 39s - loss: 7.5880e-06\n",
      "Epoch 67/100\n",
      " - 39s - loss: 7.2716e-06\n",
      "Epoch 68/100\n",
      " - 37s - loss: 7.2957e-06\n",
      "Epoch 69/100\n",
      " - 37s - loss: 7.6832e-06\n",
      "Epoch 70/100\n",
      " - 38s - loss: 7.3838e-06\n",
      "Epoch 71/100\n",
      " - 38s - loss: 7.2683e-06\n",
      "Epoch 72/100\n",
      " - 35s - loss: 7.4249e-06\n",
      "Epoch 73/100\n",
      " - 35s - loss: 7.2004e-06\n",
      "Epoch 74/100\n",
      " - 35s - loss: 7.5040e-06\n",
      "Epoch 75/100\n",
      " - 35s - loss: 7.5075e-06\n",
      "Epoch 76/100\n",
      " - 35s - loss: 7.3027e-06\n",
      "Epoch 77/100\n",
      " - 38s - loss: 7.3510e-06\n",
      "Epoch 78/100\n",
      " - 35s - loss: 7.2941e-06\n",
      "Epoch 79/100\n",
      " - 35s - loss: 7.7558e-06\n",
      "Epoch 80/100\n",
      " - 35s - loss: 7.1897e-06\n",
      "Epoch 81/100\n",
      " - 35s - loss: 7.4033e-06\n",
      "Epoch 82/100\n",
      " - 35s - loss: 7.4629e-06\n",
      "Epoch 83/100\n",
      " - 35s - loss: 7.3916e-06\n",
      "Epoch 84/100\n",
      " - 35s - loss: 7.5231e-06\n",
      "Epoch 85/100\n",
      " - 35s - loss: 7.2769e-06\n",
      "Epoch 86/100\n",
      " - 35s - loss: 7.3299e-06\n",
      "Epoch 87/100\n",
      " - 36s - loss: 7.3523e-06\n",
      "Epoch 88/100\n",
      " - 35s - loss: 7.3935e-06\n",
      "Epoch 89/100\n",
      " - 35s - loss: 7.4279e-06\n",
      "Epoch 90/100\n",
      " - 35s - loss: 7.5028e-06\n",
      "Epoch 91/100\n",
      " - 35s - loss: 7.3860e-06\n",
      "Epoch 92/100\n",
      " - 35s - loss: 7.1838e-06\n",
      "Epoch 93/100\n",
      " - 35s - loss: 7.3841e-06\n",
      "Epoch 94/100\n",
      " - 35s - loss: 7.4272e-06\n",
      "Epoch 95/100\n",
      " - 36s - loss: 7.3399e-06\n",
      "Epoch 96/100\n",
      " - 36s - loss: 7.4999e-06\n",
      "Epoch 97/100\n",
      " - 37s - loss: 7.2279e-06\n",
      "Epoch 98/100\n",
      " - 35s - loss: 7.2458e-06\n",
      "Epoch 99/100\n",
      " - 36s - loss: 7.3645e-06\n",
      "Epoch 100/100\n",
      " - 35s - loss: 7.2849e-06\n"
     ]
    },
    {
     "data": {
      "text/plain": [
       "<keras.callbacks.History at 0x118597b50>"
      ]
     },
     "execution_count": 48,
     "metadata": {},
     "output_type": "execute_result"
    }
   ],
   "source": [
    "# create and fit the LSTM network\n",
    "model = Sequential()\n",
    "model.add(LSTM(4, input_shape=(1, look_back))) # 4 in here means 4 LSTM blocks or neurons\n",
    "model.add(Dense(1))\n",
    "model.compile(loss='mean_squared_error', optimizer='adam')\n",
    "model.fit(trainX, trainY, epochs=100, batch_size=1, verbose=2)"
   ]
  },
  {
   "cell_type": "markdown",
   "metadata": {},
   "source": [
    "### Predict in-sample and out-sample"
   ]
  },
  {
   "cell_type": "code",
   "execution_count": 49,
   "metadata": {},
   "outputs": [],
   "source": [
    "res_insp = model.predict(trainX)\n",
    "res_outsp = model.predict(testX)"
   ]
  },
  {
   "cell_type": "code",
   "execution_count": 50,
   "metadata": {},
   "outputs": [],
   "source": [
    "# inverse the transformation back to get the true value:\n",
    "res_insp = scaler.inverse_transform(res_insp)\n",
    "trainY = scaler.inverse_transform([trainY])\n",
    "\n",
    "res_outsp = scaler.inverse_transform(res_outsp)\n",
    "testY = scaler.inverse_transform([testY])"
   ]
  },
  {
   "cell_type": "code",
   "execution_count": 51,
   "metadata": {},
   "outputs": [
    {
     "name": "stdout",
     "output_type": "stream",
     "text": [
      "Train Score: 0.14 RMSE\n",
      "Test Score: 0.99 RMSE\n"
     ]
    }
   ],
   "source": [
    "# RMSE:\n",
    "\n",
    "trainScore = math.sqrt(mean_squared_error(trainY[0], res_insp[:,0]))\n",
    "print('Train Score: %.2f RMSE' % (trainScore))\n",
    "testScore = math.sqrt(mean_squared_error(testY[0], res_outsp[:,0]))\n",
    "print('Test Score: %.2f RMSE' % (testScore))"
   ]
  },
  {
   "cell_type": "code",
   "execution_count": 52,
   "metadata": {},
   "outputs": [],
   "source": [
    "# shift train predictions for plotting\n",
    "trainPredictPlot = np.empty_like(price_dat)\n",
    "trainPredictPlot[:, :] = np.nan\n",
    "trainPredictPlot[look_back:len(res_insp)+look_back, :] = res_insp\n",
    "# shift test predictions for plotting\n",
    "testPredictPlot = np.empty_like(price_dat)\n",
    "testPredictPlot[:, :] = np.nan\n",
    "testPredictPlot[len(res_insp)+(look_back*2)+1:len(price_dat)-1, :] = res_outsp\n",
    "# plot baseline and predictions"
   ]
  },
  {
   "cell_type": "markdown",
   "metadata": {},
   "source": [
    "#### Original Data:"
   ]
  },
  {
   "cell_type": "code",
   "execution_count": 53,
   "metadata": {},
   "outputs": [
    {
     "data": {
      "text/plain": [
       "[<matplotlib.lines.Line2D at 0x1198e8850>]"
      ]
     },
     "execution_count": 53,
     "metadata": {},
     "output_type": "execute_result"
    },
    {
     "data": {
      "image/png": "[encoded data removed]",
      "text/plain": [
       "<matplotlib.figure.Figure at 0x1183f2f90>"
      ]
     },
     "metadata": {},
     "output_type": "display_data"
    }
   ],
   "source": [
    "\n",
    "plt.plot(scaler.inverse_transform(price_dat))\n"
   ]
  },
  {
   "cell_type": "markdown",
   "metadata": {},
   "source": [
    "#### In-sample Prediction:"
   ]
  },
  {
   "cell_type": "code",
   "execution_count": 54,
   "metadata": {},
   "outputs": [
    {
     "data": {
      "text/plain": [
       "[<matplotlib.lines.Line2D at 0x1198e8e10>]"
      ]
     },
     "execution_count": 54,
     "metadata": {},
     "output_type": "execute_result"
    },
    {
     "data": {
      "image/png": "[encoded data removed]",
      "text/plain": [
       "<matplotlib.figure.Figure at 0x1198e8fd0>"
      ]
     },
     "metadata": {},
     "output_type": "display_data"
    }
   ],
   "source": [
    "plt.plot(scaler.inverse_transform(price_dat))\n",
    "plt.plot(trainPredictPlot)\n"
   ]
  },
  {
   "cell_type": "markdown",
   "metadata": {},
   "source": [
    "#### Out-sample Prediction:"
   ]
  },
  {
   "cell_type": "code",
   "execution_count": 55,
   "metadata": {},
   "outputs": [
    {
     "data": {
      "text/plain": [
       "[<matplotlib.lines.Line2D at 0x119a774d0>]"
      ]
     },
     "execution_count": 55,
     "metadata": {},
     "output_type": "execute_result"
    },
    {
     "data": {
      "image/png": "[encoded data removed]",
      "text/plain": [
       "<matplotlib.figure.Figure at 0x119a55850>"
      ]
     },
     "metadata": {},
     "output_type": "display_data"
    }
   ],
   "source": [
    "plt.plot(scaler.inverse_transform(price_dat))\n",
    "plt.plot(testPredictPlot)"
   ]
  },
  {
   "cell_type": "markdown",
   "metadata": {},
   "source": [
    "# LSTM using Window Method"
   ]
  },
  {
   "cell_type": "code",
   "execution_count": 56,
   "metadata": {},
   "outputs": [],
   "source": [
    "# reshape into X=t and Y=t+1\n",
    "look_back = 3 # using past 3 values to predict the next\n",
    "\n",
    "trainX, trainY = create_dataset(train_dat, look_back)\n",
    "testX, testY = create_dataset(valid_dat, look_back)"
   ]
  },
  {
   "cell_type": "code",
   "execution_count": 57,
   "metadata": {},
   "outputs": [
    {
     "name": "stdout",
     "output_type": "stream",
     "text": [
      "(7754, 3)\n",
      "(7754,)\n"
     ]
    }
   ],
   "source": [
    "print(trainX.shape)\n",
    "print(trainY.shape)"
   ]
  },
  {
   "cell_type": "code",
   "execution_count": 58,
   "metadata": {},
   "outputs": [],
   "source": [
    "# reshape input to be [samples, time steps, features]\n",
    "trainX = np.reshape(trainX, (trainX.shape[0], 1, trainX.shape[1]))\n",
    "testX = np.reshape(testX, (testX.shape[0], 1, testX.shape[1]))"
   ]
  },
  {
   "cell_type": "code",
   "execution_count": 59,
   "metadata": {},
   "outputs": [
    {
     "name": "stdout",
     "output_type": "stream",
     "text": [
      "Epoch 1/100\n",
      " - 37s - loss: 0.0042\n",
      "Epoch 2/100\n",
      " - 36s - loss: 2.3494e-05\n",
      "Epoch 3/100\n",
      " - 36s - loss: 2.0337e-05\n",
      "Epoch 4/100\n",
      " - 38s - loss: 1.7058e-05\n",
      "Epoch 5/100\n",
      " - 37s - loss: 1.4305e-05\n",
      "Epoch 6/100\n",
      " - 36s - loss: 1.2627e-05\n",
      "Epoch 7/100\n",
      " - 36s - loss: 1.2323e-05\n",
      "Epoch 8/100\n",
      " - 36s - loss: 1.2148e-05\n",
      "Epoch 9/100\n",
      " - 37s - loss: 1.2237e-05\n",
      "Epoch 10/100\n",
      " - 35s - loss: 1.2135e-05\n",
      "Epoch 11/100\n",
      " - 38s - loss: 1.2070e-05\n",
      "Epoch 12/100\n",
      " - 38s - loss: 1.1470e-05\n",
      "Epoch 13/100\n",
      " - 35s - loss: 1.1385e-05\n",
      "Epoch 14/100\n",
      " - 37s - loss: 1.1216e-05\n",
      "Epoch 15/100\n",
      " - 36s - loss: 1.1370e-05\n",
      "Epoch 16/100\n",
      " - 36s - loss: 1.1260e-05\n",
      "Epoch 17/100\n",
      " - 36s - loss: 1.1210e-05\n",
      "Epoch 18/100\n",
      " - 36s - loss: 1.0598e-05\n",
      "Epoch 19/100\n",
      " - 35s - loss: 1.0652e-05\n",
      "Epoch 20/100\n",
      " - 36s - loss: 1.0771e-05\n",
      "Epoch 21/100\n",
      " - 39s - loss: 1.0844e-05\n",
      "Epoch 22/100\n",
      " - 48s - loss: 1.0444e-05\n",
      "Epoch 23/100\n",
      " - 36s - loss: 1.0743e-05\n",
      "Epoch 24/100\n",
      " - 35s - loss: 1.0426e-05\n",
      "Epoch 25/100\n",
      " - 36s - loss: 1.0451e-05\n",
      "Epoch 26/100\n",
      " - 36s - loss: 1.0271e-05\n",
      "Epoch 27/100\n",
      " - 35s - loss: 1.0218e-05\n",
      "Epoch 28/100\n",
      " - 39s - loss: 1.0021e-05\n",
      "Epoch 29/100\n",
      " - 36s - loss: 9.6122e-06\n",
      "Epoch 30/100\n",
      " - 35s - loss: 9.5871e-06\n",
      "Epoch 31/100\n",
      " - 35s - loss: 1.0393e-05\n",
      "Epoch 32/100\n",
      " - 35s - loss: 1.0131e-05\n",
      "Epoch 33/100\n",
      " - 35s - loss: 9.9950e-06\n",
      "Epoch 34/100\n",
      " - 35s - loss: 9.7754e-06\n",
      "Epoch 35/100\n",
      " - 36s - loss: 9.6214e-06\n",
      "Epoch 36/100\n",
      " - 40s - loss: 9.8480e-06\n",
      "Epoch 37/100\n",
      " - 37s - loss: 9.7665e-06\n",
      "Epoch 38/100\n",
      " - 36s - loss: 9.6639e-06\n",
      "Epoch 39/100\n",
      " - 36s - loss: 9.5654e-06\n",
      "Epoch 40/100\n",
      " - 36s - loss: 9.5566e-06\n",
      "Epoch 41/100\n",
      " - 36s - loss: 9.5554e-06\n",
      "Epoch 42/100\n",
      " - 35s - loss: 9.6087e-06\n",
      "Epoch 43/100\n",
      " - 35s - loss: 9.3547e-06\n",
      "Epoch 44/100\n",
      " - 36s - loss: 9.2130e-06\n",
      "Epoch 45/100\n",
      " - 37s - loss: 9.4292e-06\n",
      "Epoch 46/100\n",
      " - 35s - loss: 9.3263e-06\n",
      "Epoch 47/100\n",
      " - 36s - loss: 9.3809e-06\n",
      "Epoch 48/100\n",
      " - 36s - loss: 9.1296e-06\n",
      "Epoch 49/100\n",
      " - 36s - loss: 9.2044e-06\n",
      "Epoch 50/100\n",
      " - 35s - loss: 8.8655e-06\n",
      "Epoch 51/100\n",
      " - 36s - loss: 9.1390e-06\n",
      "Epoch 52/100\n",
      " - 36s - loss: 9.2426e-06\n",
      "Epoch 53/100\n",
      " - 37s - loss: 9.0035e-06\n",
      "Epoch 54/100\n",
      " - 38s - loss: 8.8460e-06\n",
      "Epoch 55/100\n",
      " - 37s - loss: 9.0196e-06\n",
      "Epoch 56/100\n",
      " - 36s - loss: 8.8347e-06\n",
      "Epoch 57/100\n",
      " - 37s - loss: 9.1022e-06\n",
      "Epoch 58/100\n",
      " - 36s - loss: 8.7144e-06\n",
      "Epoch 59/100\n",
      " - 37s - loss: 8.7054e-06\n",
      "Epoch 60/100\n",
      " - 37s - loss: 8.5564e-06\n",
      "Epoch 61/100\n",
      " - 36s - loss: 8.6867e-06\n",
      "Epoch 62/100\n",
      " - 36s - loss: 8.5696e-06\n",
      "Epoch 63/100\n",
      " - 37s - loss: 8.2943e-06\n",
      "Epoch 64/100\n",
      " - 35s - loss: 8.3945e-06\n",
      "Epoch 65/100\n",
      " - 38s - loss: 8.0185e-06\n",
      "Epoch 66/100\n",
      " - 36s - loss: 8.5205e-06\n",
      "Epoch 67/100\n",
      " - 36s - loss: 8.4090e-06\n",
      "Epoch 68/100\n",
      " - 36s - loss: 8.3406e-06\n",
      "Epoch 69/100\n",
      " - 35s - loss: 8.3247e-06\n",
      "Epoch 70/100\n",
      " - 36s - loss: 8.3291e-06\n",
      "Epoch 71/100\n",
      " - 35s - loss: 8.2659e-06\n",
      "Epoch 72/100\n",
      " - 37s - loss: 8.5959e-06\n",
      "Epoch 73/100\n",
      " - 35s - loss: 8.5659e-06\n",
      "Epoch 74/100\n",
      " - 35s - loss: 8.3265e-06\n",
      "Epoch 75/100\n",
      " - 35s - loss: 8.1621e-06\n",
      "Epoch 76/100\n",
      " - 35s - loss: 8.0460e-06\n",
      "Epoch 77/100\n",
      " - 35s - loss: 7.9873e-06\n",
      "Epoch 78/100\n",
      " - 35s - loss: 8.2686e-06\n",
      "Epoch 79/100\n",
      " - 35s - loss: 8.4284e-06\n",
      "Epoch 80/100\n",
      " - 35s - loss: 8.4515e-06\n",
      "Epoch 81/100\n",
      " - 35s - loss: 8.2519e-06\n",
      "Epoch 82/100\n",
      " - 35s - loss: 8.1427e-06\n",
      "Epoch 83/100\n",
      " - 35s - loss: 8.3584e-06\n",
      "Epoch 84/100\n",
      " - 35s - loss: 8.0935e-06\n",
      "Epoch 85/100\n",
      " - 35s - loss: 7.9791e-06\n",
      "Epoch 86/100\n",
      " - 35s - loss: 8.3875e-06\n",
      "Epoch 87/100\n",
      " - 35s - loss: 7.8279e-06\n",
      "Epoch 88/100\n",
      " - 35s - loss: 8.2343e-06\n",
      "Epoch 89/100\n",
      " - 35s - loss: 7.9684e-06\n",
      "Epoch 90/100\n",
      " - 35s - loss: 8.1274e-06\n",
      "Epoch 91/100\n",
      " - 1768s - loss: 8.1681e-06\n",
      "Epoch 92/100\n",
      " - 316s - loss: 8.0412e-06\n",
      "Epoch 93/100\n",
      " - 37s - loss: 8.2641e-06\n",
      "Epoch 94/100\n",
      " - 39s - loss: 7.6791e-06\n",
      "Epoch 95/100\n",
      " - 37s - loss: 8.2489e-06\n",
      "Epoch 96/100\n",
      " - 36s - loss: 7.7400e-06\n",
      "Epoch 97/100\n",
      " - 36s - loss: 8.0623e-06\n",
      "Epoch 98/100\n",
      " - 37s - loss: 7.7654e-06\n",
      "Epoch 99/100\n",
      " - 38s - loss: 8.2197e-06\n",
      "Epoch 100/100\n",
      " - 37s - loss: 8.1389e-06\n"
     ]
    },
    {
     "data": {
      "text/plain": [
       "<keras.callbacks.History at 0x119554bd0>"
      ]
     },
     "execution_count": 59,
     "metadata": {},
     "output_type": "execute_result"
    }
   ],
   "source": [
    "# create and fit the LSTM network\n",
    "model = Sequential()\n",
    "model.add(LSTM(4, input_shape=(1, look_back))) # 4 in here means 4 LSTM blocks or neurons\n",
    "model.add(Dense(1))\n",
    "model.compile(loss='mean_squared_error', optimizer='adam')\n",
    "model.fit(trainX, trainY, epochs=100, batch_size=1, verbose=2)"
   ]
  },
  {
   "cell_type": "markdown",
   "metadata": {},
   "source": [
    "#### Prediction:"
   ]
  },
  {
   "cell_type": "code",
   "execution_count": 60,
   "metadata": {},
   "outputs": [],
   "source": [
    "res_insp = model.predict(trainX)\n",
    "res_outsp = model.predict(testX)"
   ]
  },
  {
   "cell_type": "code",
   "execution_count": 61,
   "metadata": {},
   "outputs": [],
   "source": [
    "# inverse the transformation back to get the true value:\n",
    "res_insp = scaler.inverse_transform(res_insp)\n",
    "trainY = scaler.inverse_transform([trainY])\n",
    "\n",
    "res_outsp = scaler.inverse_transform(res_outsp)\n",
    "testY = scaler.inverse_transform([testY])"
   ]
  },
  {
   "cell_type": "code",
   "execution_count": 62,
   "metadata": {},
   "outputs": [
    {
     "name": "stdout",
     "output_type": "stream",
     "text": [
      "Train Score: 0.14 RMSE\n",
      "Test Score: 4.17 RMSE\n"
     ]
    }
   ],
   "source": [
    "# RMSE:\n",
    "\n",
    "trainScore = math.sqrt(mean_squared_error(trainY[0], res_insp[:,0]))\n",
    "print('Train Score: %.2f RMSE' % (trainScore))\n",
    "testScore = math.sqrt(mean_squared_error(testY[0], res_outsp[:,0]))\n",
    "print('Test Score: %.2f RMSE' % (testScore))"
   ]
  },
  {
   "cell_type": "code",
   "execution_count": 63,
   "metadata": {},
   "outputs": [],
   "source": [
    "# shift train predictions for plotting\n",
    "trainPredictPlot = np.empty_like(price_dat)\n",
    "trainPredictPlot[:, :] = np.nan\n",
    "trainPredictPlot[look_back:len(res_insp)+look_back, :] = res_insp\n",
    "# shift test predictions for plotting\n",
    "testPredictPlot = np.empty_like(price_dat)\n",
    "testPredictPlot[:, :] = np.nan\n",
    "testPredictPlot[len(res_insp)+(look_back*2)+1:len(price_dat)-1, :] = res_outsp\n",
    "# plot baseline and predictions"
   ]
  },
  {
   "cell_type": "markdown",
   "metadata": {},
   "source": [
    "#### Plotting:"
   ]
  },
  {
   "cell_type": "code",
   "execution_count": 64,
   "metadata": {},
   "outputs": [
    {
     "data": {
      "text/plain": [
       "[<matplotlib.lines.Line2D at 0x11a799350>]"
      ]
     },
     "execution_count": 64,
     "metadata": {},
     "output_type": "execute_result"
    },
    {
     "data": {
      "image/png": "[encoded data removed]",
      "text/plain": [
       "<matplotlib.figure.Figure at 0x119189650>"
      ]
     },
     "metadata": {},
     "output_type": "display_data"
    }
   ],
   "source": [
    "# Original data:\n",
    "plt.plot(scaler.inverse_transform(price_dat))"
   ]
  },
  {
   "cell_type": "code",
   "execution_count": 65,
   "metadata": {},
   "outputs": [
    {
     "data": {
      "text/plain": [
       "[<matplotlib.lines.Line2D at 0x119306790>]"
      ]
     },
     "execution_count": 65,
     "metadata": {},
     "output_type": "execute_result"
    },
    {
     "data": {
      "image/png": "[encoded data removed]",
      "text/plain": [
       "<matplotlib.figure.Figure at 0x11a4e97d0>"
      ]
     },
     "metadata": {},
     "output_type": "display_data"
    }
   ],
   "source": [
    "# In Sample Prediction:\n",
    "\n",
    "plt.plot(scaler.inverse_transform(price_dat))\n",
    "plt.plot(trainPredictPlot)\n"
   ]
  },
  {
   "cell_type": "code",
   "execution_count": 66,
   "metadata": {},
   "outputs": [
    {
     "data": {
      "text/plain": [
       "[<matplotlib.lines.Line2D at 0x11a9b6450>]"
      ]
     },
     "execution_count": 66,
     "metadata": {},
     "output_type": "execute_result"
    },
    {
     "data": {
      "image/png": "[encoded data removed]",
      "text/plain": [
       "<matplotlib.figure.Figure at 0x11a9b60d0>"
      ]
     },
     "metadata": {},
     "output_type": "display_data"
    }
   ],
   "source": [
    "# Out Sample Prediction\n",
    "plt.plot(scaler.inverse_transform(price_dat))\n",
    "plt.plot(testPredictPlot)"
   ]
  },
  {
   "cell_type": "code",
   "execution_count": null,
   "metadata": {},
   "outputs": [],
   "source": []
  }
 ],
 "metadata": {
  "kernelspec": {
   "display_name": "Python 2",
   "language": "python",
   "name": "python2"
  },
  "language_info": {
   "codemirror_mode": {
    "name": "ipython",
    "version": 2
   },
   "file_extension": ".py",
   "mimetype": "text/x-python",
   "name": "python",
   "nbconvert_exporter": "python",
   "pygments_lexer": "ipython2",
   "version": "2.7.10"
  }
 },
 "nbformat": 4,
 "nbformat_minor": 2
}
