{
 "cells": [
  {
   "cell_type": "markdown",
   "metadata": {},
   "source": [
    "## LCS -- Longest Common Subsequence"
   ]
  },
  {
   "cell_type": "code",
   "execution_count": 1,
   "metadata": {},
   "outputs": [],
   "source": [
    "def LCS(\n",
    "    seq1:list,\n",
    "    seq2:list):\n",
    "    # Initialize:\n",
    "    list_mat = [[0 for i in range(len(seq1))] for j in range(len(seq2)) ]\n",
    "    list_mat[0] = [1 for j in range(len(seq1))]\n",
    "\n",
    "\n",
    "    for j in range(len(seq2)):\n",
    "        list_mat[j][0] = 1\n",
    "\n",
    "\n",
    "\n",
    "\n",
    "    # DP:\n",
    "    for ii in range(1,len(seq1)):\n",
    "        for jj in range(1,len(seq2)):\n",
    "\n",
    "            # Case 1:\n",
    "            if seq1[ii] == seq2[jj]:\n",
    "\n",
    "                list_mat[jj][ii] = list_mat[jj-1][ii-1] + 1\n",
    "\n",
    "            # Case 2:\n",
    "            else:\n",
    "                list_mat[jj][ii] = max(list_mat[jj-1][ii],list_mat[jj][ii-1])\n",
    "\n",
    "\n",
    "    return list_mat[-1][-1]"
   ]
  },
  {
   "cell_type": "code",
   "execution_count": 2,
   "metadata": {},
   "outputs": [
    {
     "data": {
      "text/plain": [
       "3"
      ]
     },
     "execution_count": 2,
     "metadata": {},
     "output_type": "execute_result"
    }
   ],
   "source": [
    "seq1 = [0,5,2,4,5]\n",
    "seq2 = [2,4,3,6,7,2,5]\n",
    "\n",
    "LCS(seq1,seq2)"
   ]
  },
  {
   "cell_type": "code",
   "execution_count": 7,
   "metadata": {},
   "outputs": [
    {
     "data": {
      "text/plain": [
       "3"
      ]
     },
     "execution_count": 7,
     "metadata": {},
     "output_type": "execute_result"
    }
   ],
   "source": [
    "seq1 = [4,3,56,2,4,5,2,24,5]\n",
    "seq2 = [2,6,4,3,2,1]\n",
    "\n",
    "LCS(seq1,seq2)"
   ]
  },
  {
   "cell_type": "code",
   "execution_count": 6,
   "metadata": {},
   "outputs": [
    {
     "data": {
      "text/plain": [
       "4"
      ]
     },
     "execution_count": 6,
     "metadata": {},
     "output_type": "execute_result"
    }
   ],
   "source": [
    "seq1 = [\"A\",\"G\",\"G\",\"T\",\"A\",\"B\"]\n",
    "seq2 = [\"G\",\"X\",\"T\",\"X\",\"A\",\"Y\",\"B\"]\n",
    "\n",
    "LCS(seq1,seq2)"
   ]
  }
 ],
 "metadata": {
  "kernelspec": {
   "display_name": "Python 3",
   "language": "python",
   "name": "python3"
  },
  "language_info": {
   "codemirror_mode": {
    "name": "ipython",
    "version": 3
   },
   "file_extension": ".py",
   "mimetype": "text/x-python",
   "name": "python",
   "nbconvert_exporter": "python",
   "pygments_lexer": "ipython3",
   "version": "3.6.8"
  }
 },
 "nbformat": 4,
 "nbformat_minor": 2
}
