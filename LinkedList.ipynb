{
 "cells": [
  {
   "cell_type": "markdown",
   "metadata": {},
   "source": [
    "# Linked List"
   ]
  },
  {
   "cell_type": "code",
   "execution_count": 22,
   "metadata": {},
   "outputs": [],
   "source": [
    "class newNode(object):\n",
    "    def __init__(self,data):\n",
    "        self.data = data\n",
    "        self.nextNode = None;"
   ]
  },
  {
   "cell_type": "code",
   "execution_count": 124,
   "metadata": {},
   "outputs": [],
   "source": [
    "\n",
    "\n",
    "class LinkedList(object):\n",
    "\n",
    "    def __init__ (self,newNode):\n",
    "        self.head = None; # the most recent node\n",
    "        self.size = 0;\n",
    "        self.newNode = newNode;\n",
    "        \n",
    "        \n",
    "    def insertStart(self,data):\n",
    "        self.size += 1;\n",
    "        newNode = self.newNode(data); # initialize\n",
    "        \n",
    "        if self.head: # not the first in LL\n",
    "            newNode.nextNode = self.head; # add linkage;\n",
    "            self.head = newNode # add new data\n",
    "        else:\n",
    "            self.head = newNode\n",
    "            \n",
    "            \n",
    "    def insertEnd(self,data): #O(N)\n",
    "        self.size +=1;\n",
    "        newNode = self.newNode(data);\n",
    "        actual_node = self.head;\n",
    "        \n",
    "        # find the last node:\n",
    "        while actual_node.nextNode is not None:\n",
    "            actual_node = actual_node.nextNode;\n",
    "        #update:\n",
    "        actual_node.nextNode = newNode;\n",
    "       \n",
    "    \n",
    "    def get_size(self): #O(1)\n",
    "        return self.size\n",
    "        \n",
    "        \n",
    "    def traverseList(self):\n",
    "        actual_node = self.head;\n",
    "        while actual_node is not None:\n",
    "            print(actual_node.data)\n",
    "            actual_node = actual_node.nextNode\n",
    "            \n",
    "    \n",
    "    def remove(self,data):\n",
    "        if self.head is None:\n",
    "            return;\n",
    "        \n",
    "        self.size -= 1; \n",
    "        \n",
    "        currentNode = self.head;\n",
    "        previousNode = None;\n",
    "        while currentNode.data != data and currentNode is not None:\n",
    "            print(currentNode.data)\n",
    "            previousNode = currentNode;\n",
    "            currentNode = currentNode.nextNode;\n",
    "          \n",
    "        if previousNode is None:\n",
    "\n",
    "            # if the number to remove is the head, let the next one be the head, which is the same as remove the number\n",
    "            self.head = currentNode.nextNode; \n",
    "        \n",
    "        else:\n",
    "            # otherwise, remove the number by pointing its previous node to its next node, which skipped the number,\n",
    "            #same as remove it\n",
    "            previouseNode.nextNode = currentNode.nextNode;\n",
    "            \n",
    "\n",
    "            \n",
    "            "
   ]
  },
  {
   "cell_type": "markdown",
   "metadata": {},
   "source": [
    "## Test:"
   ]
  },
  {
   "cell_type": "code",
   "execution_count": 125,
   "metadata": {},
   "outputs": [],
   "source": [
    "ll = LinkedList(newNode)"
   ]
  },
  {
   "cell_type": "code",
   "execution_count": 126,
   "metadata": {},
   "outputs": [],
   "source": [
    "ll.insertStart(1)\n",
    "ll.insertStart(5)\n"
   ]
  },
  {
   "cell_type": "code",
   "execution_count": 127,
   "metadata": {},
   "outputs": [
    {
     "data": {
      "text/plain": [
       "2"
      ]
     },
     "execution_count": 127,
     "metadata": {},
     "output_type": "execute_result"
    }
   ],
   "source": [
    "ll.get_size()"
   ]
  },
  {
   "cell_type": "code",
   "execution_count": 128,
   "metadata": {},
   "outputs": [],
   "source": [
    "ll.insertEnd(10)"
   ]
  },
  {
   "cell_type": "code",
   "execution_count": 129,
   "metadata": {},
   "outputs": [
    {
     "data": {
      "text/plain": [
       "3"
      ]
     },
     "execution_count": 129,
     "metadata": {},
     "output_type": "execute_result"
    }
   ],
   "source": [
    "ll.get_size()"
   ]
  },
  {
   "cell_type": "code",
   "execution_count": 130,
   "metadata": {},
   "outputs": [
    {
     "name": "stdout",
     "output_type": "stream",
     "text": [
      "5\n",
      "1\n",
      "10\n"
     ]
    }
   ],
   "source": [
    "ll.traverseList()"
   ]
  },
  {
   "cell_type": "code",
   "execution_count": 131,
   "metadata": {},
   "outputs": [],
   "source": [
    "ll.remove(5)"
   ]
  },
  {
   "cell_type": "code",
   "execution_count": 132,
   "metadata": {},
   "outputs": [
    {
     "name": "stdout",
     "output_type": "stream",
     "text": [
      "1\n",
      "10\n"
     ]
    }
   ],
   "source": [
    "ll.traverseList()"
   ]
  },
  {
   "cell_type": "code",
   "execution_count": 133,
   "metadata": {},
   "outputs": [],
   "source": [
    "ll.remove(1)"
   ]
  },
  {
   "cell_type": "code",
   "execution_count": 134,
   "metadata": {},
   "outputs": [
    {
     "name": "stdout",
     "output_type": "stream",
     "text": [
      "10\n"
     ]
    }
   ],
   "source": [
    "ll.traverseList()"
   ]
  },
  {
   "cell_type": "code",
   "execution_count": null,
   "metadata": {},
   "outputs": [],
   "source": []
  }
 ],
 "metadata": {
  "kernelspec": {
   "display_name": "Python 2",
   "language": "python",
   "name": "python2"
  },
  "language_info": {
   "codemirror_mode": {
    "name": "ipython",
    "version": 2
   },
   "file_extension": ".py",
   "mimetype": "text/x-python",
   "name": "python",
   "nbconvert_exporter": "python",
   "pygments_lexer": "ipython2",
   "version": "2.7.10"
  }
 },
 "nbformat": 4,
 "nbformat_minor": 2
}
