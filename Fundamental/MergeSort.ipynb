{
 "cells": [
  {
   "cell_type": "markdown",
   "metadata": {},
   "source": [
    "### MergeSort\n",
    "\n",
    "Yifan Wang"
   ]
  },
  {
   "cell_type": "markdown",
   "metadata": {},
   "source": [
    "\n",
    "Reference: https://www.tutorialspoint.com/data_structures_algorithms/merge_sort_algorithm.htm"
   ]
  },
  {
   "cell_type": "code",
   "execution_count": 108,
   "metadata": {},
   "outputs": [],
   "source": [
    "def merge_sort(list_x):\n",
    "    \n",
    "    if len(list_x)==1:\n",
    "#         print('only 1:')\n",
    "#         print(list_x)    \n",
    "        return list_x\n",
    "\n",
    "    \n",
    "    \n",
    "    mid_point = int(len(list_x)/2)\n",
    "\n",
    "    l1 = list_x[:mid_point];\n",
    "#     print('l1:')\n",
    "#     print(l1)\n",
    "    l2 = list_x[mid_point:];\n",
    "#     print('l2:')\n",
    "#     print(l2)\n",
    "\n",
    "    l1 =merge_sort(l1);\n",
    "    l2 = merge_sort(l2);\n",
    "\n",
    "    return merge(l1,l2) # When last stage\n"
   ]
  },
  {
   "cell_type": "code",
   "execution_count": 109,
   "metadata": {},
   "outputs": [],
   "source": [
    "def merge(l1,l2):\n",
    "#     print('merge activated:')\n",
    "#     print(l1)\n",
    "#     print(l2)\n",
    "    B = []\n",
    "    while len(l1)>0 and len(l2)>0:\n",
    "        if l1[0]<l2[0]:\n",
    "            B.append(l1[0]);\n",
    "            del l1[0];\n",
    "  \n",
    "        else:\n",
    "            B.append(l2[0]);\n",
    "            del l2[0];\n",
    "            \n",
    "    \n",
    "    while len(l1)>0:\n",
    "        B.append(l1[0]);\n",
    "        del l1[0];\n",
    "    while len(l2)>0:\n",
    "        B.append(l2[0]);\n",
    "        del l2[0]\n",
    "#     print('Merge result:')\n",
    "#     print(B)\n",
    "#     print()\n",
    "    return B\n",
    "            "
   ]
  },
  {
   "cell_type": "code",
   "execution_count": 110,
   "metadata": {},
   "outputs": [
    {
     "data": {
      "text/plain": [
       "[1, 3, 4, 5, 8, 9]"
      ]
     },
     "execution_count": 110,
     "metadata": {},
     "output_type": "execute_result"
    }
   ],
   "source": [
    "merge_sort([1,3,9,8,4,5])"
   ]
  },
  {
   "cell_type": "code",
   "execution_count": 111,
   "metadata": {},
   "outputs": [
    {
     "data": {
      "text/plain": [
       "[1, 2, 3, 3, 4, 5, 5]"
      ]
     },
     "execution_count": 111,
     "metadata": {},
     "output_type": "execute_result"
    }
   ],
   "source": [
    "merge_sort([1,5,2,5,3,3,4])"
   ]
  },
  {
   "cell_type": "code",
   "execution_count": 112,
   "metadata": {},
   "outputs": [
    {
     "data": {
      "text/plain": [
       "[1, 7, 10, 20, 32, 43, 100, 999]"
      ]
     },
     "execution_count": 112,
     "metadata": {},
     "output_type": "execute_result"
    }
   ],
   "source": [
    "merge_sort([10,7,100,999,20,1,32,43])"
   ]
  },
  {
   "cell_type": "code",
   "execution_count": null,
   "metadata": {},
   "outputs": [],
   "source": []
  }
 ],
 "metadata": {
  "kernelspec": {
   "display_name": "Python 3",
   "language": "python",
   "name": "python3"
  },
  "language_info": {
   "codemirror_mode": {
    "name": "ipython",
    "version": 3
   },
   "file_extension": ".py",
   "mimetype": "text/x-python",
   "name": "python",
   "nbconvert_exporter": "python",
   "pygments_lexer": "ipython3",
   "version": "3.6.5"
  }
 },
 "nbformat": 4,
 "nbformat_minor": 2
}
