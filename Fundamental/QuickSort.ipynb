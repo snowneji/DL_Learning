{
 "cells": [
  {
   "cell_type": "code",
   "execution_count": 1,
   "metadata": {},
   "outputs": [],
   "source": [
    "d = [2,1,3,4,5]"
   ]
  },
  {
   "cell_type": "code",
   "execution_count": 2,
   "metadata": {},
   "outputs": [],
   "source": [
    "pivot = 5"
   ]
  },
  {
   "cell_type": "code",
   "execution_count": null,
   "metadata": {},
   "outputs": [],
   "source": [
    "d"
   ]
  },
  {
   "cell_type": "code",
   "execution_count": null,
   "metadata": {},
   "outputs": [],
   "source": []
  },
  {
   "cell_type": "code",
   "execution_count": 72,
   "metadata": {},
   "outputs": [],
   "source": [
    "def quickSort(x,start_idx,end_idx):\n",
    "    if start_idx<end_idx:\n",
    "        \n",
    "        par_idx = partition(x,start_idx,end_idx) # partition index\n",
    "        # D&C:\n",
    "        quickSort(x,start_idx,par_idx-1)\n",
    "        quickSort(x,par_idx+1,end_idx)\n",
    "\n",
    "def partition(x,start_idx,end_idx):\n",
    "    pivot = x[end_idx]\n",
    "    \n",
    "    i = start_idx-1 # start with -1 since next will be used as idx 0\n",
    "    \n",
    "    for j in range(start_idx,end_idx): # j is just the index we are looping on\n",
    "\n",
    "        if x[j] < pivot:\n",
    "            i+=1\n",
    "            x[i],x[j] = x[j],x[i] # Swap with the first\n",
    "    \n",
    "    #finally swap pivot with the first element to the right of i, a\n",
    "    x[i+1],x[end_idx] = x[end_idx],x[i+1]\n",
    "    return i+1\n",
    "    \n",
    "    "
   ]
  },
  {
   "cell_type": "code",
   "execution_count": 73,
   "metadata": {},
   "outputs": [],
   "source": [
    "import numpy\n",
    "a = numpy.random.choice(range(100),100)"
   ]
  },
  {
   "cell_type": "code",
   "execution_count": 74,
   "metadata": {
    "scrolled": true
   },
   "outputs": [],
   "source": [
    "quickSort(a,0,99)"
   ]
  },
  {
   "cell_type": "code",
   "execution_count": 75,
   "metadata": {},
   "outputs": [
    {
     "data": {
      "text/plain": [
       "array([ 0,  2,  4,  5,  5,  7,  7,  8,  8, 13, 13, 13, 14, 14, 14, 15, 18,\n",
       "       19, 19, 23, 24, 25, 26, 26, 27, 27, 28, 29, 32, 32, 33, 34, 34, 37,\n",
       "       37, 38, 38, 38, 40, 42, 42, 43, 45, 47, 48, 49, 50, 50, 50, 51, 51,\n",
       "       52, 53, 54, 56, 56, 60, 60, 61, 62, 63, 63, 64, 64, 65, 66, 67, 68,\n",
       "       69, 70, 70, 72, 72, 72, 73, 76, 77, 78, 78, 80, 82, 85, 85, 86, 86,\n",
       "       88, 88, 89, 89, 91, 92, 92, 93, 94, 94, 95, 96, 96, 96, 99])"
      ]
     },
     "execution_count": 75,
     "metadata": {},
     "output_type": "execute_result"
    }
   ],
   "source": [
    "a"
   ]
  },
  {
   "cell_type": "code",
   "execution_count": null,
   "metadata": {},
   "outputs": [],
   "source": []
  }
 ],
 "metadata": {
  "kernelspec": {
   "display_name": "Python 3",
   "language": "python",
   "name": "python3"
  },
  "language_info": {
   "codemirror_mode": {
    "name": "ipython",
    "version": 3
   },
   "file_extension": ".py",
   "mimetype": "text/x-python",
   "name": "python",
   "nbconvert_exporter": "python",
   "pygments_lexer": "ipython3",
   "version": "3.6.4"
  }
 },
 "nbformat": 4,
 "nbformat_minor": 2
}
