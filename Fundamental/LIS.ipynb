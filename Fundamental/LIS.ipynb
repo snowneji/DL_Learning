{
 "cells": [
  {
   "cell_type": "markdown",
   "metadata": {},
   "source": [
    "## LIS - Longest Increasing Subsequence"
   ]
  },
  {
   "cell_type": "code",
   "execution_count": 60,
   "metadata": {},
   "outputs": [],
   "source": [
    "\n",
    "def LIS(sequence:list):\n",
    "    lis = [1 for i in range(len(sequence))]\n",
    "\n",
    "    \n",
    "    # DP:\n",
    "    for idx in range(len(sequence)):\n",
    "        for sub_idx in range(idx):\n",
    "\n",
    "            if sequence[idx] > sequence[sub_idx] and lis[idx] < lis[sub_idx] + 1:\n",
    "\n",
    "                lis[idx] = lis[sub_idx] + 1\n",
    "\n",
    "                \n",
    "                \n",
    "    # cleanup: find max\n",
    "    cur_max = 1\n",
    "\n",
    "    for val in lis:\n",
    "        if val > cur_max:\n",
    "            cur_max = val\n",
    "\n",
    "    return cur_max\n",
    "    "
   ]
  },
  {
   "cell_type": "code",
   "execution_count": 61,
   "metadata": {},
   "outputs": [
    {
     "data": {
      "text/plain": [
       "5"
      ]
     },
     "execution_count": 61,
     "metadata": {},
     "output_type": "execute_result"
    }
   ],
   "source": [
    "sequence = [2,4,1,0,2,5,7,9,2,3]\n",
    "LIS(sequence)"
   ]
  },
  {
   "cell_type": "code",
   "execution_count": 62,
   "metadata": {},
   "outputs": [
    {
     "data": {
      "text/plain": [
       "4"
      ]
     },
     "execution_count": 62,
     "metadata": {},
     "output_type": "execute_result"
    }
   ],
   "source": [
    "sequence = [0,3,5,3,6,3]\n",
    "LIS(sequence)"
   ]
  },
  {
   "cell_type": "code",
   "execution_count": 63,
   "metadata": {},
   "outputs": [
    {
     "data": {
      "text/plain": [
       "3"
      ]
     },
     "execution_count": 63,
     "metadata": {},
     "output_type": "execute_result"
    }
   ],
   "source": [
    "sequence = [0,0,0,3,6,3]\n",
    "LIS(sequence)"
   ]
  },
  {
   "cell_type": "code",
   "execution_count": 64,
   "metadata": {},
   "outputs": [
    {
     "data": {
      "text/plain": [
       "1"
      ]
     },
     "execution_count": 64,
     "metadata": {},
     "output_type": "execute_result"
    }
   ],
   "source": [
    "sequence = [2,1,0,0]\n",
    "LIS(sequence)"
   ]
  },
  {
   "cell_type": "code",
   "execution_count": 66,
   "metadata": {},
   "outputs": [
    {
     "data": {
      "text/plain": [
       "3"
      ]
     },
     "execution_count": 66,
     "metadata": {},
     "output_type": "execute_result"
    }
   ],
   "source": [
    "sequence = [24,2312,3,0,4,2,2,1,5,5,3,0]\n",
    "LIS(sequence)"
   ]
  }
 ],
 "metadata": {
  "kernelspec": {
   "display_name": "Python 3",
   "language": "python",
   "name": "python3"
  },
  "language_info": {
   "codemirror_mode": {
    "name": "ipython",
    "version": 3
   },
   "file_extension": ".py",
   "mimetype": "text/x-python",
   "name": "python",
   "nbconvert_exporter": "python",
   "pygments_lexer": "ipython3",
   "version": "3.6.8"
  }
 },
 "nbformat": 4,
 "nbformat_minor": 2
}
