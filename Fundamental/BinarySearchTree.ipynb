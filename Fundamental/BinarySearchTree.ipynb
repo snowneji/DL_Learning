{
 "cells": [
  {
   "cell_type": "markdown",
   "metadata": {},
   "source": [
    "Key point:\n",
    "   \n",
    "   - The use of recursive algorithm\n",
    "   \n",
    "   - Node deletion when the node has both left and right child:   when both child: look for the predecessor(rightmost leaf node of the left subtree) and swap 2 nodes,then set the old node A (now becomes leaf)to NULL\n",
    "            "
   ]
  },
  {
   "cell_type": "code",
   "execution_count": 2,
   "metadata": {},
   "outputs": [],
   "source": [
    "class Node:\n",
    "    def __init__(self,data):\n",
    "        self.data = data;\n",
    "        self.leftChild = None;\n",
    "        self.rightChild = None;\n",
    "\n",
    "     "
   ]
  },
  {
   "cell_type": "code",
   "execution_count": 94,
   "metadata": {},
   "outputs": [],
   "source": [
    "class BinarySearchTree:\n",
    "    def __init__(self):\n",
    "        self.root = None;\n",
    "        \n",
    "        \n",
    "    def insert(self,data):\n",
    "        if not self.root: # if root node doesn't exist\n",
    "            self.root = Node(data)\n",
    "        else:\n",
    "            self.insertNode(data,self.root)\n",
    "            \n",
    "    def insertNode(self,data,node): \n",
    "        '''\n",
    "        it's O(logN) in the best case(balanced tree) bcz everytime discard half of the tree\n",
    "        '''\n",
    "        if data<node.data:\n",
    "            if node.leftChild:\n",
    "                self.insertNode(data,node.leftChild); # if left occupied, recurs until find one\n",
    "            else:\n",
    "                node.leftChild = Node(data);\n",
    "        else: # data > node\n",
    "            if node.rightChild:\n",
    "                self.insertNode(data,node.rightChild);# if right occupied, recurs until find one\n",
    "            else:\n",
    "                node.rightChild = Node(data)\n",
    "\n",
    "    def getMin(self):\n",
    "        if self.root:\n",
    "            return self.getMinVal(self.root)\n",
    "        \n",
    "    def getMinVal(self,node):\n",
    "        if node.leftChild:\n",
    "            return self.getMinVal(node.leftChild)\n",
    "        \n",
    "        return node.data # until reach the leaf, return the data\n",
    "    \n",
    "    def getMax(self):\n",
    "        if self.root:\n",
    "            return self.getMaxVal(self.root)\n",
    "    \n",
    "    def getMaxVal(self,node):\n",
    "        if node.rightChild:\n",
    "            return self.getMaxVal(node.rightChild)\n",
    "        return node.data # until reach the leaf, return the data\n",
    "    \n",
    "    def traverse(self):\n",
    "        if self.root:\n",
    "             self.traverseVal(self.root)\n",
    "                \n",
    "                \n",
    "    def traverseVal(self,node):\n",
    "        '''at each node, whenever left child is available always recursively travel to the left'''\n",
    "        if node.leftChild:\n",
    "            self.traverseVal(node.leftChild)\n",
    "        print(node.data)\n",
    "        \n",
    "        if node.rightChild:\n",
    "            self.traverseVal(node.rightChild)\n",
    "#         print(node.data)\n",
    "            \n",
    "    \n",
    "    def remove(self,data):\n",
    "        if self.root:\n",
    "            self.removeNode(data,self.root);\n",
    "    def removeNode(self,data,node):\n",
    "        if not node: # if \n",
    "            return node\n",
    "        \n",
    "        if data<node.data:\n",
    "            node.leftChild = self.removeNode(data, node.leftChild)\n",
    "        \n",
    "        elif data>node.data:\n",
    "            node.rightChild  = self.removeNode(data,node.rightChild)\n",
    "            \n",
    "        elif data == node.data:\n",
    "            \n",
    "            \n",
    "            # when leaf node:\n",
    "            if not node.leftChild and not node.rightChild: \n",
    "                del node;\n",
    "                return None; # set the parent node link to none (leaf node)\n",
    "            \n",
    "            \n",
    "            # when only right child:\n",
    "            elif not node.leftChild: \n",
    "                tempNode = node.rightChild\n",
    "                del node;\n",
    "                return tempNode # connect child to their grand parents\n",
    "            \n",
    "            \n",
    "            # when only left child\n",
    "            elif not node.rightChild: \n",
    "                tempNode = node.leftChild;\n",
    "                del node;\n",
    "                return tempNode\n",
    "            \n",
    "            # when both child: look for the predecessor(rightmost leaf node of the left subtree) and swap 2 nodes, \n",
    "            # then set the old node A (now becomes leaf)to NULL\n",
    "            \n",
    "            tempNode = self.getPredecessor(node.leftChild)# rightmost leaf node of the left subtree\n",
    "            node.data = tempNode.data # swap\n",
    "            node.leftChild = self.removeNode(tempNode.data,node.leftChild) # remove the old node\n",
    "            \n",
    "        return node\n",
    "    \n",
    "    def getPredecessor(self,node):\n",
    "        if node.rightChild:\n",
    "            self.getPredecessor(node.rightChild)\n",
    "        return node\n",
    "            "
   ]
  },
  {
   "cell_type": "markdown",
   "metadata": {},
   "source": [
    "### Test:"
   ]
  },
  {
   "cell_type": "code",
   "execution_count": 95,
   "metadata": {},
   "outputs": [],
   "source": [
    "bst = BinarySearchTree()"
   ]
  },
  {
   "cell_type": "code",
   "execution_count": 96,
   "metadata": {},
   "outputs": [],
   "source": [
    "bst.insert(5)"
   ]
  },
  {
   "cell_type": "code",
   "execution_count": 97,
   "metadata": {},
   "outputs": [],
   "source": [
    "bst.insert(7)"
   ]
  },
  {
   "cell_type": "code",
   "execution_count": 98,
   "metadata": {},
   "outputs": [],
   "source": [
    "bst.insert(1)"
   ]
  },
  {
   "cell_type": "code",
   "execution_count": 99,
   "metadata": {},
   "outputs": [],
   "source": [
    "bst.insert(8)"
   ]
  },
  {
   "cell_type": "code",
   "execution_count": 100,
   "metadata": {},
   "outputs": [],
   "source": [
    "bst.insert(4)"
   ]
  },
  {
   "cell_type": "code",
   "execution_count": 101,
   "metadata": {},
   "outputs": [
    {
     "name": "stdout",
     "output_type": "stream",
     "text": [
      "1\n",
      "4\n",
      "5\n",
      "7\n",
      "8\n"
     ]
    }
   ],
   "source": [
    "bst.traverse()"
   ]
  },
  {
   "cell_type": "code",
   "execution_count": 102,
   "metadata": {},
   "outputs": [
    {
     "data": {
      "text/plain": [
       "1"
      ]
     },
     "execution_count": 102,
     "metadata": {},
     "output_type": "execute_result"
    }
   ],
   "source": [
    "bst.getMin()"
   ]
  },
  {
   "cell_type": "code",
   "execution_count": 103,
   "metadata": {},
   "outputs": [
    {
     "data": {
      "text/plain": [
       "8"
      ]
     },
     "execution_count": 103,
     "metadata": {},
     "output_type": "execute_result"
    }
   ],
   "source": [
    "bst.getMax()"
   ]
  },
  {
   "cell_type": "code",
   "execution_count": 104,
   "metadata": {},
   "outputs": [],
   "source": [
    "bst.remove(1)"
   ]
  },
  {
   "cell_type": "code",
   "execution_count": 105,
   "metadata": {},
   "outputs": [
    {
     "name": "stdout",
     "output_type": "stream",
     "text": [
      "4\n",
      "5\n",
      "7\n",
      "8\n"
     ]
    }
   ],
   "source": [
    "bst.traverse()"
   ]
  },
  {
   "cell_type": "code",
   "execution_count": 106,
   "metadata": {},
   "outputs": [],
   "source": [
    "bst.remove(7)"
   ]
  },
  {
   "cell_type": "code",
   "execution_count": 107,
   "metadata": {},
   "outputs": [
    {
     "name": "stdout",
     "output_type": "stream",
     "text": [
      "4\n",
      "5\n",
      "8\n"
     ]
    }
   ],
   "source": [
    "bst.traverse()"
   ]
  },
  {
   "cell_type": "code",
   "execution_count": 108,
   "metadata": {},
   "outputs": [],
   "source": [
    "bst.remove(5)"
   ]
  },
  {
   "cell_type": "code",
   "execution_count": 109,
   "metadata": {},
   "outputs": [
    {
     "name": "stdout",
     "output_type": "stream",
     "text": [
      "4\n",
      "8\n"
     ]
    }
   ],
   "source": [
    "bst.traverse()"
   ]
  },
  {
   "cell_type": "code",
   "execution_count": null,
   "metadata": {},
   "outputs": [],
   "source": []
  }
 ],
 "metadata": {
  "kernelspec": {
   "display_name": "Python 3",
   "language": "python",
   "name": "python3"
  },
  "language_info": {
   "codemirror_mode": {
    "name": "ipython",
    "version": 3
   },
   "file_extension": ".py",
   "mimetype": "text/x-python",
   "name": "python",
   "nbconvert_exporter": "python",
   "pygments_lexer": "ipython3",
   "version": "3.6.4"
  }
 },
 "nbformat": 4,
 "nbformat_minor": 2
}
