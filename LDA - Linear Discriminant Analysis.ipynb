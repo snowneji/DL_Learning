{
 "cells": [
  {
   "cell_type": "markdown",
   "metadata": {},
   "source": [
    "### Load Dataset:"
   ]
  },
  {
   "cell_type": "code",
   "execution_count": 44,
   "metadata": {},
   "outputs": [],
   "source": [
    "from  sklearn.datasets import load_digits\n",
    "import matplotlib.pyplot as plt\n",
    "import random\n",
    "import numpy as np"
   ]
  },
  {
   "cell_type": "code",
   "execution_count": 2,
   "metadata": {},
   "outputs": [],
   "source": [
    "X,y = load_digits(n_class=2, return_X_y=True)"
   ]
  },
  {
   "cell_type": "code",
   "execution_count": 4,
   "metadata": {},
   "outputs": [
    {
     "data": {
      "text/plain": [
       "(360, 64)"
      ]
     },
     "execution_count": 4,
     "metadata": {},
     "output_type": "execute_result"
    }
   ],
   "source": [
    "X.shape"
   ]
  },
  {
   "cell_type": "code",
   "execution_count": 5,
   "metadata": {},
   "outputs": [
    {
     "data": {
      "text/plain": [
       "16.0"
      ]
     },
     "execution_count": 5,
     "metadata": {},
     "output_type": "execute_result"
    }
   ],
   "source": [
    "X.max()"
   ]
  },
  {
   "cell_type": "code",
   "execution_count": 9,
   "metadata": {},
   "outputs": [],
   "source": [
    "X /= X.max()"
   ]
  },
  {
   "cell_type": "code",
   "execution_count": 10,
   "metadata": {},
   "outputs": [
    {
     "data": {
      "text/plain": [
       "1.0"
      ]
     },
     "execution_count": 10,
     "metadata": {},
     "output_type": "execute_result"
    }
   ],
   "source": [
    "X.max()"
   ]
  },
  {
   "cell_type": "code",
   "execution_count": 11,
   "metadata": {},
   "outputs": [
    {
     "data": {
      "text/plain": [
       "0.0"
      ]
     },
     "execution_count": 11,
     "metadata": {},
     "output_type": "execute_result"
    }
   ],
   "source": [
    "X.min()"
   ]
  },
  {
   "cell_type": "code",
   "execution_count": 12,
   "metadata": {},
   "outputs": [
    {
     "data": {
      "text/plain": [
       "(360,)"
      ]
     },
     "execution_count": 12,
     "metadata": {},
     "output_type": "execute_result"
    }
   ],
   "source": [
    "y.shape"
   ]
  },
  {
   "cell_type": "code",
   "execution_count": 35,
   "metadata": {},
   "outputs": [
    {
     "data": {
      "text/plain": [
       "<matplotlib.image.AxesImage at 0x1a21f903c8>"
      ]
     },
     "execution_count": 35,
     "metadata": {},
     "output_type": "execute_result"
    },
    {
     "data": {
      "image/png": "[encoded data removed]",
      "text/plain": [
       "<Figure size 432x288 with 1 Axes>"
      ]
     },
     "metadata": {
      "needs_background": "light"
     },
     "output_type": "display_data"
    }
   ],
   "source": [
    "idx = random.choice(range(len(X)))\n",
    "disp = X[idx].reshape((8,8))*255.\n",
    "plt.imshow(disp)"
   ]
  },
  {
   "cell_type": "code",
   "execution_count": 36,
   "metadata": {},
   "outputs": [
    {
     "data": {
      "text/plain": [
       "<matplotlib.image.AxesImage at 0x1a224593c8>"
      ]
     },
     "execution_count": 36,
     "metadata": {},
     "output_type": "execute_result"
    },
    {
     "data": {
      "image/png": "[encoded data removed]",
      "text/plain": [
       "<Figure size 432x288 with 1 Axes>"
      ]
     },
     "metadata": {
      "needs_background": "light"
     },
     "output_type": "display_data"
    }
   ],
   "source": [
    "idx = random.choice(range(len(X)))\n",
    "disp = X[idx].reshape((8,8))*255.\n",
    "plt.imshow(disp)"
   ]
  },
  {
   "cell_type": "code",
   "execution_count": 63,
   "metadata": {},
   "outputs": [],
   "source": [
    "M,N = X.shape\n",
    "clss = list(set(y))\n",
    "n_cls = len(clss)"
   ]
  },
  {
   "cell_type": "markdown",
   "metadata": {},
   "source": [
    "### First, we need to calculate the mean vector for each feature for each class:"
   ]
  },
  {
   "cell_type": "code",
   "execution_count": 64,
   "metadata": {},
   "outputs": [],
   "source": [
    "\n",
    "mean_vecs = {}\n",
    "\n",
    "for cls in clss:\n",
    "    sub_dat = X[y==cls]\n",
    "    mean_vec = sub_dat.mean(axis=0)\n",
    "    mean_vecs[cls] = mean_vec\n",
    "\n",
    "    "
   ]
  },
  {
   "cell_type": "markdown",
   "metadata": {},
   "source": [
    "### Then, we need to calculate the within-class scatter matrices"
   ]
  },
  {
   "cell_type": "code",
   "execution_count": 73,
   "metadata": {},
   "outputs": [],
   "source": [
    "wc_mat = np.zeros((N,N))# 64x64"
   ]
  },
  {
   "cell_type": "code",
   "execution_count": 74,
   "metadata": {},
   "outputs": [],
   "source": [
    "for cls in clss:\n",
    "    sub_dat = X[y==cls]\n",
    "    for row in sub_dat:\n",
    "        val,mn = row.reshape(-1,1),mean_vecs[cls].reshape(-1,1)\n",
    "        wc_mat +=  np.dot((val-mn),(val-mn).T)"
   ]
  },
  {
   "cell_type": "code",
   "execution_count": 75,
   "metadata": {},
   "outputs": [
    {
     "data": {
      "text/plain": [
       "(64, 64)"
      ]
     },
     "execution_count": 75,
     "metadata": {},
     "output_type": "execute_result"
    }
   ],
   "source": [
    "wc_mat.shape"
   ]
  },
  {
   "cell_type": "markdown",
   "metadata": {},
   "source": [
    "### And between Class scatter matrix:"
   ]
  },
  {
   "cell_type": "code",
   "execution_count": 77,
   "metadata": {},
   "outputs": [],
   "source": [
    "grand_mn = X.mean(axis=0)\n",
    "bc_mat = np.zeros((N,N))# 64x64"
   ]
  },
  {
   "cell_type": "code",
   "execution_count": 78,
   "metadata": {},
   "outputs": [],
   "source": [
    "for cls in clss:\n",
    "    sub_dat = X[y==cls]\n",
    "    for row in sub_dat:\n",
    "        mn = mean_vecs[cls].reshape(-1,1)\n",
    "        bc_mat +=  np.dot((mn-grand_mn),(mn-grand_mn).T)"
   ]
  },
  {
   "cell_type": "code",
   "execution_count": 79,
   "metadata": {},
   "outputs": [
    {
     "data": {
      "text/plain": [
       "(64, 64)"
      ]
     },
     "execution_count": 79,
     "metadata": {},
     "output_type": "execute_result"
    }
   ],
   "source": [
    "bc_mat.shape"
   ]
  },
  {
   "cell_type": "markdown",
   "metadata": {},
   "source": [
    "### Find eigen -val and -vec:"
   ]
  },
  {
   "cell_type": "code",
   "execution_count": 93,
   "metadata": {},
   "outputs": [
    {
     "name": "stdout",
     "output_type": "stream",
     "text": [
      "Eigenvalue 0: 1285352.21785\n",
      "Eigenvalue 1: 3198.59221\n",
      "Eigenvalue 2: 2276.91864\n",
      "Eigenvalue 3: -0.00000\n",
      "Eigenvalue 4: 0.00000\n",
      "Eigenvalue 5: 0.00000\n",
      "Eigenvalue 6: 0.00000\n",
      "Eigenvalue 7: 0.00000\n",
      "Eigenvalue 8: -0.00000\n",
      "Eigenvalue 9: -0.00000\n",
      "Eigenvalue 10: -0.00000\n",
      "Eigenvalue 11: -0.00000\n",
      "Eigenvalue 12: -0.00000\n",
      "Eigenvalue 13: 0.00000\n",
      "Eigenvalue 14: 0.00000\n",
      "Eigenvalue 15: 0.00000\n",
      "Eigenvalue 16: 0.00000\n",
      "Eigenvalue 17: 0.00000\n",
      "Eigenvalue 18: 0.00000\n",
      "Eigenvalue 19: -0.00000\n",
      "Eigenvalue 20: -0.00000\n",
      "Eigenvalue 21: 0.00000\n",
      "Eigenvalue 22: 0.00000\n",
      "Eigenvalue 23: -0.00000\n",
      "Eigenvalue 24: -0.00000\n",
      "Eigenvalue 25: -0.00000\n",
      "Eigenvalue 26: -0.00000\n",
      "Eigenvalue 27: -0.00000\n",
      "Eigenvalue 28: -0.00000\n",
      "Eigenvalue 29: 0.00000\n",
      "Eigenvalue 30: 0.00000\n",
      "Eigenvalue 31: -0.00000\n",
      "Eigenvalue 32: -0.00000\n",
      "Eigenvalue 33: -0.00000\n",
      "Eigenvalue 34: 0.00000\n",
      "Eigenvalue 35: 0.00000\n",
      "Eigenvalue 36: 0.00000\n",
      "Eigenvalue 37: 0.00000\n",
      "Eigenvalue 38: 0.00000\n",
      "Eigenvalue 39: -0.00000\n",
      "Eigenvalue 40: -0.00000\n",
      "Eigenvalue 41: 0.00000\n",
      "Eigenvalue 42: 0.00000\n",
      "Eigenvalue 43: -0.00000\n",
      "Eigenvalue 44: -0.00000\n",
      "Eigenvalue 45: 0.00000\n",
      "Eigenvalue 46: 0.00000\n",
      "Eigenvalue 47: 0.00000\n",
      "Eigenvalue 48: 0.00000\n",
      "Eigenvalue 49: 0.00000\n",
      "Eigenvalue 50: 0.00000\n",
      "Eigenvalue 51: -0.00000\n",
      "Eigenvalue 52: -0.00000\n",
      "Eigenvalue 53: -0.00000\n",
      "Eigenvalue 54: -0.00000\n",
      "Eigenvalue 55: -0.00000\n",
      "Eigenvalue 56: -0.00000\n",
      "Eigenvalue 57: -0.00000\n",
      "Eigenvalue 58: -0.00000\n",
      "Eigenvalue 59: -0.00000\n",
      "Eigenvalue 60: -0.00000\n",
      "Eigenvalue 61: 0.00000\n",
      "Eigenvalue 62: 0.00000\n",
      "Eigenvalue 63: 0.00000\n"
     ]
    }
   ],
   "source": [
    "eig_vals, eig_vecs = np.linalg.eig(np.linalg.pinv(wc_mat).dot(bc_mat))\n",
    "\n",
    "for i in range(len(eig_vals)):\n",
    "    eigvec_sc = eig_vecs[:,i].reshape(N,1)   \n",
    "#     print('\\nEigenvector {}: \\n{}'.format(i+1, eigvec_sc.real))\n",
    "    print('Eigenvalue {:}: {:.5f}'.format(i, eig_vals[i].real))"
   ]
  },
  {
   "cell_type": "code",
   "execution_count": 100,
   "metadata": {},
   "outputs": [],
   "source": [
    "final_mat = eig_vecs[:2].reshape(-1,2)"
   ]
  },
  {
   "cell_type": "code",
   "execution_count": 128,
   "metadata": {},
   "outputs": [],
   "source": [
    "new_X = X.dot(final_mat)"
   ]
  },
  {
   "cell_type": "code",
   "execution_count": 129,
   "metadata": {},
   "outputs": [
    {
     "data": {
      "text/plain": [
       "(360, 2)"
      ]
     },
     "execution_count": 129,
     "metadata": {},
     "output_type": "execute_result"
    }
   ],
   "source": [
    "new_X.shape"
   ]
  },
  {
   "cell_type": "code",
   "execution_count": 130,
   "metadata": {},
   "outputs": [],
   "source": [
    "new_X = np.concatenate([new_X,y.reshape(-1,1)],axis=1)"
   ]
  },
  {
   "cell_type": "code",
   "execution_count": 131,
   "metadata": {},
   "outputs": [
    {
     "data": {
      "text/plain": [
       "(360, 3)"
      ]
     },
     "execution_count": 131,
     "metadata": {},
     "output_type": "execute_result"
    }
   ],
   "source": [
    "new_X.shape"
   ]
  },
  {
   "cell_type": "code",
   "execution_count": 135,
   "metadata": {},
   "outputs": [
    {
     "data": {
      "image/png": "[encoded data removed]",
      "text/plain": [
       "<Figure size 432x288 with 1 Axes>"
      ]
     },
     "metadata": {
      "needs_background": "light"
     },
     "output_type": "display_data"
    }
   ],
   "source": [
    "col = ['red','blue']\n",
    "for i in [0,1]:\n",
    "    s = new_X[new_X[:,2]==i]\n",
    "\n",
    "\n",
    "    plt.scatter(x = s[:,0],y = s[:,1],color=col[i])"
   ]
  }
 ],
 "metadata": {
  "kernelspec": {
   "display_name": "Python 3",
   "language": "python",
   "name": "python3"
  },
  "language_info": {
   "codemirror_mode": {
    "name": "ipython",
    "version": 3
   },
   "file_extension": ".py",
   "mimetype": "text/x-python",
   "name": "python",
   "nbconvert_exporter": "python",
   "pygments_lexer": "ipython3",
   "version": "3.6.7"
  }
 },
 "nbformat": 4,
 "nbformat_minor": 2
}
