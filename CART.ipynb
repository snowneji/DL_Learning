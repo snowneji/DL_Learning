{
 "cells": [
  {
   "cell_type": "markdown",
   "metadata": {},
   "source": [
    "# Classification And Regression Tree -- CART:\n",
    "\n",
    "### Author: Yifan Wang\n",
    "\n",
    "##### Useful resources: \n",
    "\n",
    "* http://www.stat.wisc.edu/~loh/treeprogs/guide/wires11.pdf\n",
    "\n",
    "* ftp://ftp.boulder.ibm.com/software/analytics/spss/support/Stats/Docs/Statistics/Algorithms/14.0/TREE-CART.pdf\n",
    "\n",
    "* https://en.wikipedia.org/wiki/Decision_tree_learning\n",
    "\n",
    "* https://www.quora.com/What-are-the-splitting-criteria-for-a-regression-tree#"
   ]
  },
  {
   "cell_type": "markdown",
   "metadata": {},
   "source": [
    "Some significant different of CART from other algorithm, ID3 specifically (since we've implemented that)\n",
    "\n",
    "* Use gini index instead of information gain to select split for classification\n",
    "\n",
    "* Use max MSE reduction to select split for regression\n",
    "\n",
    "* perform pruning after building the tree (we will not be doing it here, since the reason we build CART is targeting at the gradient boosting next steps)\n",
    "\n",
    "\n",
    "#### Here we will implement both Classification and Regression Trees:"
   ]
  },
  {
   "cell_type": "markdown",
   "metadata": {},
   "source": [
    "### Classification Tree:"
   ]
  },
  {
   "cell_type": "code",
   "execution_count": 1,
   "metadata": {},
   "outputs": [],
   "source": [
    "from sklearn.datasets import load_breast_cancer\n",
    "import numpy as np\n",
    "from collections import Counter"
   ]
  },
  {
   "cell_type": "code",
   "execution_count": 6,
   "metadata": {},
   "outputs": [],
   "source": [
    "class CART_classfier():\n",
    "    'Implementation of CART(Classification and Regression Tree) Decision Tree in Python, majorly in NumPy'\n",
    "    def __init__(self,least_children_num,verbose=True):\n",
    "        self.least_children_num = least_children_num\n",
    "        self.verbose = verbose\n",
    "        \n",
    "    \n",
    "    def fit(self,tmp_x,tmp_y):\n",
    "        def fit_tree(tmp_x,tmp_y):\n",
    "        #     Exit Condition 0:\n",
    "            # Exit Condition 1:\n",
    "            if \\\n",
    "            len(tmp_y) < self.least_children_num or len(np.unique(tmp_y))==1:\n",
    "\n",
    "                if self.verbose:\n",
    "                    print('exit condition:')\n",
    "                    print('tmp_y:')\n",
    "                    print(tmp_y)\n",
    "\n",
    "                mode_val = self.mode(tmp_y.flatten().tolist())\n",
    "                return([np.nan, mode_val, np.nan, np.nan]) # Leaf Node: format [feat,splitval,]\n",
    "\n",
    "            # Otherwise Split:\n",
    "            if self.verbose:\n",
    "                print(\"start....subset Y len {}\".format(len(tmp_y)))\n",
    "\n",
    "\n",
    "            split_row,split_col = self.decide_split_data(tmp_x,tmp_y)\n",
    "\n",
    "            if not split_row and not split_col:\n",
    "                print('no better split...return mode')\n",
    "                mode_val = self.mode(tmp_y.flatten().tolist())\n",
    "                return([np.nan, mode_val, np.nan, np.nan])\n",
    "\n",
    "            if self.verbose:\n",
    "                print(\"split on:\")\n",
    "                print(split_row,split_col)\n",
    "\n",
    "\n",
    "            split_vec = tmp_x[:,split_col]\n",
    "            split_val = tmp_x[split_row,split_col]\n",
    "\n",
    "            # Recursively Split to left and right branches:\n",
    "            left_ind = np.where(split_vec<split_val)[0].tolist()\n",
    "            right_ind = np.where(split_vec>=split_val)[0].tolist()\n",
    "            left_dat,left_y = tmp_x[left_ind,:],tmp_y[left_ind,]\n",
    "            right_dat,right_y = tmp_x[right_ind,:],tmp_y[right_ind,]\n",
    "\n",
    "            left_tree = fit_tree(left_dat,left_y)\n",
    "            right_tree = fit_tree(right_dat,right_y)\n",
    "\n",
    "            if isinstance(left_tree, list): # If list, tree len 1\n",
    "                len_l_tree = 1\n",
    "            else:\n",
    "                len_l_tree = left_tree.shape[0] # If array, tree len >1\n",
    "\n",
    "            root = [split_col,split_val,1,len_l_tree+1] # Format [split_col, split_val, left_tree_relative_idx, right_tree_relative_idx]\n",
    "            return(np.vstack([root,left_tree,right_tree]))\n",
    "        \n",
    "        tree = fit_tree(tmp_x,tmp_y)\n",
    "        self.tree = tree\n",
    "\n",
    "    \n",
    "\n",
    "    def decide_split_data(self,x,y):\n",
    "        'Given subset of X,Y, search for the best splitting node based on: gini index'\n",
    "        def gini_index(tmp_y):\n",
    "            'Key Metrics of building a decision tree. Specifically Gini Index'\n",
    "            tmp_ent = 1\n",
    "            for uni_y in np.unique(tmp_y):\n",
    "                p = len(tmp_y[tmp_y==uni_y])/len(tmp_y)\n",
    "                tmp_ent -= p**2\n",
    "            return tmp_ent\n",
    "\n",
    "        m,n = x.shape\n",
    "        best_gain = 0\n",
    "        split_row, split_col = None,None\n",
    "\n",
    "        previous_gini = gini_index(y)\n",
    "        for col in range(n):\n",
    "            tmp_vec = x[:,col].ravel()\n",
    "\n",
    "            for row in range(m):\n",
    "                val = tmp_vec[row]\n",
    "                # >= & < is my convention here:\n",
    "                if val!=np.max(tmp_vec) and val!= np.min(tmp_vec):\n",
    "                    left_b = np.where(tmp_vec<val)[0].tolist()\n",
    "                    right_b = np.where(tmp_vec>=val)[0].tolist()\n",
    "\n",
    "                    new_gini = \\\n",
    "                    (len(y[left_b])/len(y))*gini_index(y[left_b]) + \\\n",
    "                    (len(y[right_b])/len(y))*gini_index(y[right_b])\n",
    "\n",
    "\n",
    "    #                 print('new entropy: %f'%new_ent)\n",
    "                    gini_gain = previous_gini - new_gini\n",
    "\n",
    "                    if gini_gain > best_gain:\n",
    "                        split_row, split_col = row,col\n",
    "                        best_gain = gini_gain\n",
    "                        if self.verbose:\n",
    "                            print('better gain:{}'.format(best_gain))\n",
    "                            print()\n",
    "\n",
    "        return split_row, split_col\n",
    "                \n",
    "                \n",
    "\n",
    "    def mode(self, x_list):\n",
    "        'calculate the mode'\n",
    "        return Counter(x_list).most_common(1)[0][0]\n",
    "\n",
    "    \n",
    "    \n",
    "\n",
    "    \n",
    "    \n",
    "    \n",
    "\n",
    "    \n",
    "    \n",
    "    \n",
    "    def predict(self, tmp_test_array):\n",
    "        'Wrap-up fun for prediction'\n",
    "        def query(tree,tmp_test_array):\n",
    "            'Test for single example'\n",
    "            assert len(tmp_test_array.shape) == 2, \"Make sure your test data is 2d array\"\n",
    "        #     print(tree)\n",
    "\n",
    "            if isinstance(tree,list):\n",
    "                start_node = tree # only the 1 row in data\n",
    "            else:\n",
    "                start_node = tree[0,:] # Iteratively hit first row\n",
    "        #     print(start_node)\n",
    "        #     print()\n",
    "            test_feat,test_val,left_tree_jump,right_tree_jump = start_node[0],start_node[1],start_node[2],start_node[3]\n",
    "\n",
    "            # Exit Condition:\n",
    "            if np.isnan(test_feat) and np.isnan(left_tree_jump) and np.isnan(right_tree_jump):\n",
    "                pred = test_val;\n",
    "                return pred \n",
    "            #Test:\n",
    "            if tmp_test_array[0,int(test_feat)] < test_val:\n",
    "                # If <, go left branch:\n",
    "                jump_loc = left_tree_jump\n",
    "                pred = query(tree[int(jump_loc):,],tmp_test_array)\n",
    "\n",
    "            else:\n",
    "                # If >=, go right branch:\n",
    "                jump_loc = right_tree_jump\n",
    "                pred = query(tree[int(jump_loc):,],tmp_test_array)\n",
    "\n",
    "            return pred\n",
    "\n",
    "        assert len(tmp_test_array.shape) == 2, \"Make sure your test data is 2d array\"\n",
    "        result = []\n",
    "\n",
    "        for i in range(tmp_test_array.shape[0]):\n",
    "            inp = tmp_test_array[i,:].reshape(1,-1)\n",
    "            result.append(query(self.tree,inp))\n",
    "        return result"
   ]
  },
  {
   "cell_type": "code",
   "execution_count": 7,
   "metadata": {},
   "outputs": [],
   "source": [
    "X,y = load_breast_cancer(return_X_y=True)\n",
    "\n",
    "idx = [i for i in range(len(y))]\n",
    "np.random.seed(1028)\n",
    "np.random.shuffle(idx)"
   ]
  },
  {
   "cell_type": "code",
   "execution_count": 8,
   "metadata": {},
   "outputs": [
    {
     "name": "stdout",
     "output_type": "stream",
     "text": [
      "We will be using 113 validation examples\n"
     ]
    }
   ],
   "source": [
    "val_ratio = 0.2\n",
    "val_num = int(len(y)*val_ratio)\n",
    "\n",
    "print(\"We will be using {} validation examples\".format(val_num))"
   ]
  },
  {
   "cell_type": "code",
   "execution_count": 9,
   "metadata": {},
   "outputs": [],
   "source": [
    "X_train,X_valid = X[val_num:], X[:val_num]\n",
    "y_train,y_valid = y[val_num:], y[:val_num]"
   ]
  },
  {
   "cell_type": "code",
   "execution_count": 10,
   "metadata": {},
   "outputs": [],
   "source": [
    "model = CART_classfier(least_children_num = 3,verbose=False)\n",
    "model.fit(X_train,y_train)"
   ]
  },
  {
   "cell_type": "code",
   "execution_count": 11,
   "metadata": {},
   "outputs": [],
   "source": [
    "# Accuracy Function:\n",
    "accuracy = lambda pred,y:   float(sum([pred[i]==y[i] for i in range(len(y))])) / len(y)"
   ]
  },
  {
   "cell_type": "code",
   "execution_count": 12,
   "metadata": {},
   "outputs": [],
   "source": [
    "pred = model.predict(X_valid)"
   ]
  },
  {
   "cell_type": "code",
   "execution_count": 13,
   "metadata": {},
   "outputs": [
    {
     "data": {
      "text/plain": [
       "0.8761061946902655"
      ]
     },
     "execution_count": 13,
     "metadata": {},
     "output_type": "execute_result"
    }
   ],
   "source": [
    "\n",
    "y_valid_list = y_valid.tolist()\n",
    "\n",
    "\n",
    "accuracy(pred,y_valid_list)"
   ]
  },
  {
   "cell_type": "markdown",
   "metadata": {},
   "source": [
    "### Regression Tree:"
   ]
  },
  {
   "cell_type": "code",
   "execution_count": 14,
   "metadata": {},
   "outputs": [],
   "source": [
    "class CART_regressor():\n",
    "    'Implementation of CART(Classification and Regression Tree) Decision Tree in Python, majorly in NumPy'\n",
    "    def __init__(self,least_children_num,verbose=True):\n",
    "        self.least_children_num = least_children_num\n",
    "        self.verbose = verbose\n",
    "        \n",
    "    \n",
    "    def fit(self,tmp_x,tmp_y):\n",
    "        def fit_tree(tmp_x,tmp_y):\n",
    "        #     Exit Condition 0:\n",
    "            # Exit Condition 1:\n",
    "            if \\\n",
    "            len(tmp_y) < self.least_children_num or len(np.unique(tmp_y))==1:\n",
    "\n",
    "                if self.verbose:\n",
    "                    print('exit condition:')\n",
    "                    print('tmp_y:')\n",
    "                    print(tmp_y)\n",
    "\n",
    "                mode_val = self.mean(tmp_y.flatten().tolist())\n",
    "                return([np.nan, mode_val, np.nan, np.nan]) # Leaf Node: format [feat,splitval,]\n",
    "\n",
    "            # Otherwise Split:\n",
    "            if self.verbose:\n",
    "                print(\"start....subset Y len {}\".format(len(tmp_y)))\n",
    "\n",
    "\n",
    "            split_row,split_col = self.decide_split_data(tmp_x,tmp_y)\n",
    "\n",
    "            if not split_row and not split_col:\n",
    "#                 print('no better split...return mean')\n",
    "                mode_val = self.mean(tmp_y.flatten().tolist())\n",
    "                return([np.nan, mode_val, np.nan, np.nan])\n",
    "\n",
    "            if self.verbose:\n",
    "                print(\"split on:\")\n",
    "                print(split_row,split_col)\n",
    "\n",
    "\n",
    "            split_vec = tmp_x[:,split_col]\n",
    "            split_val = tmp_x[split_row,split_col]\n",
    "\n",
    "            # Recursively Split to left and right branches:\n",
    "            left_ind = np.where(split_vec<split_val)[0].tolist()\n",
    "            right_ind = np.where(split_vec>=split_val)[0].tolist()\n",
    "            left_dat,left_y = tmp_x[left_ind,:],tmp_y[left_ind,]\n",
    "            right_dat,right_y = tmp_x[right_ind,:],tmp_y[right_ind,]\n",
    "\n",
    "            left_tree = fit_tree(left_dat,left_y)\n",
    "            right_tree = fit_tree(right_dat,right_y)\n",
    "\n",
    "            if isinstance(left_tree, list): # If list, tree len 1\n",
    "                len_l_tree = 1\n",
    "            else:\n",
    "                len_l_tree = left_tree.shape[0] # If array, tree len >1\n",
    "\n",
    "            root = [split_col,split_val,1,len_l_tree+1] # Format [split_col, split_val, left_tree_relative_idx, right_tree_relative_idx]\n",
    "            return(np.vstack([root,left_tree,right_tree]))\n",
    "        \n",
    "        tree = fit_tree(tmp_x,tmp_y)\n",
    "        self.tree = tree\n",
    "\n",
    "    \n",
    "\n",
    "    def decide_split_data(self,x,y):\n",
    "        'Given subset of X,Y, search for the best splitting node based on: MSE reduction'\n",
    "        def _MSE(tmp_y):\n",
    "            'Key Metrics of building a decision tree. Specifically MSE'\n",
    "            output = 0\n",
    "            mean_val = np.mean(tmp_y)\n",
    "            \n",
    "            for i in range(len(tmp_y)):\n",
    "                \n",
    "                tmp  = (tmp_y[i] - mean_val)**2\n",
    "                output += tmp\n",
    "            output /= len(tmp_y)\n",
    "            return output\n",
    "\n",
    "        \n",
    "        #---\n",
    "        m,n = x.shape\n",
    "        best_red = 0\n",
    "        split_row, split_col = None,None\n",
    "\n",
    "        previous_mse = _MSE(y)\n",
    "        for col in range(n):\n",
    "            tmp_vec = x[:,col].ravel()\n",
    "\n",
    "            for row in range(m):\n",
    "                val = tmp_vec[row]\n",
    "                # >= & < is my convention here:\n",
    "                if val!=np.max(tmp_vec) and val!= np.min(tmp_vec):\n",
    "                    left_b = np.where(tmp_vec<val)[0].tolist()\n",
    "                    right_b = np.where(tmp_vec>=val)[0].tolist()\n",
    "\n",
    "                    new_mse = \\\n",
    "                    (len(y[left_b])/len(y))*_MSE(y[left_b]) + \\\n",
    "                    (len(y[right_b])/len(y))*_MSE(y[right_b])\n",
    "\n",
    "\n",
    "    #                 print('new entropy: %f'%new_ent)\n",
    "                    mse_red = previous_mse - new_mse\n",
    "\n",
    "                    if mse_red > best_red:\n",
    "                        split_row, split_col = row,col\n",
    "                        best_red = mse_red\n",
    "#                         if self.verbose:\n",
    "#                             print('better red:{}'.format(mse_red))\n",
    "#                             print()\n",
    "\n",
    "        return split_row, split_col\n",
    "                \n",
    "                \n",
    "\n",
    "    def mean(self, x_list):\n",
    "        'calculate the mean'\n",
    "        return np.mean(x_list)\n",
    "\n",
    "    \n",
    "    \n",
    "\n",
    "    \n",
    "    \n",
    "    \n",
    "\n",
    "    \n",
    "    \n",
    "    \n",
    "    def predict(self, tmp_test_array):\n",
    "        'Wrap-up fun for prediction'\n",
    "        def query(tree,tmp_test_array):\n",
    "            'Test for single example'\n",
    "            assert len(tmp_test_array.shape) == 2, \"Make sure your test data is 2d array\"\n",
    "        #     print(tree)\n",
    "\n",
    "            if isinstance(tree,list):\n",
    "                start_node = tree # only the 1 row in data\n",
    "            else:\n",
    "                start_node = tree[0,:] # Iteratively hit first row\n",
    "                \n",
    "            test_feat,test_val,left_tree_jump,right_tree_jump = start_node[0],start_node[1],start_node[2],start_node[3]\n",
    "\n",
    "            # Exit Condition:\n",
    "            if np.isnan(test_feat) and np.isnan(left_tree_jump) and np.isnan(right_tree_jump):\n",
    "                pred = test_val;\n",
    "                return pred \n",
    "            #Test:\n",
    "            if tmp_test_array[0,int(test_feat)] < test_val:\n",
    "                # If <, go left branch:\n",
    "                jump_loc = left_tree_jump\n",
    "                pred = query(tree[int(jump_loc):,],tmp_test_array)\n",
    "\n",
    "            else:\n",
    "                # If >=, go right branch:\n",
    "                jump_loc = right_tree_jump\n",
    "                pred = query(tree[int(jump_loc):,],tmp_test_array)\n",
    "\n",
    "            return pred\n",
    "\n",
    "        assert len(tmp_test_array.shape) == 2, \"Make sure your test data is 2d array\"\n",
    "        result = []\n",
    "\n",
    "        for i in range(tmp_test_array.shape[0]):\n",
    "            inp = tmp_test_array[i,:].reshape(1,-1)\n",
    "            result.append(query(self.tree,inp))\n",
    "        return result"
   ]
  },
  {
   "cell_type": "code",
   "execution_count": 15,
   "metadata": {},
   "outputs": [],
   "source": [
    "# Get regression data from SKlearn\n",
    "from sklearn.datasets import load_boston\n",
    "X,y = load_boston(return_X_y=True)"
   ]
  },
  {
   "cell_type": "markdown",
   "metadata": {},
   "source": [
    "#### Insample Prediction"
   ]
  },
  {
   "cell_type": "code",
   "execution_count": 16,
   "metadata": {},
   "outputs": [],
   "source": [
    "model = CART_regressor(least_children_num = 5,verbose=False)\n",
    "model.fit(X,y)"
   ]
  },
  {
   "cell_type": "code",
   "execution_count": 17,
   "metadata": {},
   "outputs": [],
   "source": [
    "pred = model.predict(X)"
   ]
  },
  {
   "cell_type": "code",
   "execution_count": 18,
   "metadata": {},
   "outputs": [
    {
     "data": {
      "text/plain": [
       "0.9733557312252967"
      ]
     },
     "execution_count": 18,
     "metadata": {},
     "output_type": "execute_result"
    }
   ],
   "source": [
    "# MSE:\n",
    "np.mean((np.array(pred) -  y)**2)"
   ]
  },
  {
   "cell_type": "code",
   "execution_count": 19,
   "metadata": {
    "scrolled": true
   },
   "outputs": [
    {
     "data": {
      "text/plain": [
       "Text(0.5,1,'almost perfect insample prediction')"
      ]
     },
     "execution_count": 19,
     "metadata": {},
     "output_type": "execute_result"
    },
    {
     "data": {
      "image/png": "[encoded data removed]",
      "text/plain": [
       "<matplotlib.figure.Figure at 0x10a3d0b38>"
      ]
     },
     "metadata": {},
     "output_type": "display_data"
    }
   ],
   "source": [
    "import matplotlib.pyplot as plt\n",
    "%matplotlib inline\n",
    "\n",
    "plt.scatter(x = y,y = np.array(pred))\n",
    "plt.gca().set_title('almost perfect insample prediction')\n"
   ]
  },
  {
   "cell_type": "markdown",
   "metadata": {},
   "source": [
    "#### Hold-out validation:"
   ]
  },
  {
   "cell_type": "code",
   "execution_count": 20,
   "metadata": {},
   "outputs": [
    {
     "name": "stdout",
     "output_type": "stream",
     "text": [
      "We will be using 101 validation examples\n"
     ]
    }
   ],
   "source": [
    "idx = [i for i in range(len(y))]\n",
    "np.random.seed(1028)\n",
    "np.random.shuffle(idx)\n",
    "val_ratio = 0.2\n",
    "val_num = int(len(y)*val_ratio)\n",
    "\n",
    "print(\"We will be using {} validation examples\".format(val_num))\n",
    "\n",
    "X_train,X_valid = X[val_num:], X[:val_num]\n",
    "y_train,y_valid = y[val_num:], y[:val_num]"
   ]
  },
  {
   "cell_type": "code",
   "execution_count": 21,
   "metadata": {},
   "outputs": [],
   "source": [
    "model = CART_regressor(least_children_num = 5,verbose=False)\n",
    "model.fit(X_train,y_train)"
   ]
  },
  {
   "cell_type": "code",
   "execution_count": 22,
   "metadata": {},
   "outputs": [],
   "source": [
    "# validation\n",
    "pred = model.predict(X_valid)"
   ]
  },
  {
   "cell_type": "code",
   "execution_count": 23,
   "metadata": {
    "scrolled": true
   },
   "outputs": [
    {
     "data": {
      "text/plain": [
       "14.294261551155115"
      ]
     },
     "execution_count": 23,
     "metadata": {},
     "output_type": "execute_result"
    }
   ],
   "source": [
    "np.mean((np.array(pred) -  y_valid)**2)"
   ]
  },
  {
   "cell_type": "code",
   "execution_count": 24,
   "metadata": {
    "scrolled": true
   },
   "outputs": [
    {
     "data": {
      "text/plain": [
       "Text(0.5,1,\"Not perfect, but it's working\")"
      ]
     },
     "execution_count": 24,
     "metadata": {},
     "output_type": "execute_result"
    },
    {
     "data": {
      "image/png": "[encoded data removed]",
      "text/plain": [
       "<matplotlib.figure.Figure at 0x10b0ab0f0>"
      ]
     },
     "metadata": {},
     "output_type": "display_data"
    }
   ],
   "source": [
    "plt.scatter(x = y_valid,y = np.array(pred))\n",
    "plt.gca().set_title('Not perfect, but it\\'s working')\n"
   ]
  },
  {
   "cell_type": "markdown",
   "metadata": {},
   "source": [
    "### Since we build the CART for gradient boosting, we will not perform pruning here"
   ]
  }
 ],
 "metadata": {
  "kernelspec": {
   "display_name": "Python 3",
   "language": "python",
   "name": "python3"
  },
  "language_info": {
   "codemirror_mode": {
    "name": "ipython",
    "version": 3
   },
   "file_extension": ".py",
   "mimetype": "text/x-python",
   "name": "python",
   "nbconvert_exporter": "python",
   "pygments_lexer": "ipython3",
   "version": "3.6.5"
  }
 },
 "nbformat": 4,
 "nbformat_minor": 2
}
