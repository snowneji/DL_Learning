{
 "cells": [
  {
   "cell_type": "markdown",
   "metadata": {},
   "source": [
    "## Simple RNN Implementation\n",
    "\n",
    "- with tanh activation\n",
    "\n",
    "- with gradient clipping\n",
    "\n",
    "### Author: Yifan Wang"
   ]
  },
  {
   "cell_type": "code",
   "execution_count": 119,
   "metadata": {},
   "outputs": [],
   "source": [
    "import numpy as np\n",
    "import matplotlib.pyplot as plt "
   ]
  },
  {
   "cell_type": "code",
   "execution_count": 120,
   "metadata": {},
   "outputs": [],
   "source": [
    "# Some Helper Functions:\n",
    "def d_tanh(x):\n",
    "\n",
    "    return 1 - np.tanh(x)*np.tanh(x)\n",
    "\n"
   ]
  },
  {
   "cell_type": "code",
   "execution_count": 121,
   "metadata": {},
   "outputs": [],
   "source": [
    "def softmax(x):\n",
    "    '''Softmax'''\n",
    "    return np.exp(x) / np.sum(np.exp(x), axis=1,keepdims=1)\n"
   ]
  },
  {
   "cell_type": "code",
   "execution_count": 122,
   "metadata": {},
   "outputs": [],
   "source": [
    "def d_softmax(x):\n",
    "    J = x[..., None] * x[:, None, :]\n",
    "    iy, ix = np.diag_indices_from(J[0])\n",
    "    J[:, iy, ix] = x * (1. - x)\n",
    "    return J.sum(axis=1)"
   ]
  },
  {
   "cell_type": "markdown",
   "metadata": {},
   "source": [
    "Generally at each time step of forward, we do:\n",
    "\n",
    "    a_now = activation_relu(Waa * a_previous + Wax * X_now  + ba)\n",
    "    y_hat = sigmoid(activation_relu(Wya*a_now + by))\n",
    "    "
   ]
  },
  {
   "cell_type": "markdown",
   "metadata": {},
   "source": [
    "## Construct Data:"
   ]
  },
  {
   "cell_type": "code",
   "execution_count": 123,
   "metadata": {},
   "outputs": [],
   "source": [
    "data = [\n",
    "    'hello',\n",
    "    'halo',\n",
    "    'jello',\n",
    "    'kello',\n",
    "    'yello',\n",
    "    'noon',\n",
    "    'moon',\n",
    "    'soon',\n",
    "    'zoon',\n",
    "    'ten'\n",
    "]\n",
    "data = [list(word) for word in data]"
   ]
  },
  {
   "cell_type": "code",
   "execution_count": 124,
   "metadata": {},
   "outputs": [
    {
     "data": {
      "text/plain": [
       "{'a': 7,\n",
       " 'e': 13,\n",
       " 'h': 9,\n",
       " 'j': 2,\n",
       " 'k': 12,\n",
       " 'l': 3,\n",
       " 'm': 11,\n",
       " 'n': 4,\n",
       " 'o': 10,\n",
       " 's': 5,\n",
       " 't': 6,\n",
       " 'y': 1,\n",
       " 'z': 8}"
      ]
     },
     "execution_count": 124,
     "metadata": {},
     "output_type": "execute_result"
    }
   ],
   "source": [
    "# Dict:\n",
    "c2id = {v:k+1 for k,v in enumerate(set([j for i in data for j in i]))}\n",
    "c2id"
   ]
  },
  {
   "cell_type": "code",
   "execution_count": 125,
   "metadata": {},
   "outputs": [],
   "source": [
    "c2id[''] = 0"
   ]
  },
  {
   "cell_type": "code",
   "execution_count": 126,
   "metadata": {},
   "outputs": [],
   "source": [
    "# Encoding:\n",
    "def dat_encode(data,c2id):\n",
    "    new_data =[]\n",
    "    for word in data:\n",
    "        new_word = []\n",
    "        for char in word:\n",
    "            new_word.append(c2id[char])\n",
    "        new_data.append(new_word)\n",
    "    return new_data"
   ]
  },
  {
   "cell_type": "code",
   "execution_count": 127,
   "metadata": {},
   "outputs": [
    {
     "data": {
      "text/plain": [
       "[[9, 13, 3, 3, 10],\n",
       " [9, 7, 3, 10],\n",
       " [2, 13, 3, 3, 10],\n",
       " [12, 13, 3, 3, 10],\n",
       " [1, 13, 3, 3, 10],\n",
       " [4, 10, 10, 4],\n",
       " [11, 10, 10, 4],\n",
       " [5, 10, 10, 4],\n",
       " [8, 10, 10, 4],\n",
       " [6, 13, 4]]"
      ]
     },
     "execution_count": 127,
     "metadata": {},
     "output_type": "execute_result"
    }
   ],
   "source": [
    "data = dat_encode(data,c2id)\n",
    "data"
   ]
  },
  {
   "cell_type": "code",
   "execution_count": null,
   "metadata": {},
   "outputs": [],
   "source": []
  },
  {
   "cell_type": "code",
   "execution_count": 128,
   "metadata": {},
   "outputs": [],
   "source": [
    "Y = np.array([i[-1] for i in data])"
   ]
  },
  {
   "cell_type": "code",
   "execution_count": 129,
   "metadata": {},
   "outputs": [
    {
     "data": {
      "text/plain": [
       "array([10, 10, 10, 10, 10,  4,  4,  4,  4,  4])"
      ]
     },
     "execution_count": 129,
     "metadata": {},
     "output_type": "execute_result"
    }
   ],
   "source": [
    "Y"
   ]
  },
  {
   "cell_type": "code",
   "execution_count": 130,
   "metadata": {
    "scrolled": true
   },
   "outputs": [],
   "source": [
    "counter = 0\n",
    "array_uniqueYs = np.unique(Y)\n",
    "\n",
    "for uni_Y in array_uniqueYs:\n",
    "    if counter not in np.unique(Y):\n",
    "        Y[Y==uni_Y] = counter\n",
    "        counter += 1\n",
    "\n",
    "\n",
    "    "
   ]
  },
  {
   "cell_type": "code",
   "execution_count": 131,
   "metadata": {},
   "outputs": [
    {
     "data": {
      "text/plain": [
       "array([1, 1, 1, 1, 1, 0, 0, 0, 0, 0])"
      ]
     },
     "execution_count": 131,
     "metadata": {},
     "output_type": "execute_result"
    }
   ],
   "source": [
    "Y"
   ]
  },
  {
   "cell_type": "code",
   "execution_count": 132,
   "metadata": {},
   "outputs": [],
   "source": [
    "Y = Y.tolist()"
   ]
  },
  {
   "cell_type": "code",
   "execution_count": 133,
   "metadata": {},
   "outputs": [
    {
     "data": {
      "text/plain": [
       "[[9, 13, 3, 3],\n",
       " [9, 7, 3],\n",
       " [2, 13, 3, 3],\n",
       " [12, 13, 3, 3],\n",
       " [1, 13, 3, 3],\n",
       " [4, 10, 10],\n",
       " [11, 10, 10],\n",
       " [5, 10, 10],\n",
       " [8, 10, 10],\n",
       " [6, 13]]"
      ]
     },
     "execution_count": 133,
     "metadata": {},
     "output_type": "execute_result"
    }
   ],
   "source": [
    "# Use all letters before to predict the last letter of each word:\n",
    "X = [i[:-1] for i in data]\n",
    "X"
   ]
  },
  {
   "cell_type": "code",
   "execution_count": 134,
   "metadata": {},
   "outputs": [
    {
     "data": {
      "text/plain": [
       "[[9, 13, 3, 3],\n",
       " [9, 7, 3, 0],\n",
       " [2, 13, 3, 3],\n",
       " [12, 13, 3, 3],\n",
       " [1, 13, 3, 3],\n",
       " [4, 10, 10, 0],\n",
       " [11, 10, 10, 0],\n",
       " [5, 10, 10, 0],\n",
       " [8, 10, 10, 0],\n",
       " [6, 13, 0, 0]]"
      ]
     },
     "execution_count": 134,
     "metadata": {},
     "output_type": "execute_result"
    }
   ],
   "source": [
    "# post padding:\n",
    "X = [word+[0]*(max([len(i) for i in X])-len(word)) for word in X]\n",
    "X"
   ]
  },
  {
   "cell_type": "code",
   "execution_count": null,
   "metadata": {},
   "outputs": [],
   "source": []
  },
  {
   "cell_type": "code",
   "execution_count": 135,
   "metadata": {},
   "outputs": [
    {
     "name": "stdout",
     "output_type": "stream",
     "text": [
      "(10, 15, 4)\n"
     ]
    }
   ],
   "source": [
    "#OHE:\n",
    "m = len(X) # sample size\n",
    "n = len(c2id)+1 # feature size:\n",
    "t = max([len(i) for i in X]) # time-step\n",
    "print((m,n,t))"
   ]
  },
  {
   "cell_type": "code",
   "execution_count": 136,
   "metadata": {},
   "outputs": [],
   "source": [
    "dat_mat = np.zeros((m,n,t))"
   ]
  },
  {
   "cell_type": "code",
   "execution_count": 137,
   "metadata": {},
   "outputs": [],
   "source": [
    "ny = len(np.unique(Y))\n",
    "\n",
    "y_mat = np.zeros((m,ny))"
   ]
  },
  {
   "cell_type": "code",
   "execution_count": 138,
   "metadata": {},
   "outputs": [
    {
     "data": {
      "text/plain": [
       "(10, 2)"
      ]
     },
     "execution_count": 138,
     "metadata": {},
     "output_type": "execute_result"
    }
   ],
   "source": [
    "y_mat.shape"
   ]
  },
  {
   "cell_type": "code",
   "execution_count": 139,
   "metadata": {},
   "outputs": [],
   "source": [
    "# Data Preparation for Modeling:\n",
    "\n",
    "for row in range(m):\n",
    "    \n",
    "    word = X[row]\n",
    "    \n",
    "    for ts in range(t):\n",
    "        charidx = word[ts]\n",
    "        \n",
    "        dat_mat[row,charidx,ts] = 1\n",
    "    \n",
    "    yletteridx = Y[row]\n",
    "    \n",
    "    y_mat[row,yletteridx] = 1\n",
    "    \n",
    "    \n",
    "        \n",
    "    "
   ]
  },
  {
   "cell_type": "code",
   "execution_count": 140,
   "metadata": {},
   "outputs": [
    {
     "data": {
      "text/plain": [
       "(10, 15, 4)"
      ]
     },
     "execution_count": 140,
     "metadata": {},
     "output_type": "execute_result"
    }
   ],
   "source": [
    "dat_mat.shape"
   ]
  },
  {
   "cell_type": "code",
   "execution_count": 141,
   "metadata": {},
   "outputs": [
    {
     "data": {
      "text/plain": [
       "(10, 2)"
      ]
     },
     "execution_count": 141,
     "metadata": {},
     "output_type": "execute_result"
    }
   ],
   "source": [
    "y_mat.shape"
   ]
  },
  {
   "cell_type": "markdown",
   "metadata": {},
   "source": [
    "## Modeling:"
   ]
  },
  {
   "cell_type": "code",
   "execution_count": 183,
   "metadata": {},
   "outputs": [],
   "source": [
    "N_EPOCHS = 1000\n",
    "N_HIDDEN = 50\n",
    "LEARNING_RATE = 0.001\n"
   ]
  },
  {
   "cell_type": "code",
   "execution_count": 184,
   "metadata": {},
   "outputs": [
    {
     "name": "stdout",
     "output_type": "stream",
     "text": [
      "Wxa:(15, 50)\n",
      "Waa:(50, 50)\n",
      "Way:(50, 2)\n",
      "ba:(1, 50)\n",
      "by:(1, 2)\n",
      "a0:(10, 50)\n",
      "a:(10, 50, 4)\n",
      "y_pred:(10, 2, 4)\n"
     ]
    }
   ],
   "source": [
    "# Initialize Weight Matrix:\n",
    "np.random.seed(0)\n",
    "Wxa = 2*np.random.random((n,N_HIDDEN))-1\n",
    "print(\"Wxa:{}\".format(Wxa.shape))\n",
    "\n",
    "Waa = 2*np.random.random((N_HIDDEN,N_HIDDEN))-1\n",
    "print(\"Waa:{}\".format(Waa.shape))\n",
    "\n",
    "\n",
    "Way = 2*np.random.random((N_HIDDEN,ny))-1\n",
    "print(\"Way:{}\".format(Way.shape))\n",
    "\n",
    "\n",
    "ba = np.zeros((1,N_HIDDEN))\n",
    "print(\"ba:{}\".format(ba.shape))\n",
    "\n",
    "by = np.zeros((1,ny))\n",
    "print(\"by:{}\".format(by.shape))\n",
    "\n",
    "a0 = 2*np.random.random((m,N_HIDDEN))-1\n",
    "print(\"a0:{}\".format(a0.shape))\n",
    "\n",
    "a = 2*np.random.random((m,N_HIDDEN,t))-1\n",
    "print(\"a:{}\".format(a.shape))\n",
    "\n",
    "\n",
    "y_pred = 2*np.random.random((m,ny,t))-1\n",
    "print(\"y_pred:{}\".format(y_pred.shape))"
   ]
  },
  {
   "cell_type": "code",
   "execution_count": 185,
   "metadata": {},
   "outputs": [],
   "source": [
    "parameters = {\n",
    "    'Wxa':Wxa,\n",
    "    'Waa':Waa,\n",
    "    'Way':Way,\n",
    "    'ba':ba,\n",
    "    'by':by\n",
    "}"
   ]
  },
  {
   "cell_type": "code",
   "execution_count": 186,
   "metadata": {},
   "outputs": [],
   "source": [
    "all_error = []"
   ]
  },
  {
   "cell_type": "code",
   "execution_count": 187,
   "metadata": {
    "scrolled": true
   },
   "outputs": [
    {
     "name": "stdout",
     "output_type": "stream",
     "text": [
      "Epoch 0\n",
      "Predicted:[1 0 1 1 0 0 0 1 1 0]\n",
      "Actual:[1 1 1 1 1 0 0 0 0 0]\n",
      "Error:6.1618266663963945\n",
      "=====================\n",
      "Epoch 10\n",
      "Predicted:[0 0 0 0 0 0 1 0 1 0]\n",
      "Actual:[1 1 1 1 1 0 0 0 0 0]\n",
      "Error:13.086877401232588\n",
      "=====================\n",
      "Epoch 20\n",
      "Predicted:[0 0 1 0 1 0 0 0 0 0]\n",
      "Actual:[1 1 1 1 1 0 0 0 0 0]\n",
      "Error:5.709503980596753\n",
      "=====================\n",
      "Epoch 30\n",
      "Predicted:[0 0 0 0 0 0 0 0 1 0]\n",
      "Actual:[1 1 1 1 1 0 0 0 0 0]\n",
      "Error:9.618305524879649\n",
      "=====================\n",
      "Epoch 40\n",
      "Predicted:[1 0 0 0 1 0 0 0 0 0]\n",
      "Actual:[1 1 1 1 1 0 0 0 0 0]\n",
      "Error:7.192302815048875\n",
      "=====================\n",
      "Epoch 50\n",
      "Predicted:[0 0 1 0 0 1 0 0 0 0]\n",
      "Actual:[1 1 1 1 1 0 0 0 0 0]\n",
      "Error:10.847579227927024\n",
      "=====================\n",
      "Epoch 60\n",
      "Predicted:[0 0 0 0 0 1 1 0 0 0]\n",
      "Actual:[1 1 1 1 1 0 0 0 0 0]\n",
      "Error:11.58851505394955\n",
      "=====================\n",
      "Epoch 70\n",
      "Predicted:[0 1 0 0 1 1 1 1 1 0]\n",
      "Actual:[1 1 1 1 1 0 0 0 0 0]\n",
      "Error:11.447234965318613\n",
      "=====================\n",
      "Epoch 80\n",
      "Predicted:[1 0 1 1 1 1 1 0 0 0]\n",
      "Actual:[1 1 1 1 1 0 0 0 0 0]\n",
      "Error:9.862987382218874\n",
      "=====================\n",
      "Epoch 90\n",
      "Predicted:[1 1 1 1 1 1 1 1 1 1]\n",
      "Actual:[1 1 1 1 1 0 0 0 0 0]\n",
      "Error:9.7936623195593\n",
      "=====================\n",
      "Epoch 100\n",
      "Predicted:[1 1 1 1 1 1 1 1 1 1]\n",
      "Actual:[1 1 1 1 1 0 0 0 0 0]\n",
      "Error:10.323718225628102\n",
      "=====================\n",
      "Epoch 110\n",
      "Predicted:[1 1 1 1 1 1 1 1 1 1]\n",
      "Actual:[1 1 1 1 1 0 0 0 0 0]\n",
      "Error:9.940985121763626\n",
      "=====================\n",
      "Epoch 120\n",
      "Predicted:[1 1 1 1 1 1 1 1 1 1]\n",
      "Actual:[1 1 1 1 1 0 0 0 0 0]\n",
      "Error:9.859601741939304\n",
      "=====================\n",
      "Epoch 130\n",
      "Predicted:[1 1 1 1 1 1 1 1 1 1]\n",
      "Actual:[1 1 1 1 1 0 0 0 0 0]\n",
      "Error:9.873967200120834\n",
      "=====================\n",
      "Epoch 140\n",
      "Predicted:[1 1 1 1 1 1 1 1 1 1]\n",
      "Actual:[1 1 1 1 1 0 0 0 0 0]\n",
      "Error:9.897263288772322\n",
      "=====================\n",
      "Epoch 150\n",
      "Predicted:[1 1 1 1 1 1 1 1 1 1]\n",
      "Actual:[1 1 1 1 1 0 0 0 0 0]\n",
      "Error:9.922882752902167\n",
      "=====================\n",
      "Epoch 160\n",
      "Predicted:[1 1 1 1 1 1 1 1 1 1]\n",
      "Actual:[1 1 1 1 1 0 0 0 0 0]\n",
      "Error:9.892219795652819\n",
      "=====================\n",
      "Epoch 170\n",
      "Predicted:[1 1 1 1 1 1 1 1 1 1]\n",
      "Actual:[1 1 1 1 1 0 0 0 0 0]\n",
      "Error:9.829877739229438\n",
      "=====================\n",
      "Epoch 180\n",
      "Predicted:[1 1 1 1 1 1 1 1 1 1]\n",
      "Actual:[1 1 1 1 1 0 0 0 0 0]\n",
      "Error:9.808991614110589\n",
      "=====================\n",
      "Epoch 190\n",
      "Predicted:[1 1 1 1 1 1 1 1 1 1]\n",
      "Actual:[1 1 1 1 1 0 0 0 0 0]\n",
      "Error:9.762016176011041\n",
      "=====================\n",
      "Epoch 200\n",
      "Predicted:[1 1 1 1 1 1 1 1 1 1]\n",
      "Actual:[1 1 1 1 1 0 0 0 0 0]\n",
      "Error:9.593773817964124\n",
      "=====================\n",
      "Epoch 210\n",
      "Predicted:[1 1 1 1 1 0 0 1 1 1]\n",
      "Actual:[1 1 1 1 1 0 0 0 0 0]\n",
      "Error:8.019391374681431\n",
      "=====================\n",
      "Epoch 220\n",
      "Predicted:[1 1 1 1 1 0 1 1 1 1]\n",
      "Actual:[1 1 1 1 1 0 0 0 0 0]\n",
      "Error:8.670383702968305\n",
      "=====================\n",
      "Epoch 230\n",
      "Predicted:[1 0 1 1 1 1 1 1 0 0]\n",
      "Actual:[1 1 1 1 1 0 0 0 0 0]\n",
      "Error:9.150119209228478\n",
      "=====================\n",
      "Epoch 240\n",
      "Predicted:[0 0 0 0 1 0 1 1 0 1]\n",
      "Actual:[1 1 1 1 1 0 0 0 0 0]\n",
      "Error:12.782324305899227\n",
      "=====================\n",
      "Epoch 250\n",
      "Predicted:[1 1 1 1 1 1 1 0 1 0]\n",
      "Actual:[1 1 1 1 1 0 0 0 0 0]\n",
      "Error:7.019999661256961\n",
      "=====================\n",
      "Epoch 260\n",
      "Predicted:[1 1 1 1 1 0 0 0 1 1]\n",
      "Actual:[1 1 1 1 1 0 0 0 0 0]\n",
      "Error:6.159092805891451\n",
      "=====================\n",
      "Epoch 270\n",
      "Predicted:[1 1 1 1 1 0 0 0 0 0]\n",
      "Actual:[1 1 1 1 1 0 0 0 0 0]\n",
      "Error:1.7826117971617608\n",
      "=====================\n",
      "Epoch 280\n",
      "Predicted:[1 1 1 1 1 0 0 0 0 0]\n",
      "Actual:[1 1 1 1 1 0 0 0 0 0]\n",
      "Error:1.2625515267780079\n",
      "=====================\n",
      "Epoch 290\n",
      "Predicted:[1 1 1 1 1 0 0 0 0 0]\n",
      "Actual:[1 1 1 1 1 0 0 0 0 0]\n",
      "Error:1.0729566651014257\n",
      "=====================\n",
      "Epoch 300\n",
      "Predicted:[1 1 1 1 1 0 0 0 0 0]\n",
      "Actual:[1 1 1 1 1 0 0 0 0 0]\n",
      "Error:0.9590130454037292\n",
      "=====================\n",
      "Epoch 310\n",
      "Predicted:[1 1 1 1 1 0 0 0 0 0]\n",
      "Actual:[1 1 1 1 1 0 0 0 0 0]\n",
      "Error:0.8789906913423777\n",
      "=====================\n",
      "Epoch 320\n",
      "Predicted:[1 1 1 1 1 0 0 0 0 0]\n",
      "Actual:[1 1 1 1 1 0 0 0 0 0]\n",
      "Error:0.8181090208587617\n",
      "=====================\n",
      "Epoch 330\n",
      "Predicted:[1 1 1 1 1 0 0 0 0 0]\n",
      "Actual:[1 1 1 1 1 0 0 0 0 0]\n",
      "Error:0.7694538427035145\n",
      "=====================\n",
      "Epoch 340\n",
      "Predicted:[1 1 1 1 1 0 0 0 0 0]\n",
      "Actual:[1 1 1 1 1 0 0 0 0 0]\n",
      "Error:0.7292575736755499\n",
      "=====================\n",
      "Epoch 350\n",
      "Predicted:[1 1 1 1 1 0 0 0 0 0]\n",
      "Actual:[1 1 1 1 1 0 0 0 0 0]\n",
      "Error:0.6952365083643415\n",
      "=====================\n",
      "Epoch 360\n",
      "Predicted:[1 1 1 1 1 0 0 0 0 0]\n",
      "Actual:[1 1 1 1 1 0 0 0 0 0]\n",
      "Error:0.6309023665086012\n",
      "=====================\n",
      "Epoch 370\n",
      "Predicted:[1 1 1 1 1 0 0 0 0 0]\n",
      "Actual:[1 1 1 1 1 0 0 0 0 0]\n",
      "Error:0.548469026045451\n",
      "=====================\n",
      "Epoch 380\n",
      "Predicted:[1 1 1 1 1 0 0 0 0 0]\n",
      "Actual:[1 1 1 1 1 0 0 0 0 0]\n",
      "Error:0.45168768441156815\n",
      "=====================\n",
      "Epoch 390\n",
      "Predicted:[1 1 1 1 1 0 0 0 0 0]\n",
      "Actual:[1 1 1 1 1 0 0 0 0 0]\n",
      "Error:0.3762124223564662\n",
      "=====================\n",
      "Epoch 400\n",
      "Predicted:[1 1 1 1 1 0 0 0 0 0]\n",
      "Actual:[1 1 1 1 1 0 0 0 0 0]\n",
      "Error:0.3426800042772344\n",
      "=====================\n",
      "Epoch 410\n",
      "Predicted:[1 1 1 1 1 0 0 0 0 0]\n",
      "Actual:[1 1 1 1 1 0 0 0 0 0]\n",
      "Error:0.3308715200355313\n",
      "=====================\n",
      "Epoch 420\n",
      "Predicted:[1 1 1 1 1 0 0 0 0 0]\n",
      "Actual:[1 1 1 1 1 0 0 0 0 0]\n",
      "Error:0.32098492798838985\n",
      "=====================\n",
      "Epoch 430\n",
      "Predicted:[1 1 1 1 1 0 0 0 0 0]\n",
      "Actual:[1 1 1 1 1 0 0 0 0 0]\n",
      "Error:0.3121812659592684\n",
      "=====================\n",
      "Epoch 440\n",
      "Predicted:[1 1 1 1 1 0 0 0 0 0]\n",
      "Actual:[1 1 1 1 1 0 0 0 0 0]\n",
      "Error:0.3041913804844978\n",
      "=====================\n",
      "Epoch 450\n",
      "Predicted:[1 1 1 1 1 0 0 0 0 0]\n",
      "Actual:[1 1 1 1 1 0 0 0 0 0]\n",
      "Error:0.29686637802033505\n",
      "=====================\n",
      "Epoch 460\n",
      "Predicted:[1 1 1 1 1 0 0 0 0 0]\n",
      "Actual:[1 1 1 1 1 0 0 0 0 0]\n",
      "Error:0.29010775987106757\n",
      "=====================\n",
      "Epoch 470\n",
      "Predicted:[1 1 1 1 1 0 0 0 0 0]\n",
      "Actual:[1 1 1 1 1 0 0 0 0 0]\n",
      "Error:0.2838429562184645\n",
      "=====================\n",
      "Epoch 480\n",
      "Predicted:[1 1 1 1 1 0 0 0 0 0]\n",
      "Actual:[1 1 1 1 1 0 0 0 0 0]\n",
      "Error:0.27801467510567857\n",
      "=====================\n",
      "Epoch 490\n",
      "Predicted:[1 1 1 1 1 0 0 0 0 0]\n",
      "Actual:[1 1 1 1 1 0 0 0 0 0]\n",
      "Error:0.27257569449005514\n",
      "=====================\n",
      "Epoch 500\n",
      "Predicted:[1 1 1 1 1 0 0 0 0 0]\n",
      "Actual:[1 1 1 1 1 0 0 0 0 0]\n",
      "Error:0.2674860376582408\n",
      "=====================\n",
      "Epoch 510\n",
      "Predicted:[1 1 1 1 1 0 0 0 0 0]\n",
      "Actual:[1 1 1 1 1 0 0 0 0 0]\n",
      "Error:0.26271128032679963\n",
      "=====================\n",
      "Epoch 520\n",
      "Predicted:[1 1 1 1 1 0 0 0 0 0]\n",
      "Actual:[1 1 1 1 1 0 0 0 0 0]\n",
      "Error:0.25822144082847714\n",
      "=====================\n",
      "Epoch 530\n",
      "Predicted:[1 1 1 1 1 0 0 0 0 0]\n",
      "Actual:[1 1 1 1 1 0 0 0 0 0]\n",
      "Error:0.25399019721247046\n",
      "=====================\n",
      "Epoch 540\n",
      "Predicted:[1 1 1 1 1 0 0 0 0 0]\n",
      "Actual:[1 1 1 1 1 0 0 0 0 0]\n",
      "Error:0.24999430330413336\n",
      "=====================\n",
      "Epoch 550\n",
      "Predicted:[1 1 1 1 1 0 0 0 0 0]\n",
      "Actual:[1 1 1 1 1 0 0 0 0 0]\n",
      "Error:0.24621313503234432\n",
      "=====================\n",
      "Epoch 560\n",
      "Predicted:[1 1 1 1 1 0 0 0 0 0]\n",
      "Actual:[1 1 1 1 1 0 0 0 0 0]\n",
      "Error:0.24262832734637618\n",
      "=====================\n",
      "Epoch 570\n",
      "Predicted:[1 1 1 1 1 0 0 0 0 0]\n",
      "Actual:[1 1 1 1 1 0 0 0 0 0]\n",
      "Error:0.23922347716981857\n",
      "=====================\n",
      "Epoch 580\n",
      "Predicted:[1 1 1 1 1 0 0 0 0 0]\n",
      "Actual:[1 1 1 1 1 0 0 0 0 0]\n",
      "Error:0.23598389626059324\n",
      "=====================\n",
      "Epoch 590\n",
      "Predicted:[1 1 1 1 1 0 0 0 0 0]\n",
      "Actual:[1 1 1 1 1 0 0 0 0 0]\n",
      "Error:0.23289640284675608\n",
      "=====================\n",
      "Epoch 600\n",
      "Predicted:[1 1 1 1 1 0 0 0 0 0]\n",
      "Actual:[1 1 1 1 1 0 0 0 0 0]\n",
      "Error:0.22994914405649014\n",
      "=====================\n",
      "Epoch 610\n",
      "Predicted:[1 1 1 1 1 0 0 0 0 0]\n",
      "Actual:[1 1 1 1 1 0 0 0 0 0]\n",
      "Error:0.22713144324472184\n",
      "=====================\n",
      "Epoch 620\n",
      "Predicted:[1 1 1 1 1 0 0 0 0 0]\n",
      "Actual:[1 1 1 1 1 0 0 0 0 0]\n",
      "Error:0.22443366775466272\n",
      "=====================\n",
      "Epoch 630\n",
      "Predicted:[1 1 1 1 1 0 0 0 0 0]\n",
      "Actual:[1 1 1 1 1 0 0 0 0 0]\n",
      "Error:0.22184711367309648\n",
      "=====================\n",
      "Epoch 640\n",
      "Predicted:[1 1 1 1 1 0 0 0 0 0]\n",
      "Actual:[1 1 1 1 1 0 0 0 0 0]\n",
      "Error:0.2193639048810468\n",
      "=====================\n",
      "Epoch 650\n",
      "Predicted:[1 1 1 1 1 0 0 0 0 0]\n",
      "Actual:[1 1 1 1 1 0 0 0 0 0]\n",
      "Error:0.2169769042520658\n",
      "=====================\n",
      "Epoch 660\n",
      "Predicted:[1 1 1 1 1 0 0 0 0 0]\n",
      "Actual:[1 1 1 1 1 0 0 0 0 0]\n",
      "Error:0.2146796352646481\n",
      "=====================\n",
      "Epoch 670\n",
      "Predicted:[1 1 1 1 1 0 0 0 0 0]\n",
      "Actual:[1 1 1 1 1 0 0 0 0 0]\n",
      "Error:0.21246621261098492\n",
      "=====================\n",
      "Epoch 680\n",
      "Predicted:[1 1 1 1 1 0 0 0 0 0]\n",
      "Actual:[1 1 1 1 1 0 0 0 0 0]\n",
      "Error:0.2103312806278607\n",
      "=====================\n",
      "Epoch 690\n",
      "Predicted:[1 1 1 1 1 0 0 0 0 0]\n",
      "Actual:[1 1 1 1 1 0 0 0 0 0]\n",
      "Error:0.20826995856585484\n",
      "=====================\n",
      "Epoch 700\n",
      "Predicted:[1 1 1 1 1 0 0 0 0 0]\n",
      "Actual:[1 1 1 1 1 0 0 0 0 0]\n",
      "Error:0.20627779186369938\n",
      "=====================\n",
      "Epoch 710\n",
      "Predicted:[1 1 1 1 1 0 0 0 0 0]\n",
      "Actual:[1 1 1 1 1 0 0 0 0 0]\n",
      "Error:0.20435070871569197\n",
      "=====================\n",
      "Epoch 720\n",
      "Predicted:[1 1 1 1 1 0 0 0 0 0]\n",
      "Actual:[1 1 1 1 1 0 0 0 0 0]\n",
      "Error:0.20248498131864331\n",
      "=====================\n",
      "Epoch 730\n",
      "Predicted:[1 1 1 1 1 0 0 0 0 0]\n",
      "Actual:[1 1 1 1 1 0 0 0 0 0]\n",
      "Error:0.20067719126624622\n",
      "=====================\n",
      "Epoch 740\n",
      "Predicted:[1 1 1 1 1 0 0 0 0 0]\n",
      "Actual:[1 1 1 1 1 0 0 0 0 0]\n",
      "Error:0.198924198626843\n",
      "=====================\n",
      "Epoch 750\n",
      "Predicted:[1 1 1 1 1 0 0 0 0 0]\n",
      "Actual:[1 1 1 1 1 0 0 0 0 0]\n",
      "Error:0.1972231142981596\n",
      "=====================\n",
      "Epoch 760\n",
      "Predicted:[1 1 1 1 1 0 0 0 0 0]\n",
      "Actual:[1 1 1 1 1 0 0 0 0 0]\n",
      "Error:0.19557127528169305\n",
      "=====================\n",
      "Epoch 770\n",
      "Predicted:[1 1 1 1 1 0 0 0 0 0]\n",
      "Actual:[1 1 1 1 1 0 0 0 0 0]\n",
      "Error:0.19396622256163815\n",
      "=====================\n",
      "Epoch 780\n",
      "Predicted:[1 1 1 1 1 0 0 0 0 0]\n",
      "Actual:[1 1 1 1 1 0 0 0 0 0]\n",
      "Error:0.19240568130972754\n",
      "=====================\n",
      "Epoch 790\n",
      "Predicted:[1 1 1 1 1 0 0 0 0 0]\n",
      "Actual:[1 1 1 1 1 0 0 0 0 0]\n",
      "Error:0.19088754316893733\n",
      "=====================\n",
      "Epoch 800\n",
      "Predicted:[1 1 1 1 1 0 0 0 0 0]\n",
      "Actual:[1 1 1 1 1 0 0 0 0 0]\n",
      "Error:0.1894098503965648\n",
      "=====================\n",
      "Epoch 810\n",
      "Predicted:[1 1 1 1 1 0 0 0 0 0]\n",
      "Actual:[1 1 1 1 1 0 0 0 0 0]\n",
      "Error:0.18797078167111167\n",
      "=====================\n",
      "Epoch 820\n",
      "Predicted:[1 1 1 1 1 0 0 0 0 0]\n",
      "Actual:[1 1 1 1 1 0 0 0 0 0]\n",
      "Error:0.18656863938847976\n",
      "=====================\n",
      "Epoch 830\n",
      "Predicted:[1 1 1 1 1 0 0 0 0 0]\n",
      "Actual:[1 1 1 1 1 0 0 0 0 0]\n",
      "Error:0.18520183829133896\n",
      "=====================\n",
      "Epoch 840\n",
      "Predicted:[1 1 1 1 1 0 0 0 0 0]\n",
      "Actual:[1 1 1 1 1 0 0 0 0 0]\n",
      "Error:0.18386889529178588\n",
      "=====================\n",
      "Epoch 850\n",
      "Predicted:[1 1 1 1 1 0 0 0 0 0]\n",
      "Actual:[1 1 1 1 1 0 0 0 0 0]\n",
      "Error:0.18256842036175294\n",
      "=====================\n",
      "Epoch 860\n",
      "Predicted:[1 1 1 1 1 0 0 0 0 0]\n",
      "Actual:[1 1 1 1 1 0 0 0 0 0]\n",
      "Error:0.18129910837835897\n",
      "=====================\n",
      "Epoch 870\n",
      "Predicted:[1 1 1 1 1 0 0 0 0 0]\n",
      "Actual:[1 1 1 1 1 0 0 0 0 0]\n",
      "Error:0.18005973182276214\n",
      "=====================\n",
      "Epoch 880\n",
      "Predicted:[1 1 1 1 1 0 0 0 0 0]\n",
      "Actual:[1 1 1 1 1 0 0 0 0 0]\n",
      "Error:0.1788491342412633\n",
      "=====================\n",
      "Epoch 890\n",
      "Predicted:[1 1 1 1 1 0 0 0 0 0]\n",
      "Actual:[1 1 1 1 1 0 0 0 0 0]\n",
      "Error:0.1776662243865477\n",
      "=====================\n"
     ]
    },
    {
     "name": "stdout",
     "output_type": "stream",
     "text": [
      "Epoch 900\n",
      "Predicted:[1 1 1 1 1 0 0 0 0 0]\n",
      "Actual:[1 1 1 1 1 0 0 0 0 0]\n",
      "Error:0.176509970965246\n",
      "=====================\n",
      "Epoch 910\n",
      "Predicted:[1 1 1 1 1 0 0 0 0 0]\n",
      "Actual:[1 1 1 1 1 0 0 0 0 0]\n",
      "Error:0.1753793979254859\n",
      "=====================\n",
      "Epoch 920\n",
      "Predicted:[1 1 1 1 1 0 0 0 0 0]\n",
      "Actual:[1 1 1 1 1 0 0 0 0 0]\n",
      "Error:0.1742735802248656\n",
      "=====================\n",
      "Epoch 930\n",
      "Predicted:[1 1 1 1 1 0 0 0 0 0]\n",
      "Actual:[1 1 1 1 1 0 0 0 0 0]\n",
      "Error:0.17319164002551826\n",
      "=====================\n",
      "Epoch 940\n",
      "Predicted:[1 1 1 1 1 0 0 0 0 0]\n",
      "Actual:[1 1 1 1 1 0 0 0 0 0]\n",
      "Error:0.17213274326848335\n",
      "=====================\n",
      "Epoch 950\n",
      "Predicted:[1 1 1 1 1 0 0 0 0 0]\n",
      "Actual:[1 1 1 1 1 0 0 0 0 0]\n",
      "Error:0.1710960965847359\n",
      "=====================\n",
      "Epoch 960\n",
      "Predicted:[1 1 1 1 1 0 0 0 0 0]\n",
      "Actual:[1 1 1 1 1 0 0 0 0 0]\n",
      "Error:0.17008094450486638\n",
      "=====================\n",
      "Epoch 970\n",
      "Predicted:[1 1 1 1 1 0 0 0 0 0]\n",
      "Actual:[1 1 1 1 1 0 0 0 0 0]\n",
      "Error:0.16908656693354993\n",
      "=====================\n",
      "Epoch 980\n",
      "Predicted:[1 1 1 1 1 0 0 0 0 0]\n",
      "Actual:[1 1 1 1 1 0 0 0 0 0]\n",
      "Error:0.16811227685880228\n",
      "=====================\n",
      "Epoch 990\n",
      "Predicted:[1 1 1 1 1 0 0 0 0 0]\n",
      "Actual:[1 1 1 1 1 0 0 0 0 0]\n",
      "Error:0.16715741826938466\n",
      "=====================\n"
     ]
    }
   ],
   "source": [
    "\n",
    "for i in range(N_EPOCHS): # error after 10\n",
    "    \n",
    "    \n",
    "    a_prev = a0\n",
    "    caches = []\n",
    "    overall_error = 0\n",
    "\n",
    "    \n",
    "    ##### Forward Propagate #####\n",
    "    # initialization of  gradients\n",
    "    dx = np.zeros((dat_mat.shape))#6-14-4  #m-n-t\n",
    "    dWxa = np.zeros(Wxa.shape)\n",
    "    dWaa = np.zeros(Waa.shape)\n",
    "    dWay = np.zeros(Way.shape)\n",
    "    dba = np.zeros(ba.shape)\n",
    "    dby = np.zeros(by.shape)\n",
    "    da0 = np.zeros(a0.shape)\n",
    "    da = np.zeros(a.shape)\n",
    "    da_prevt = np.zeros(a0.shape)\n",
    "\n",
    "\n",
    "    layer_2_deltas = np.zeros((m,ny,t))\n",
    "\n",
    "    \n",
    "    print_error = 0\n",
    "    for ts in range(t):\n",
    "        # a-state, passing to next t-step\n",
    "        a_next = np.tanh(np.dot(dat_mat[:,:,ts],Wxa) + np.dot(a_prev,Waa) + ba)  # m-hidden\n",
    "        a[:,:,ts] = a_next\n",
    "        # prediction of current time step:\n",
    "        yt_pred = softmax(np.dot(a_next,Way)+by)\n",
    "        y_pred[:,:,ts] = yt_pred  \n",
    "        # save a for next t-step\n",
    "        a_prev = a_next\n",
    "        # cost of current t-step:\n",
    "        cost = y_mat-yt_pred\n",
    "        # output layer error rate : error* dtanh()\n",
    "        layer_2_delta=cost*d_softmax(yt_pred)\n",
    "        layer_2_deltas[:,:,ts] = layer_2_delta #6-14\n",
    "        print_error=np.sum(np.abs(cost))\n",
    "        cache = (a_next, a_prev, dat_mat[:,:,ts], parameters)\n",
    "        caches.append(cache)\n",
    "        #######################\n",
    "    \n",
    "    all_error.append(print_error)\n",
    "    \n",
    "    if i%10==0:\n",
    "        print('Epoch {}'.format(i))\n",
    "        print_pred = np.argmax(yt_pred,axis=-1)\n",
    "        print(\"Predicted:{}\".format(print_pred))\n",
    "        print(\"Actual:{}\".format(np.argmax(y_mat,axis=-1)))\n",
    "        print(\"Error:{}\".format( print_error))\n",
    "        print('=====================')\n",
    "\n",
    "\n",
    "\n",
    "\n",
    "\n",
    "        \n",
    "\n",
    "\n",
    "        \n",
    "\n",
    "    # Prepare:\n",
    "    #Get pars from f-prop:\n",
    "    (a1, a0, x1, parameters) = caches[0]\n",
    "    # initialize:\n",
    "    next_delta = np.zeros((m,N_HIDDEN))\n",
    "    # Figure out how to get Da\n",
    "\n",
    "    \n",
    "    \n",
    "    \n",
    "    \n",
    "    \n",
    "    # Back Propagate:\n",
    "    for ts in reversed(range(t)):\n",
    "        cache = caches[ts]\n",
    "        (a_now, a_prev, x_now, parameters) = cache\n",
    "        Wxa = parameters[\"Wxa\"]\n",
    "        Waa = parameters[\"Waa\"]\n",
    "        Way = parameters[\"Way\"]\n",
    "        ba = parameters[\"ba\"]\n",
    "        by = parameters[\"by\"]\n",
    "        # y_pred error rate\n",
    "        layer_2_delta = layer_2_deltas[:,:,ts]\n",
    "        # propagate back:\n",
    "\n",
    "        \n",
    "\n",
    "#         else:\n",
    "#             da_now = np.dot(next_delta,Waa)**d_tanh(a_now)\n",
    "\n",
    "        # update the prediction_t branch:\n",
    "        dWayt = np.dot(a_now.T,layer_2_delta)\n",
    "        \n",
    "        \n",
    "        #update the first layer: Waa, Wxa by  combining a_now and y_pred output\n",
    "        # next_delta:  delta from next_time_step's  a\n",
    "        # layer_2_delta: error rate from this time step's Y_pred\n",
    "#         if ts ==t-1:\n",
    "        da_now = (np.dot(next_delta,Waa) +  np.dot(layer_2_delta,Way.T))*d_tanh(a_now)      \n",
    "#         else: \n",
    "#             da_now = (np.dot(next_delta,Waa))*d_tanh(a_now) \n",
    "            \n",
    "            \n",
    "        dWaat = np.dot( da_now.T,a_prev) #20-20\n",
    "        dWxat = np.dot(x_now.T,da_now) # 14-20\n",
    "        dbat = np.sum( d_tanh(a_now),keepdims=True,axis=0)\n",
    "        next_delta = da_now\n",
    "        dxt = np.dot(da_now,Wxa.T)#6-14\n",
    "\n",
    "\n",
    "        \n",
    "\n",
    "        \n",
    "        \n",
    "        dWxa += dWxat\n",
    "        dWaa += dWaat\n",
    "        dWay += dWayt\n",
    "        dba += dbat\n",
    "\n",
    "\n",
    "    # Gradient Clipping to avoid Gradient Exploding:\n",
    "    dWxa = np.clip(dWxa,-50,50)\n",
    "    dWaa = np.clip(dWaa,-50,50)\n",
    "    dWay = np.clip(dWay,-50,50)\n",
    "    dba = np.clip(dba,-50,50)\n",
    "\n",
    "\n",
    "    # Updating\n",
    "    Wxa+=LEARNING_RATE*dWxa\n",
    "    Waa+=LEARNING_RATE*dWaa\n",
    "    Way+=LEARNING_RATE*dWay\n",
    "    ba+=LEARNING_RATE*dba\n",
    "\n",
    "    # resetting\n",
    "    dWxat *= 0 \n",
    "    dWaat *= 0\n",
    "    dWayt *= 0  \n",
    "    dbat  *= 0\n",
    "    \n",
    "    \n",
    "    \n",
    "    \n",
    "    \n"
   ]
  },
  {
   "cell_type": "code",
   "execution_count": 188,
   "metadata": {},
   "outputs": [
    {
     "data": {
      "text/plain": [
       "[<matplotlib.lines.Line2D at 0x10913d588>]"
      ]
     },
     "execution_count": 188,
     "metadata": {},
     "output_type": "execute_result"
    },
    {
     "data": {
      "image/png": "[encoded data removed]",
      "text/plain": [
       "<matplotlib.figure.Figure at 0x10932b7b8>"
      ]
     },
     "metadata": {},
     "output_type": "display_data"
    }
   ],
   "source": [
    "plt.plot(all_error)\n"
   ]
  },
  {
   "cell_type": "code",
   "execution_count": null,
   "metadata": {},
   "outputs": [],
   "source": []
  }
 ],
 "metadata": {
  "kernelspec": {
   "display_name": "Python 3",
   "language": "python",
   "name": "python3"
  },
  "language_info": {
   "codemirror_mode": {
    "name": "ipython",
    "version": 3
   },
   "file_extension": ".py",
   "mimetype": "text/x-python",
   "name": "python",
   "nbconvert_exporter": "python",
   "pygments_lexer": "ipython3",
   "version": "3.6.4"
  }
 },
 "nbformat": 4,
 "nbformat_minor": 2
}
