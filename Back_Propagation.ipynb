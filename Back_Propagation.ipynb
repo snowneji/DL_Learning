{
 "cells": [
  {
   "cell_type": "markdown",
   "metadata": {},
   "source": [
    "### Back Propagation Implementation\n",
    "\n",
    "#### Author: Yifan Wang\n",
    "#### Reference: Andrew Ng's Deep Learning Course Notes\n"
   ]
  },
  {
   "cell_type": "code",
   "execution_count": 207,
   "metadata": {},
   "outputs": [],
   "source": [
    "import numpy as np\n",
    "import matplotlib.pyplot as plt\n",
    "import sklearn\n",
    "from sklearn.datasets import load_digits\n",
    "import sklearn.linear_model\n",
    "import matplotlib.pyplot as plt"
   ]
  },
  {
   "cell_type": "code",
   "execution_count": 208,
   "metadata": {
    "scrolled": true
   },
   "outputs": [],
   "source": [
    "# Helper Functions:\n",
    "def sigmoid(x):\n",
    "    return 1/(1+ np.exp(-x))\n",
    "\n",
    "\n",
    "def load_data(split = 0.8):\n",
    "    digits = load_digits(n_class=2)\n",
    "    data = digits.data\n",
    "    label = digits.target\n",
    "    perm = np.random.permutation([i for i in range(data.shape[0])])\n",
    "    data = data[perm,:]\n",
    "    label = label[perm]\n",
    "    n_split = int(data.shape[0]*split)\n",
    "    X_train = data[:n_split,:]\n",
    "    X_test = data[n_split:,:]\n",
    "    y_train = label[:n_split].reshape((-1,1))\n",
    "    y_test = label[n_split:].reshape((-1,1))\n",
    "    return (X_train,y_train,X_test,y_test)\n",
    "\n",
    "\n",
    "def layer_sizes(X, Y, n_hidden):\n",
    "    n_x = X.shape[1] \n",
    "    n_h = n_hidden\n",
    "    n_y = 1\n",
    "    return (n_x, n_h, n_y)\n",
    "\n",
    "def initialize_parameters(n_x, n_h, n_y):\n",
    "    np.random.seed(0) \n",
    "    W1 = np.random.randn(n_x,n_h) * 0.01\n",
    "    b1 = np.zeros(shape=(1,n_h))\n",
    "    W2 = np.random.randn(n_h,n_y) * 0.01\n",
    "    b2 = np.zeros(shape=(1,n_y))\n",
    "    assert (W1.shape == (n_x,n_h))\n",
    "    assert (b1.shape == (1,n_h))\n",
    "    assert (W2.shape == (n_h,n_y))\n",
    "    assert (b2.shape == (1,n_y))\n",
    "    \n",
    "    parameters = {\"W1\": W1,\n",
    "                  \"b1\": b1,\n",
    "                  \"W2\": W2,\n",
    "                  \"b2\": b2}\n",
    "    \n",
    "    return parameters\n",
    "\n",
    "\n",
    "def f_propagation(X, parameters):\n",
    "    # Load Pars:\n",
    "    W1 = parameters['W1']\n",
    "    b1 = parameters['b1']\n",
    "    W2 = parameters['W2']\n",
    "    b2 = parameters['b2']\n",
    "    # f-prop:\n",
    "    Z1 = np.dot(X,W1)+b1\n",
    "    A1 = sigmoid(Z1)\n",
    "    Z2 = np.dot(A1,W2) + b2\n",
    "    A2 = sigmoid(Z2)\n",
    "    assert(A2.shape == (X.shape[0],1))\n",
    "    cache = {\"Z1\": Z1,\n",
    "             \"A1\": A1,\n",
    "             \"Z2\": Z2,\n",
    "             \"A2\": A2}\n",
    "    return A2, cache\n",
    "\n",
    "\n",
    "\n",
    "def cost(A2, Y):    \n",
    "    m = Y.shape[0] # number of example\n",
    "    #cross-entropy: -sum(  log(A2)*Y + (1-Y)*log(1-A2) ) / m\n",
    "    logprobs = np.multiply(np.log(A2), Y) + np.multiply((1 - Y), np.log(1 - A2))#cross-entropy cost\n",
    "    cost = - np.sum(logprobs) / m\n",
    "    cost = np.squeeze(cost)# dimension assurance\n",
    "    assert(isinstance(cost, float))\n",
    "    return cost\n",
    "\n",
    "\n",
    "\n",
    "\n",
    "def b_propagation(parameters, cache, X, Y):\n",
    "    m = X.shape[0]\n",
    "    # Pars:\n",
    "    W1 = parameters['W1']\n",
    "    W2 = parameters['W2']\n",
    "    A1 = cache['A1']\n",
    "    A2 = cache['A2']\n",
    "    # Back-prop:\n",
    "    dZ2= A2 - Y\n",
    "#     print(dZ2.shape)\n",
    "    dW2 = (1 / m) * np.dot(dZ2.T, A1)\n",
    "#     print(dW2.shape)\n",
    "    db2 = (1 / m) * np.sum(dZ2, axis=0, keepdims=True)\n",
    "#     print(db2.shape)\n",
    "    dZ1 = np.multiply(np.dot(dZ2,W2.T), 1 - np.power(A1, 2))\n",
    "    dW1 = (1 / m) * np.dot(dZ1.T, X)\n",
    "    db1 = (1 / m) * np.sum(dZ1, axis=0, keepdims=True)\n",
    "    grads = {\"dW1\": dW1,\n",
    "             \"db1\": db1,\n",
    "             \"dW2\": dW2,\n",
    "             \"db2\": db2}\n",
    "    \n",
    "    return grads"
   ]
  },
  {
   "cell_type": "code",
   "execution_count": 209,
   "metadata": {
    "scrolled": true
   },
   "outputs": [],
   "source": [
    "# Load Data:\n",
    "X_train,y_train,X_test,y_test = load_data(0.75)"
   ]
  },
  {
   "cell_type": "code",
   "execution_count": 210,
   "metadata": {},
   "outputs": [
    {
     "name": "stdout",
     "output_type": "stream",
     "text": [
      "(64, 5, 1)\n"
     ]
    }
   ],
   "source": [
    "# Set NN size:\n",
    "n_x, n_h, n_y = layer_sizes(X_train,y_train,5)\n",
    "print((n_x, n_h, n_y))"
   ]
  },
  {
   "cell_type": "code",
   "execution_count": 211,
   "metadata": {},
   "outputs": [],
   "source": [
    "# Initialize Parameters\n",
    "parameters = initialize_parameters(n_x, n_h, n_y)"
   ]
  },
  {
   "cell_type": "code",
   "execution_count": 212,
   "metadata": {
    "scrolled": false
   },
   "outputs": [
    {
     "name": "stdout",
     "output_type": "stream",
     "text": [
      "cost = 0.6928160418254008\n",
      "cost = 0.37893247665743335\n"
     ]
    },
    {
     "name": "stderr",
     "output_type": "stream",
     "text": [
      "/usr/local/lib/python3.6/site-packages/ipykernel_launcher.py:3: RuntimeWarning: overflow encountered in exp\n",
      "  This is separate from the ipykernel package so we can avoid doing imports until\n"
     ]
    },
    {
     "name": "stdout",
     "output_type": "stream",
     "text": [
      "cost = 0.2657351449667643\n",
      "cost = 0.2106814021848447\n",
      "cost = 0.16796790753733348\n",
      "cost = 0.15655366406012863\n",
      "cost = 0.12769821666456652\n",
      "cost = 0.10765042038419405\n",
      "cost = 0.10515273014133644\n",
      "cost = 0.09369221485792743\n",
      "cost = 0.0818224525674031\n",
      "cost = 0.07183012070865986\n",
      "cost = 0.06912047702990388\n",
      "cost = 0.06833811975988302\n",
      "cost = 0.06805976311355147\n",
      "cost = 0.06787030919037955\n",
      "cost = 0.05642953554472784\n",
      "cost = 0.05492648102753574\n",
      "cost = 0.05435936049544898\n",
      "cost = 0.054190736348432356\n",
      "cost = 0.054072192475149966\n",
      "cost = 0.05398306754752965\n",
      "cost = 0.05391268782805899\n",
      "cost = 0.04271338630270712\n",
      "cost = 0.04175774680211142\n",
      "cost = 0.04099196929410778\n",
      "cost = 0.0403599323648305\n",
      "cost = 0.03982453599145919\n",
      "cost = 0.03935470772120829\n",
      "cost = 0.03904261601542163\n",
      "cost = 0.038980878011736574\n",
      "cost = 0.038934534710158265\n",
      "cost = 0.0388983054057595\n",
      "cost = 0.02797321910415808\n",
      "cost = 0.022714585949979302\n",
      "cost = 0.020970973296852574\n",
      "cost = 0.019782752627317435\n",
      "cost = 0.018745527833785858\n",
      "cost = 0.017828468243505317\n",
      "cost = 0.01700961244262445\n",
      "cost = 0.01677475086107937\n",
      "cost = 0.007483401319738914\n",
      "cost = 0.006592297365072839\n",
      "cost = 0.0064044749494757015\n",
      "cost = 0.01293195617236609\n",
      "cost = 0.025679343429662195\n",
      "cost = 0.005965472896714888\n",
      "cost = 0.029147788318072694\n",
      "cost = 0.013328006091657647\n",
      "cost = 0.005550574512941341\n",
      "cost = 0.03682224688219044\n",
      "cost = 0.006243802805564969\n",
      "cost = 0.005170275485029181\n",
      "cost = 0.03495663225775524\n",
      "cost = 0.005341099261317749\n",
      "cost = 0.004833514317011419\n",
      "cost = 0.031156812057838053\n",
      "cost = 0.0055174608716905115\n",
      "cost = 0.025630425534282734\n",
      "cost = 0.006181722108885591\n",
      "cost = 0.012261621964777666\n",
      "cost = 0.004756208192701973\n",
      "cost = 0.00904494773308166\n",
      "cost = 0.004204562904339585\n",
      "cost = 0.0041628354372077354\n",
      "cost = 0.0040722517108370505\n",
      "cost = 0.005022307139432935\n",
      "cost = 0.03179527832375639\n",
      "cost = 0.03149854892053966\n",
      "cost = 0.03090521450340373\n",
      "cost = 0.030148540465483088\n",
      "cost = 0.02114166238982642\n",
      "cost = 0.019938557861146473\n",
      "cost = 0.0035881907721646965\n",
      "cost = 0.0035754976756439613\n",
      "cost = 0.011304868991792083\n",
      "cost = 0.02060151207761419\n",
      "cost = 0.010928400699372308\n",
      "cost = 0.03060002534435787\n",
      "cost = 0.0033174865732202\n",
      "cost = 0.003270750688044975\n",
      "cost = 0.012615438900880955\n",
      "cost = 0.005863514510312816\n",
      "cost = 0.003422899795552533\n",
      "cost = 0.0031124049936018675\n",
      "cost = 0.0030730798949702804\n",
      "cost = 0.0033000691214716345\n",
      "cost = 0.0031718888403828344\n",
      "cost = 0.0029657740759589796\n",
      "cost = 0.012504259329874349\n",
      "cost = 0.0028980069407985062\n",
      "cost = 0.013657367095535316\n",
      "cost = 0.0032565459588588417\n",
      "cost = 0.00316183143107092\n",
      "cost = 0.003085499372800457\n",
      "cost = 0.0027328703635026855\n",
      "cost = 0.0027040911986025177\n",
      "cost = 0.0026750989332762353\n",
      "cost = 0.00265081613070441\n",
      "cost = 0.002624670192073899\n"
     ]
    }
   ],
   "source": [
    "l_r = 0.05\n",
    "costs = []\n",
    "for i in range(50000):\n",
    "    # Forward Propagation\n",
    "    A2, cache = f_propagation(X_train, parameters)\n",
    "    # Compute cost:\n",
    "    if i%500==0:\n",
    "        cst = cost(A2, y_train)\n",
    "        print(\"cost = \" + str(cst))\n",
    "        costs.append(cst)\n",
    "    # Back Prop:\n",
    "    grads = b_propagation(parameters, cache, X_train, y_train)\n",
    "    # Update:\n",
    "    parameters['W1'] -= l_r*grads['dW1'].T\n",
    "    parameters['b1'] -= l_r*grads['db1']\n",
    "    parameters['W2'] -= l_r*grads['dW2'].T\n",
    "    parameters['b2'] -= l_r*grads['db2']"
   ]
  },
  {
   "cell_type": "code",
   "execution_count": 213,
   "metadata": {},
   "outputs": [
    {
     "data": {
      "text/plain": [
       "[<matplotlib.lines.Line2D at 0x10eee3ac8>]"
      ]
     },
     "execution_count": 213,
     "metadata": {},
     "output_type": "execute_result"
    },
    {
     "data": {
      "image/png": "[encoded data removed]",
      "text/plain": [
       "<matplotlib.figure.Figure at 0x10ef332b0>"
      ]
     },
     "metadata": {},
     "output_type": "display_data"
    }
   ],
   "source": [
    "plt.plot(costs)"
   ]
  }
 ],
 "metadata": {
  "kernelspec": {
   "display_name": "Python 3",
   "language": "python",
   "name": "python3"
  },
  "language_info": {
   "codemirror_mode": {
    "name": "ipython",
    "version": 3
   },
   "file_extension": ".py",
   "mimetype": "text/x-python",
   "name": "python",
   "nbconvert_exporter": "python",
   "pygments_lexer": "ipython3",
   "version": "3.6.4"
  }
 },
 "nbformat": 4,
 "nbformat_minor": 2
}
