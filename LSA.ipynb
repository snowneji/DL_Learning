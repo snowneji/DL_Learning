{
 "cells": [
  {
   "cell_type": "markdown",
   "metadata": {},
   "source": [
    "### Latent Semantic Analysis\n",
    "\n",
    "#### Author: Yifan Wang"
   ]
  },
  {
   "cell_type": "markdown",
   "metadata": {},
   "source": [
    "LSA is a classic method for information retrieval for text documents, we will implement LSA to extract latent topic in some text documents.\n",
    "\n",
    "\n",
    "Basic Architecture of LSA:\n",
    "\n",
    "1.  TFIDF to get score for each word\n",
    "\n",
    "2. Construct TFIDF matrix\n",
    "\n",
    "3. Performs SVD to extract the latent topics"
   ]
  },
  {
   "cell_type": "markdown",
   "metadata": {},
   "source": [
    "Following are the helper modules of TFIDF and SVD:"
   ]
  },
  {
   "cell_type": "code",
   "execution_count": 134,
   "metadata": {},
   "outputs": [],
   "source": [
    "import numpy as np\n",
    "from collections import Counter\n",
    "from nltk.corpus import stopwords\n",
    "\n",
    "\n",
    "# TFIDF Algorithm\n",
    "class TFIDF(object):\n",
    "    def __init__ (self, stopwords):\n",
    "        self.stopwords = stopwords\n",
    "        \n",
    "        \n",
    "    def tokenizer(self,data):\n",
    "        '''tokenize text into list of words and Remove SW'''\n",
    "\n",
    "\n",
    "        data = [x.lower().split() for x in data]\n",
    "\n",
    "        # Remove Stopwords:\n",
    "        clean_data = []\n",
    "        for doc in data:\n",
    "            clean_data.append([w for w in doc if w not in self.stopwords])\n",
    "        \n",
    "        self.data = clean_data\n",
    "#         print(self.data)\n",
    "    \n",
    "    \n",
    "    def tfidf_word2id(self):\n",
    "        # Word to Index\n",
    "        new_data = []\n",
    "        word2id = {}\n",
    "        counter = 1\n",
    "        for doc in self.data:\n",
    "            new_doc = []\n",
    "            for tok in doc:\n",
    "                if tok not in word2id:\n",
    "                    word2id[tok] = str(counter)\n",
    "                    counter += 1\n",
    "\n",
    "                new_doc.append(word2id[tok])\n",
    "            new_data.append(new_doc)\n",
    "\n",
    "        self.word2id = word2id\n",
    "        self.data = new_data\n",
    "\n",
    "    \n",
    "    def term_freq(self):\n",
    "        tf = []\n",
    "        for doc in self.data:\n",
    "            doc_count = Counter(doc)\n",
    "            doc_tf = { x: doc_count[x]/len(doc) for x in doc_count}\n",
    "            tf.append(doc_tf)\n",
    "        self.tf  = tf\n",
    "    \n",
    "    def inv_doc_freq(self):\n",
    "        idf = {}\n",
    "        idxs = list(set([j for i in self.data for j in i]))\n",
    "        N = len(self.data)\n",
    "        for idx in idxs:\n",
    "            nd = len([doc for doc in self.data if idx in doc])\n",
    "            idf[idx] = np.log10(1+ (N/nd))\n",
    "        self.idf = idf\n",
    "        \n",
    "    def tfidf_raw(self):\n",
    "        results = []\n",
    "        for doc in self.tf:\n",
    "            result = {}\n",
    "            for idx in doc:\n",
    "                result[idx] = doc[idx] * self.idf[idx]\n",
    "            results.append(result)\n",
    "        self.tfidf_raw_results = results\n",
    "    \n",
    "    def tfidf_id2word(self):\n",
    "        tfidf_results = []\n",
    "        self.id2word = {v: k for k, v in self.word2id.items()}\n",
    "        \n",
    "        for doc in self.tfidf_raw_results:\n",
    "            res = {}\n",
    "            for idx in doc:\n",
    "#                 print(idx)\n",
    "#                 print(self.id2word[idx])\n",
    "#                 print(doc[idx])\n",
    "#                 print('---')\n",
    "                \n",
    "                res[self.id2word[idx]] = doc[idx]\n",
    "            tfidf_results.append(res)\n",
    "        return tfidf_results\n",
    "        \n",
    "    \n",
    "    def fit(self,X):\n",
    "        self.tokenizer(X)\n",
    "        self.tfidf_word2id()\n",
    "        self.term_freq()\n",
    "        self.inv_doc_freq()\n",
    "        self.tfidf_raw()\n",
    "        \n",
    "\n",
    "\n",
    "        \n",
    "        \n",
    "        "
   ]
  },
  {
   "cell_type": "markdown",
   "metadata": {},
   "source": [
    "Let's first get our test data and stopwords(default collection of stopwords in NLTK):"
   ]
  },
  {
   "cell_type": "code",
   "execution_count": 160,
   "metadata": {},
   "outputs": [],
   "source": [
    "data = [\n",
    "    'i love my lunch',\n",
    "    'how do you think the weather today',\n",
    "    'what do you like to eat for your lunch',\n",
    "    'i hate school',\n",
    "    'ice cream is bad for your health',\n",
    "    'not going to school today',\n",
    "    'which movie do you like to watch',\n",
    "    'i love to drink coke',\n",
    "    'too much food make me fat',\n",
    "    'do you think the weather will be better',\n",
    "    'movie quality really depends on the genre',\n",
    "    'school is the place to study',\n",
    "    'what kind of food do you like to eat',\n",
    "    'learn make me feel happy',\n",
    "    'i think the weather will be sunny tomorrow',\n",
    "    'what is your favorite subject to lear',\n",
    "    'what do you like for lunch',\n",
    "    'what is your favorite subject at school',\n",
    "    'tomorrow might be sunny',\n",
    "    'going to cinema to watch something',\n",
    "    'my favorite lunch is noodle',\n",
    "    'i hate to study english',\n",
    "    'do you think tomorrow will be rainy',\n",
    "    'actions movies are the worst',\n",
    "    'do you like eat pizza',\n",
    "    'lets go to learn something',\n",
    "    'sunny or windy which one prefer for today',\n",
    "    'what genre do you like in cinema',\n",
    "    'pizza or ice cream what we go for',\n",
    "    'is english your favorite subject',\n",
    "    'hope tomorrow will not be windy',\n",
    "    'i prefer action than romance genre'\n",
    "]\n",
    "\n",
    "# Stopwords:\n",
    "sw = list(set(stopwords.words('english')))"
   ]
  },
  {
   "cell_type": "code",
   "execution_count": 161,
   "metadata": {},
   "outputs": [],
   "source": [
    "# Pre-label the data:\n",
    "label = [\n",
    "    'food','weather','food','school',\n",
    "    'food','school','movie','food',\n",
    "    'food','weather','movie','school',\n",
    "    'food','learn','weather','learn',\n",
    "    'food','school','weather','movie',\n",
    "    'food','learn', 'weather','movie',\n",
    "    'food', 'learn', 'weather','movie',\n",
    "    'food','learn','weather','movie'\n",
    "    \n",
    "]"
   ]
  },
  {
   "cell_type": "code",
   "execution_count": 162,
   "metadata": {},
   "outputs": [
    {
     "data": {
      "text/plain": [
       "32"
      ]
     },
     "execution_count": 162,
     "metadata": {},
     "output_type": "execute_result"
    }
   ],
   "source": [
    "len(data)"
   ]
  },
  {
   "cell_type": "code",
   "execution_count": 163,
   "metadata": {},
   "outputs": [
    {
     "data": {
      "text/plain": [
       "32"
      ]
     },
     "execution_count": 163,
     "metadata": {},
     "output_type": "execute_result"
    }
   ],
   "source": [
    "len(label)"
   ]
  },
  {
   "cell_type": "markdown",
   "metadata": {},
   "source": [
    "Get TFIDF score:"
   ]
  },
  {
   "cell_type": "code",
   "execution_count": 164,
   "metadata": {},
   "outputs": [],
   "source": [
    "\n",
    "tfidf = TFIDF(stopwords=sw)\n",
    "tfidf.fit(data)\n",
    "res = tfidf.tfidf_id2word()"
   ]
  },
  {
   "cell_type": "code",
   "execution_count": 165,
   "metadata": {},
   "outputs": [
    {
     "data": {
      "text/plain": [
       "[{'love': 0.6152244606891369, 'lunch': 0.47712125471966244},\n",
       " {'think': 0.3180808364797749,\n",
       "  'today': 0.355648929876871,\n",
       "  'weather': 0.355648929876871},\n",
       " {'eat': 0.355648929876871,\n",
       "  'like': 0.26721078207772214,\n",
       "  'lunch': 0.3180808364797749}]"
      ]
     },
     "execution_count": 165,
     "metadata": {},
     "output_type": "execute_result"
    }
   ],
   "source": [
    "# Peek some tfidf scores:\n",
    "res[:3]"
   ]
  },
  {
   "cell_type": "markdown",
   "metadata": {},
   "source": [
    "Now let's construct TFIDF Matrix:"
   ]
  },
  {
   "cell_type": "code",
   "execution_count": 166,
   "metadata": {},
   "outputs": [
    {
     "data": {
      "text/plain": [
       "array([[0.61522446, 0.47712125, 0.        , 0.        , 0.        ],\n",
       "       [0.        , 0.        , 0.31808084, 0.35564893, 0.35564893],\n",
       "       [0.        , 0.31808084, 0.        , 0.        , 0.        ],\n",
       "       [0.        , 0.        , 0.        , 0.        , 0.        ],\n",
       "       [0.        , 0.        , 0.        , 0.        , 0.        ]])"
      ]
     },
     "execution_count": 166,
     "metadata": {},
     "output_type": "execute_result"
    }
   ],
   "source": [
    "#word to index dict:\n",
    "word_idx = tfidf.word2id\n",
    "# Initialize tfidf matrix:\n",
    "tfidf_mat = np.zeros((len(res),len(word_idx)))\n",
    "\n",
    "\n",
    "# Fill the values\n",
    "for doc_i in range(len(res)):\n",
    "    doc = res[doc_i]\n",
    "    for key in doc:\n",
    "        tfidf_mat[doc_i,int(word_idx[key])-1 ] = doc[key]\n",
    "        \n",
    "        \n",
    "    \n",
    "# Peek our tfidf matrix:  Each row is a document, each column is a word, the values are the tfidf scores:  \n",
    "    \n",
    "tfidf_mat[:5,:5] "
   ]
  },
  {
   "cell_type": "markdown",
   "metadata": {},
   "source": [
    "Finally we can use SVD to get the latent topics.\n",
    "We will borrow Numpy's implementation to make the work easier:"
   ]
  },
  {
   "cell_type": "code",
   "execution_count": 167,
   "metadata": {},
   "outputs": [],
   "source": [
    "from numpy import linalg as la\n",
    "import matplotlib.pyplot as plt\n",
    "\n",
    "#Transpose the mat for svd:\n",
    "tfidf_mat_t = tfidf_mat.T\n",
    "\n",
    "U,sigma,V=la.svd(tfidf_mat)"
   ]
  },
  {
   "cell_type": "code",
   "execution_count": 168,
   "metadata": {},
   "outputs": [
    {
     "name": "stdout",
     "output_type": "stream",
     "text": [
      "11\n"
     ]
    }
   ],
   "source": [
    "# Let's use the sigular values to determine the dimension: \n",
    "def get_svd_dim(sigma):\n",
    "    sv_sum = np.sum(sigma)\n",
    "    total = 0\n",
    "    for i in range(len(sigma)):\n",
    "        val = sigma[i]\n",
    "        total += val\n",
    "        if total > .5 * sv_sum:\n",
    "            return(i)\n",
    "\n",
    "svd_dim = get_svd_dim(sigma)       \n",
    "print(svd_dim)"
   ]
  },
  {
   "cell_type": "code",
   "execution_count": 169,
   "metadata": {},
   "outputs": [],
   "source": [
    "def reconstruction(U,sigma,svd_dim):\n",
    "    return  U.dot(np.diag(sigma)[:,:svd_dim])"
   ]
  },
  {
   "cell_type": "code",
   "execution_count": 170,
   "metadata": {},
   "outputs": [],
   "source": [
    "new_mat = reconstruction(U,sigma,svd_dim)"
   ]
  },
  {
   "cell_type": "code",
   "execution_count": 171,
   "metadata": {},
   "outputs": [
    {
     "name": "stdout",
     "output_type": "stream",
     "text": [
      "[20.0, 15.0]\n"
     ]
    },
    {
     "data": {
      "image/png": "[encoded data removed]",
      "text/plain": [
       "<matplotlib.figure.Figure at 0x113b32a58>"
      ]
     },
     "metadata": {},
     "output_type": "display_data"
    }
   ],
   "source": [
    "\n",
    "# Let's view the first 2 dimensions, similar topics are together:\n",
    "\n",
    "\n",
    "fig_size = plt.rcParams[\"figure.figsize\"]\n",
    "print(fig_size)\n",
    "fig_size[0] = 20\n",
    "fig_size[1] = 15\n",
    "plt.rcParams[\"figure.figsize\"] = fig_size\n",
    "\n",
    "\n",
    "fig,ax = plt.subplots()\n",
    "x = new_mat[:,0]\n",
    "y = new_mat[:,1]\n",
    "ax.scatter(x = x,y = y)\n",
    "\n",
    "for i,txt in enumerate(label):\n",
    "    ax.annotate(txt, (x[i], y[i]))\n",
    "\n"
   ]
  },
  {
   "cell_type": "code",
   "execution_count": null,
   "metadata": {},
   "outputs": [],
   "source": []
  }
 ],
 "metadata": {
  "kernelspec": {
   "display_name": "Python 3",
   "language": "python",
   "name": "python3"
  },
  "language_info": {
   "codemirror_mode": {
    "name": "ipython",
    "version": 3
   },
   "file_extension": ".py",
   "mimetype": "text/x-python",
   "name": "python",
   "nbconvert_exporter": "python",
   "pygments_lexer": "ipython3",
   "version": "3.6.4"
  }
 },
 "nbformat": 4,
 "nbformat_minor": 2
}
