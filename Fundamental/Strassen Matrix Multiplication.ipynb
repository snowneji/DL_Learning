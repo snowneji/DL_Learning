{
 "cells": [
  {
   "cell_type": "markdown",
   "metadata": {},
   "source": [
    "### Numpy Implementation of Strassen Matrix Multiplication"
   ]
  },
  {
   "cell_type": "code",
   "execution_count": 74,
   "metadata": {},
   "outputs": [],
   "source": [
    "import numpy as np\n",
    "'''\n",
    "Numpy Implementation\n",
    "'''\n",
    "def split_mat(X,mdp):\n",
    "    '''\n",
    "    Matrix Split.\n",
    "    Input:\n",
    "        X: nxn matrix\n",
    "        mdp: middle of of the matrix\n",
    "    Output:\n",
    "        4 sub matrices in the format of:\n",
    "            a b\n",
    "            c c\n",
    "    '''\n",
    "    a = X[:mdp,:mdp]\n",
    "    b = X[:mdp,mdp:]\n",
    "    c = X[mdp:,:mdp]\n",
    "    d = X[mdp:,mdp:]\n",
    "    return a,b,c,d\n",
    "\n",
    "\n",
    "def np_strassen(X,Y):\n",
    "    '''\n",
    "    Input:\n",
    "        nxn integer matrices X and Y\n",
    "    Output:\n",
    "        Z = X.Y\n",
    "    Assume:\n",
    "        n is power of 2     \n",
    "    '''\n",
    "    n = len(X)\n",
    "    assert n==X.shape[0]==X.shape[1]==Y.shape[0] == Y.shape[1]\n",
    "    \n",
    "    \n",
    "    if n==1:\n",
    "        return X*Y\n",
    "    \n",
    "    \n",
    "    \n",
    "    mdp = len(X)//2 #middle point\n",
    "    # Divide into sub-matrices\n",
    "    A,B,C,D = split_mat(X,mdp)\n",
    "    E,F,G,H = split_mat(Y,mdp)\n",
    "    p1 = np_strassen(A,F-H)\n",
    "    p2 = np_strassen(A+B,H)\n",
    "    p3 = np_strassen(C+D,E)\n",
    "    p4 = np_strassen(D,G-E)\n",
    "    p5 = np_strassen(A+D,E+H)\n",
    "    p6 = np_strassen(B-D,G+H)\n",
    "    p7 = np_strassen(A-C,E+F)    \n",
    "    # Strassen:\n",
    "    upper_left = p5+p4-p2+p6\n",
    "    upper_right = p1+p2\n",
    "    lower_left = p3+p4\n",
    "    lower_right = p1+p5-p3-p7\n",
    "    # Construct New:\n",
    "    final_output = np.zeros((len(upper_left)*2,len(upper_left)*2)) \n",
    "    final_output[:len(upper_left),:len(upper_left)] = upper_left\n",
    "    final_output[len(upper_left):,:len(upper_left)] = lower_left\n",
    "    final_output[:len(upper_left),len(upper_left):] = upper_right\n",
    "    final_output[len(upper_left):,len(upper_left):] = lower_right\n",
    "    \n",
    "    return final_output"
   ]
  },
  {
   "cell_type": "code",
   "execution_count": 75,
   "metadata": {},
   "outputs": [],
   "source": [
    "X = np.array([[1,2,1,1],[3,4,1,2],[5,2,3,1],[4,2,2,5]])\n",
    "Y = np.array([[5,6,10,1],[1,1,7,8],[2,1,2,1],[3,5,2,-1]])"
   ]
  },
  {
   "cell_type": "markdown",
   "metadata": {},
   "source": [
    "Test0:"
   ]
  },
  {
   "cell_type": "code",
   "execution_count": 76,
   "metadata": {},
   "outputs": [
    {
     "data": {
      "text/plain": [
       "array([[12., 14., 28., 17.],\n",
       "       [27., 33., 64., 34.],\n",
       "       [36., 40., 72., 23.],\n",
       "       [41., 53., 68., 17.]])"
      ]
     },
     "execution_count": 76,
     "metadata": {},
     "output_type": "execute_result"
    }
   ],
   "source": [
    "np_strassen(X,Y)"
   ]
  },
  {
   "cell_type": "code",
   "execution_count": 77,
   "metadata": {},
   "outputs": [
    {
     "data": {
      "text/plain": [
       "array([[12, 14, 28, 17],\n",
       "       [27, 33, 64, 34],\n",
       "       [36, 40, 72, 23],\n",
       "       [41, 53, 68, 17]])"
      ]
     },
     "execution_count": 77,
     "metadata": {},
     "output_type": "execute_result"
    }
   ],
   "source": [
    "# to validate:\n",
    "np.dot(X,Y)"
   ]
  },
  {
   "cell_type": "markdown",
   "metadata": {},
   "source": [
    "Test1:"
   ]
  },
  {
   "cell_type": "code",
   "execution_count": 78,
   "metadata": {},
   "outputs": [],
   "source": [
    "X = np.array([[2,3],[9,4]])\n",
    "Y = np.array([[5,7],[1,8]])"
   ]
  },
  {
   "cell_type": "code",
   "execution_count": 79,
   "metadata": {},
   "outputs": [
    {
     "data": {
      "text/plain": [
       "array([[13., 38.],\n",
       "       [49., 95.]])"
      ]
     },
     "execution_count": 79,
     "metadata": {},
     "output_type": "execute_result"
    }
   ],
   "source": [
    "np_strassen(X,Y)"
   ]
  },
  {
   "cell_type": "code",
   "execution_count": 80,
   "metadata": {},
   "outputs": [
    {
     "data": {
      "text/plain": [
       "array([[13, 38],\n",
       "       [49, 95]])"
      ]
     },
     "execution_count": 80,
     "metadata": {},
     "output_type": "execute_result"
    }
   ],
   "source": [
    "# to validate:\n",
    "np.dot(X,Y)"
   ]
  },
  {
   "cell_type": "markdown",
   "metadata": {},
   "source": [
    "### Native List Implementation of Strassen Matrix Multiplication"
   ]
  },
  {
   "cell_type": "code",
   "execution_count": 81,
   "metadata": {},
   "outputs": [],
   "source": [
    "'''\n",
    "Native List Py Implementation:\n",
    "'''\n",
    "\n",
    "def split_mat(X,mdp):\n",
    "    '''\n",
    "    Matrix Split.\n",
    "    Input:\n",
    "        X: nxn matrix\n",
    "        mdp: middle of of the matrix\n",
    "    Output:\n",
    "        4 sub matrices in the format of:\n",
    "            a b\n",
    "            c c\n",
    "    '''\n",
    "    a = [i[:mdp] for i in X[:mdp]]\n",
    "    b = [i[mdp:] for i in X[:mdp]]\n",
    "    c = [i[:mdp] for i in X[mdp:]]\n",
    "    d = [i[mdp:] for i in X[mdp:]]\n",
    "    return a,b,c,d\n",
    "\n",
    "def reconstruct(x):\n",
    "    '''\n",
    "    reconstruct submatrices for the output\n",
    "    '''\n",
    "    plen = int(len(x)/2)\n",
    "    if plen==0:\n",
    "        return x\n",
    "    \n",
    "    x_new = [[0 for i in range(plen)] for  j in range(plen)]\n",
    "    cnt = 0\n",
    "    for i in range(plen):\n",
    "        for j in range(plen):\n",
    "            x_new[i][j] = x[cnt]\n",
    "            cnt+=1\n",
    "    return x_new\n",
    "\n",
    "\n",
    "def matrix_addition(X,Y):\n",
    "\n",
    "    assert len(X) == len(Y)\n",
    "    assert [len(i) for i in X] == [len(i) for i in Y]\n",
    "\n",
    "    nrow = len(X)\n",
    "    ncol = list(set([len(i) for i in X]))[0]\n",
    "    output_mat = []\n",
    "    for i in range(nrow):\n",
    "        temp_row = []\n",
    "        for j in range(ncol):\n",
    "            temp_row.append(X[i][j] + Y[i][j])\n",
    "        output_mat.append(temp_row)\n",
    "    return output_mat\n",
    "            \n",
    "def matrix_subtraction(X,Y):\n",
    "    assert len(X) == len(Y)\n",
    "    assert [len(i) for i in X] == [len(i) for i in Y]\n",
    "    nrow = len(X)\n",
    "    ncol = list(set([len(i) for i in X]))[0]\n",
    "    output_mat = []\n",
    "    \n",
    "    for i in range(nrow):\n",
    "        temp_row = []\n",
    "        for j in range(ncol):\n",
    "            temp_row.append(X[i][j] - Y[i][j])\n",
    "        output_mat.append(temp_row)\n",
    "    return output_mat\n",
    "\n",
    "\n",
    "def list_strassen(X,Y):\n",
    "    '''\n",
    "    Input:\n",
    "        nxn integer matrices X and Y\n",
    "    Output:\n",
    "        Z = X.Y\n",
    "    Assume:\n",
    "        n is power of 2     \n",
    "    '''\n",
    "    n = len(X)\n",
    "    assert n==len(X)== len(Y)\n",
    "    \n",
    "    if n==1:\n",
    "        return [[X[0][0]*Y[0][0]]]\n",
    "    \n",
    "    \n",
    "    \n",
    "    mdp = len(X)//2 #middle point\n",
    "    # Divide into sub-matrices\n",
    "    A,B,C,D = split_mat(X,mdp)\n",
    "    E,F,G,H = split_mat(Y,mdp)\n",
    "    \n",
    "    p1 = list_strassen(A,matrix_subtraction(F,H))\n",
    "    p2 = list_strassen(matrix_addition(A,B),H)\n",
    "    p3 = list_strassen(matrix_addition(C,D),E)\n",
    "    p4 = list_strassen(D,matrix_subtraction(G,E))\n",
    "    p5 = list_strassen(matrix_addition(A,D),matrix_addition(E,H))\n",
    "    p6 = list_strassen(matrix_subtraction(B,D),matrix_addition(G,H))\n",
    "    p7 = list_strassen(matrix_subtraction(A,C),matrix_addition(E,F))    \n",
    "    # Strassen:\n",
    "    upper_left =  matrix_addition(matrix_subtraction(matrix_addition(p5,p4),p2),p6)\n",
    "    upper_right = matrix_addition(p1,p2)\n",
    "    lower_left = matrix_addition(p3,p4)\n",
    "    lower_right = matrix_subtraction(matrix_subtraction(matrix_addition(p1,p5),p3),p7) \n",
    "    \n",
    "    \n",
    "    res = []\n",
    "    \n",
    "    for row in range(len(upper_left)):\n",
    "        res.append(upper_left[row] + upper_right[row])\n",
    "    \n",
    "    for row in range(len(upper_left)):\n",
    "   \n",
    "        res.append(lower_left[row] + lower_right[row])\n",
    "\n",
    "    return res\n",
    "\n",
    "\n",
    "\n",
    "    "
   ]
  },
  {
   "cell_type": "code",
   "execution_count": 82,
   "metadata": {},
   "outputs": [
    {
     "data": {
      "text/plain": [
       "[[308, 24, 48, 23],\n",
       " [724, 64, 120, 67],\n",
       " [1140, 104, 192, 111],\n",
       " [1556, 144, 264, 155]]"
      ]
     },
     "execution_count": 82,
     "metadata": {},
     "output_type": "execute_result"
    }
   ],
   "source": [
    "X =  [[1,2,3,4],[5,6,7,8],[9,10,11,12],[13,14,15,16]]\n",
    "Y =  [[2,2,3,4],[5,4,7,2],[92,2,1,5],[5,2,7,0]]\n",
    "\n",
    "list_strassen(X,Y)"
   ]
  },
  {
   "cell_type": "code",
   "execution_count": 83,
   "metadata": {},
   "outputs": [
    {
     "data": {
      "text/plain": [
       "array([[ 308,   24,   48,   23],\n",
       "       [ 724,   64,  120,   67],\n",
       "       [1140,  104,  192,  111],\n",
       "       [1556,  144,  264,  155]])"
      ]
     },
     "execution_count": 83,
     "metadata": {},
     "output_type": "execute_result"
    }
   ],
   "source": [
    "# To validate:\n",
    "np.dot(np.array(X),np.array(Y))"
   ]
  },
  {
   "cell_type": "code",
   "execution_count": 84,
   "metadata": {},
   "outputs": [],
   "source": [
    "'''\n",
    "Native List Py Implementation:\n",
    "'''\n",
    "\n",
    "def split_mat(X,mdp):\n",
    "    '''\n",
    "    Matrix Split.\n",
    "    Input:\n",
    "        X: nxn matrix\n",
    "        mdp: middle of of the matrix\n",
    "    Output:\n",
    "        4 sub matrices in the format of:\n",
    "            a b\n",
    "            c c\n",
    "    '''\n",
    "    a = [i[:mdp] for i in X[:mdp]]\n",
    "    b = [i[mdp:] for i in X[:mdp]]\n",
    "    c = [i[:mdp] for i in X[mdp:]]\n",
    "    d = [i[mdp:] for i in X[mdp:]]\n",
    "    return a,b,c,d\n",
    "\n",
    "def reconstruct(x):\n",
    "    '''\n",
    "    reconstruct submatrices for the output\n",
    "    '''\n",
    "    plen = int(len(x)/2)\n",
    "    if plen==0:\n",
    "        return x\n",
    "    \n",
    "    x_new = [[0 for i in range(plen)] for  j in range(plen)]\n",
    "    cnt = 0\n",
    "    for i in range(plen):\n",
    "        for j in range(plen):\n",
    "            x_new[i][j] = x[cnt]\n",
    "            cnt+=1\n",
    "    return x_new\n",
    "\n",
    "\n",
    "def matrix_addition(X,Y):\n",
    "\n",
    "    assert len(X) == len(Y)\n",
    "    assert [len(i) for i in X] == [len(i) for i in Y]\n",
    "\n",
    "    nrow = len(X)\n",
    "    ncol = list(set([len(i) for i in X]))[0]\n",
    "    output_mat = []\n",
    "    for i in range(nrow):\n",
    "        temp_row = []\n",
    "        for j in range(ncol):\n",
    "            temp_row.append(X[i][j] + Y[i][j])\n",
    "        output_mat.append(temp_row)\n",
    "    return output_mat\n",
    "            \n",
    "def matrix_subtraction(X,Y):\n",
    "    assert len(X) == len(Y)\n",
    "    assert [len(i) for i in X] == [len(i) for i in Y]\n",
    "    nrow = len(X)\n",
    "    ncol = list(set([len(i) for i in X]))[0]\n",
    "    output_mat = []\n",
    "    \n",
    "    for i in range(nrow):\n",
    "        temp_row = []\n",
    "        for j in range(ncol):\n",
    "            temp_row.append(X[i][j] - Y[i][j])\n",
    "        output_mat.append(temp_row)\n",
    "    return output_mat\n",
    "\n",
    "\n",
    "def list_strassen(X,Y):\n",
    "    '''\n",
    "    Input:\n",
    "        nxn integer matrices X and Y\n",
    "    Output:\n",
    "        Z = X.Y\n",
    "    Assume:\n",
    "        n is power of 2     \n",
    "    '''\n",
    "    n = len(X)\n",
    "    assert n==len(X)== len(Y)\n",
    "    \n",
    "    if n==1:\n",
    "        return [[X[0][0]*Y[0][0]]]\n",
    "    \n",
    "    \n",
    "    \n",
    "    mdp = len(X)//2 #middle point\n",
    "    # Divide into sub-matrices\n",
    "    A,B,C,D = split_mat(X,mdp)\n",
    "    E,F,G,H = split_mat(Y,mdp)\n",
    "    \n",
    "    p1 = list_strassen(A,matrix_subtraction(F,H))\n",
    "    p2 = list_strassen(matrix_addition(A,B),H)\n",
    "    p3 = list_strassen(matrix_addition(C,D),E)\n",
    "    p4 = list_strassen(D,matrix_subtraction(G,E))\n",
    "    p5 = list_strassen(matrix_addition(A,D),matrix_addition(E,H))\n",
    "    p6 = list_strassen(matrix_subtraction(B,D),matrix_addition(G,H))\n",
    "    p7 = list_strassen(matrix_subtraction(A,C),matrix_addition(E,F))    \n",
    "    # Strassen:\n",
    "    upper_left =  matrix_addition(matrix_subtraction(matrix_addition(p5,p4),p2),p6)\n",
    "    upper_right = matrix_addition(p1,p2)\n",
    "    lower_left = matrix_addition(p3,p4)\n",
    "    lower_right = matrix_subtraction(matrix_subtraction(matrix_addition(p1,p5),p3),p7) \n",
    "    \n",
    "    \n",
    "    res = [[0]*(len(upper_left)*2) for i in range(len(upper_left)*2)]\n",
    "\n",
    "    # Construct:\n",
    "    for row in range(len(upper_left)):\n",
    "        for col in range(len(upper_left)):\n",
    "            \n",
    "            res[row][col] = upper_left[row][col]\n",
    "            \n",
    "            \n",
    "            res[row][len(upper_left)+col] = upper_right[row][col]\n",
    "            \n",
    "            \n",
    "            res[row+len(upper_left)][col] = lower_left[row][col]\n",
    "            \n",
    "            \n",
    "            res[row+len(upper_left)][col+len(upper_left)] = lower_right[row][col]\n",
    "            \n",
    " \n",
    "    return res\n",
    "\n",
    "\n",
    "\n",
    "    "
   ]
  },
  {
   "cell_type": "code",
   "execution_count": 85,
   "metadata": {},
   "outputs": [
    {
     "data": {
      "text/plain": [
       "[[308, 24, 48, 23],\n",
       " [724, 64, 120, 67],\n",
       " [1140, 104, 192, 111],\n",
       " [1556, 144, 264, 155]]"
      ]
     },
     "execution_count": 85,
     "metadata": {},
     "output_type": "execute_result"
    }
   ],
   "source": [
    "X =  [[1,2,3,4],[5,6,7,8],[9,10,11,12],[13,14,15,16]]\n",
    "Y =  [[2,2,3,4],[5,4,7,2],[92,2,1,5],[5,2,7,0]]\n",
    "\n",
    "\n",
    "list_strassen(X,Y)"
   ]
  },
  {
   "cell_type": "markdown",
   "metadata": {},
   "source": [
    "Test:"
   ]
  },
  {
   "cell_type": "code",
   "execution_count": 86,
   "metadata": {
    "scrolled": true
   },
   "outputs": [
    {
     "data": {
      "text/plain": [
       "array([[ 308,   24,   48,   23],\n",
       "       [ 724,   64,  120,   67],\n",
       "       [1140,  104,  192,  111],\n",
       "       [1556,  144,  264,  155]])"
      ]
     },
     "execution_count": 86,
     "metadata": {},
     "output_type": "execute_result"
    }
   ],
   "source": [
    "np.dot(np.array(X),np.array(Y))"
   ]
  }
 ],
 "metadata": {
  "kernelspec": {
   "display_name": "Python 3",
   "language": "python",
   "name": "python3"
  },
  "language_info": {
   "codemirror_mode": {
    "name": "ipython",
    "version": 3
   },
   "file_extension": ".py",
   "mimetype": "text/x-python",
   "name": "python",
   "nbconvert_exporter": "python",
   "pygments_lexer": "ipython3",
   "version": "3.6.5"
  }
 },
 "nbformat": 4,
 "nbformat_minor": 2
}
