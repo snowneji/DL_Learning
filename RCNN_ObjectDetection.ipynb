{
 "cells": [
  {
   "cell_type": "markdown",
   "metadata": {},
   "source": [
    "Original paper: https://arxiv.org/abs/1311.2524?WT.mc_id=Blog_MachLearn_General_DI\n",
    "\n",
    "**Modifications** : \n",
    "\n",
    "1. The original paper used AlexNet+SVM for the classification, in this case vgg19+fully connected layers were used (need more tuning).\n",
    "\n",
    "2. There are some differences in implementing the NMS.\n"
   ]
  },
  {
   "cell_type": "code",
   "execution_count": 0,
   "metadata": {
    "colab": {},
    "colab_type": "code",
    "id": "1-Gq_XO8yD6b"
   },
   "outputs": [],
   "source": [
    "import numpy as np\n",
    "import matplotlib.pyplot as plt\n",
    "from keras.datasets import cifar10\n",
    "\n",
    "from keras.applications.vgg19 import VGG19\n",
    "from keras.preprocessing import image\n",
    "from keras.applications.vgg19 import preprocess_input\n",
    "from keras.models import Model\n",
    "import numpy as np\n",
    "from keras.layers import Input, Dense, GlobalAveragePooling2D,Dropout,Reshape,BatchNormalization\n",
    "import tensorflow as tf\n",
    "\n",
    "import cv2\n",
    "\n",
    "class RCNN_CIFAR10:\n",
    "    def __init__(self,iou_thres=0.4,pred_thres=0.7,verbose=True):\n",
    "        \n",
    "        self.NCLASS = 10\n",
    "        self.iou_thres = iou_thres\n",
    "        self.pred_thres = pred_thres\n",
    "        self.verbose=verbose\n",
    "    \n",
    "    def ohe(self, X, n_class):\n",
    "        outputX = np.zeros((len(X),n_class))\n",
    "        for i in range(len(X)):\n",
    "            outputX[i,X[i]] = 1\n",
    "        return outputX\n",
    "    \n",
    "    def load_label_names(self):\n",
    "        return [*enumerate(['airplane', 'automobile', 'bird', 'cat', 'deer', 'dog', 'frog', 'horse', 'ship', 'truck'])]\n",
    "\n",
    "    \n",
    "\n",
    "    \n",
    "    def img_slice(self, img:np.array,rect_coord:list):\n",
    "        x, y, w, h = rect_coord\n",
    "        sliced_img = img[y:y+h,x:x+w,:]\n",
    "        return sliced_img\n",
    "        \n",
    "        \n",
    "        \n",
    "    def iou(self, coord_a,coord_b):\n",
    "\n",
    "\n",
    "\n",
    "\n",
    "        # Coord\n",
    "        x1a, y1a, w1a, h1a = coord_a\n",
    "        x1b, y1b, w1b, h1b = coord_b\n",
    "\n",
    "        x2a = x1a+w1a\n",
    "        y2a = y1a+h1a\n",
    "\n",
    "        x2b = x1b+w1b\n",
    "        y2b = y1b+h1b\n",
    "\n",
    "\n",
    "        # No intersection case:\n",
    "        if (x2b<x1a and y2a< y1b) or (x1b<x2a and y2b< y1a):\n",
    "            return 0\n",
    "\n",
    "\n",
    "\n",
    "        intersection_x1 = max(x1a,x1b)\n",
    "        intersection_y1 = max(y1a,y1b)\n",
    "        intersection_x2 = min(x2a,x2b)\n",
    "        intersection_y2 = min(y2a,y2b)\n",
    "\n",
    "        intersection_area = float((intersection_y2 - intersection_y1) * (intersection_x2 - intersection_x1))\n",
    "\n",
    "        union_area = w1a*h1a + w1b*h1b - intersection_area\n",
    "\n",
    "    #     print('intersection:',intersection_area)\n",
    "    #     print('union:',union_area)\n",
    "\n",
    "        return intersection_area / union_area\n",
    "\n",
    "    \n",
    "    def train(\n",
    "        self,\n",
    "        batch_size = 256,\n",
    "        epochs = 2,\n",
    "        validation_split = 0.2\n",
    "        \n",
    "    ):\n",
    "        \n",
    "        # load data:\n",
    "        (x_train, y_train), (x_test, y_test) = cifar10.load_data()\n",
    "        \n",
    "        y_train = self.ohe(y_train,self.NCLASS)\n",
    "        y_test = self.ohe(y_test,self.NCLASS)\n",
    "        \n",
    "        self.x_test = x_test\n",
    "        \n",
    "\n",
    "        \n",
    "        # Model:\n",
    "        \n",
    "        base_model = VGG19(input_shape=(32,32,3), weights='imagenet', include_top=False)\n",
    "        # add a global spatial average pooling layer\n",
    "        x = base_model.output\n",
    "\n",
    "        # x = tf.einsum('ijkl->il', x)\n",
    "        x = Reshape((512,))(x)\n",
    "        x = BatchNormalization()(x)\n",
    "        x = Dense(2048, activation='relu')(x)\n",
    "        x = Dropout(rate=0.5)(x)\n",
    "        output = Dense(10, activation='softmax')(x)\n",
    "        model = Model(inputs=base_model.input, outputs=output)\n",
    "\n",
    "        for layer in base_model.layers:\n",
    "            layer.trainable = False\n",
    "            \n",
    "        model.compile(optimizer='adam', loss='categorical_crossentropy', metrics=['acc'])\n",
    "        model.fit(x=x_train, y=y_train, batch_size=batch_size, epochs=epochs,  validation_split=validation_split)\n",
    "        return model\n",
    "\n",
    "        \n",
    "    def evaluate(self, model, test_img):\n",
    "        \n",
    "        \n",
    "        ###########\n",
    "        # SS\n",
    "        ###########\n",
    "        cv2.setUseOptimized(True);\n",
    "        cv2.setNumThreads(2);\n",
    "        # create Selective Search Segmentation Object using default parameters\n",
    "        ss = cv2.ximgproc.segmentation.createSelectiveSearchSegmentation()\n",
    "        # set input image on which we will run segmentation\n",
    "        ss.setBaseImage(test_img)\n",
    "        ss.switchToSelectiveSearchQuality()\n",
    "        self.rects  = ss.process()\n",
    "        self.rects = self.rects[(self.rects[:,0]>0)&(self.rects[:,1]>0),:]\n",
    "        \n",
    "        ###########\n",
    "        # Pred\n",
    "        ###########\n",
    "        \n",
    "        \n",
    "        all_preds = []\n",
    "\n",
    "        for i in range(len(self.rects)):\n",
    "            img_patch = self.img_slice(test_img,self.rects[0])\n",
    "            img_patch = cv2.resize(img_patch,(32,32))\n",
    "            img_patch = np.expand_dims(img_patch, axis=0)\n",
    "            pred = model.predict(img_patch).tolist()[0]\n",
    "            all_preds.append(pred)\n",
    "\n",
    "\n",
    "        all_preds = np.array(all_preds)\n",
    "\n",
    "\n",
    "        ###########\n",
    "        # NMS\n",
    "        ###########\n",
    "        iou_res = np.zeros((len(self.rects),len(self.rects)))\n",
    "        len_rects = len(self.rects)\n",
    "\n",
    "\n",
    "        for i in range(len_rects):\n",
    "            for j in range(len_rects):\n",
    "                \n",
    "                a = self.rects[i]\n",
    "                b = self.rects[j]\n",
    "                iou_res[i,j] = self.iou(a,b)\n",
    "\n",
    "\n",
    "        iou_res[iou_res==1] = -1\n",
    "        \n",
    "        \n",
    "        \n",
    "        classes = self.load_label_names()\n",
    "\n",
    "        drop_bbs = {}\n",
    "\n",
    "        for cl in classes:\n",
    "            class_drop_bbs = []\n",
    "\n",
    "            temp_iou_res = iou_res.copy()\n",
    "            while temp_iou_res.max() >= self.iou_thres and len(drop_bbs) < len(self.rects):\n",
    "\n",
    "                max_val = temp_iou_res.max()\n",
    "                \n",
    "                if self.verbose:\n",
    "                    print(\"current max IOU: {}\".format(max_val))\n",
    "                    print(\"current N drop bbox: {}\".format(len(class_drop_bbs)))\n",
    "\n",
    "                max_idxs = list(np.where(temp_iou_res==max_val))\n",
    "                max_idxs[0] = max_idxs[0].tolist()\n",
    "                max_idxs[1] = max_idxs[1].tolist()\n",
    "                max_idxs = [*zip(max_idxs[0],max_idxs[1])]\n",
    "\n",
    "                if self.verbose:\n",
    "                    print(\"current max IOU idxs: {}\".format(max_idxs))\n",
    "\n",
    "\n",
    "                preds = all_preds[[i[0] for i in max_idxs],cl[0]]\n",
    "                if self.verbose:\n",
    "                    print(\"current max pred for the class: {}\".format(preds.max()))\n",
    "                # At least have certain confidence in class pred\n",
    "                if preds.max() > self.pred_thres:\n",
    "                    best_pred = preds.argmax()\n",
    "                    max_idxs.pop(0)\n",
    "\n",
    "                    bad_bboxs = [i[0] for i in max_idxs]\n",
    "                    class_drop_bbs.extend(bad_bboxs)\n",
    "\n",
    "                    temp_iou_res[bad_bboxs,:] = -1\n",
    "                    temp_iou_res[:,bad_bboxs] = -1\n",
    "\n",
    "\n",
    "\n",
    "                else:\n",
    "                    if self.verbose:\n",
    "                        print(\"----------class skipped----------\".format(cl))\n",
    "                    break\n",
    "\n",
    "            if self.verbose:\n",
    "                print(\"----------class {} DONE----------\".format(cl))\n",
    "\n",
    "            drop_bbs[cl[0]] = class_drop_bbs\n",
    "            \n",
    "            \n",
    "        # Wrapup:\n",
    "        pred_label = []\n",
    "        imOut = test_img.copy()\n",
    "        for cl in classes:\n",
    "            bad_bbox = drop_bbs[cl[0]]\n",
    "            if len(bad_bbox)>0:\n",
    "                bad_bbox = list(set(bad_bbox))\n",
    "                good_bbox_list = [i for i in range(len(self.rects)) if i not in bad_bbox]\n",
    "                if  len(good_bbox_list) > 0:\n",
    "                    pred_label.append(cl[1])\n",
    "\n",
    "                        # itereate over all the region proposals\n",
    "                for i in good_bbox_list:\n",
    "                    # draw rectangle for region proposal till numShowRects\n",
    "                    x, y, w, h = self.rects[i]\n",
    "\n",
    "\n",
    "\n",
    "                    cv2.rectangle(imOut, (x, y), (x+w, y+h), (255, 0, 0), 1)\n",
    "\n",
    "        return imOut,pred_label"
   ]
  },
  {
   "cell_type": "code",
   "execution_count": 0,
   "metadata": {
    "colab": {},
    "colab_type": "code",
    "id": "pTTKYMMWyI0e"
   },
   "outputs": [],
   "source": [
    "rcnn = RCNN_CIFAR10(iou_thres=0.25,pred_thres=0.5,verbose=False)"
   ]
  },
  {
   "cell_type": "code",
   "execution_count": 9,
   "metadata": {
    "colab": {
     "base_uri": "https://localhost:8080/",
     "height": 714
    },
    "colab_type": "code",
    "id": "3D4klk3VyNjq",
    "outputId": "c3177b34-204a-4ccc-f216-e97c444ceacd"
   },
   "outputs": [
    {
     "name": "stdout",
     "output_type": "stream",
     "text": [
      "Train on 45000 samples, validate on 5000 samples\n",
      "Epoch 1/20\n",
      "45000/45000 [==============================] - 16s 350us/step - loss: 1.4014 - acc: 0.5287 - val_loss: 1.1670 - val_acc: 0.6058\n",
      "Epoch 2/20\n",
      "45000/45000 [==============================] - 15s 333us/step - loss: 1.1245 - acc: 0.6083 - val_loss: 1.1303 - val_acc: 0.6128\n",
      "Epoch 3/20\n",
      "45000/45000 [==============================] - 15s 333us/step - loss: 1.0307 - acc: 0.6414 - val_loss: 1.1026 - val_acc: 0.6254\n",
      "Epoch 4/20\n",
      "45000/45000 [==============================] - 15s 333us/step - loss: 0.9597 - acc: 0.6652 - val_loss: 1.0914 - val_acc: 0.6236\n",
      "Epoch 5/20\n",
      "45000/45000 [==============================] - 15s 333us/step - loss: 0.9070 - acc: 0.6811 - val_loss: 1.0883 - val_acc: 0.6266\n",
      "Epoch 6/20\n",
      "45000/45000 [==============================] - 15s 333us/step - loss: 0.8523 - acc: 0.7005 - val_loss: 1.0806 - val_acc: 0.6326\n",
      "Epoch 7/20\n",
      "45000/45000 [==============================] - 15s 334us/step - loss: 0.8017 - acc: 0.7182 - val_loss: 1.0766 - val_acc: 0.6380\n",
      "Epoch 8/20\n",
      "45000/45000 [==============================] - 15s 333us/step - loss: 0.7556 - acc: 0.7348 - val_loss: 1.0999 - val_acc: 0.6300\n",
      "Epoch 9/20\n",
      "45000/45000 [==============================] - 15s 333us/step - loss: 0.7116 - acc: 0.7503 - val_loss: 1.0980 - val_acc: 0.6326\n",
      "Epoch 10/20\n",
      "45000/45000 [==============================] - 15s 335us/step - loss: 0.6685 - acc: 0.7652 - val_loss: 1.1009 - val_acc: 0.6342\n",
      "Epoch 11/20\n",
      "45000/45000 [==============================] - 15s 333us/step - loss: 0.6281 - acc: 0.7811 - val_loss: 1.1044 - val_acc: 0.6418\n",
      "Epoch 12/20\n",
      "45000/45000 [==============================] - 15s 333us/step - loss: 0.5876 - acc: 0.7956 - val_loss: 1.1309 - val_acc: 0.6376\n",
      "Epoch 13/20\n",
      "45000/45000 [==============================] - 15s 334us/step - loss: 0.5478 - acc: 0.8095 - val_loss: 1.1386 - val_acc: 0.6404\n",
      "Epoch 14/20\n",
      "45000/45000 [==============================] - 15s 334us/step - loss: 0.5174 - acc: 0.8195 - val_loss: 1.1569 - val_acc: 0.6420\n",
      "Epoch 15/20\n",
      "45000/45000 [==============================] - 15s 334us/step - loss: 0.4838 - acc: 0.8328 - val_loss: 1.1760 - val_acc: 0.6374\n",
      "Epoch 16/20\n",
      "45000/45000 [==============================] - 15s 334us/step - loss: 0.4601 - acc: 0.8395 - val_loss: 1.2004 - val_acc: 0.6398\n",
      "Epoch 17/20\n",
      "45000/45000 [==============================] - 15s 333us/step - loss: 0.4346 - acc: 0.8470 - val_loss: 1.2074 - val_acc: 0.6358\n",
      "Epoch 18/20\n",
      "45000/45000 [==============================] - 15s 333us/step - loss: 0.4133 - acc: 0.8559 - val_loss: 1.2220 - val_acc: 0.6354\n",
      "Epoch 19/20\n",
      "45000/45000 [==============================] - 15s 333us/step - loss: 0.3843 - acc: 0.8680 - val_loss: 1.2603 - val_acc: 0.6328\n",
      "Epoch 20/20\n",
      "45000/45000 [==============================] - 15s 333us/step - loss: 0.3624 - acc: 0.8758 - val_loss: 1.2701 - val_acc: 0.6364\n"
     ]
    }
   ],
   "source": [
    "# 6418\n",
    "model = rcnn.train(\n",
    "        batch_size = 512,\n",
    "        epochs = 20,\n",
    "        validation_split = 0.1)"
   ]
  },
  {
   "cell_type": "code",
   "execution_count": 10,
   "metadata": {
    "colab": {
     "base_uri": "https://localhost:8080/",
     "height": 303
    },
    "colab_type": "code",
    "id": "pDfsTFtryI6S",
    "outputId": "45f65341-76c0-4434-d7b7-ec1e27629a3a"
   },
   "outputs": [
    {
     "name": "stdout",
     "output_type": "stream",
     "text": [
      "Predicted Label: 0,['airplane']\n"
     ]
    },
    {
     "data": {
      "text/plain": [
       "<matplotlib.image.AxesImage at 0x7fc958b0ccc0>"
      ]
     },
     "execution_count": 10,
     "metadata": {
      "tags": []
     },
     "output_type": "execute_result"
    },
    {
     "data": {
      "image/png": "[encoded data removed]",
      "text/plain": [
       "<Figure size 432x288 with 1 Axes>"
      ]
     },
     "metadata": {
      "tags": []
     },
     "output_type": "display_data"
    }
   ],
   "source": [
    "res = rcnn.evaluate(model,rcnn.x_test[21])\n",
    "print(\"Predicted Label: {0},{1}\".format(0,res[1]))\n",
    "plt.imshow(res[0])"
   ]
  },
  {
   "cell_type": "code",
   "execution_count": 11,
   "metadata": {
    "colab": {
     "base_uri": "https://localhost:8080/",
     "height": 303
    },
    "colab_type": "code",
    "id": "95lLCOgJyI84",
    "outputId": "46748fba-c68a-4968-a1a5-c310b9e7aa37"
   },
   "outputs": [
    {
     "name": "stdout",
     "output_type": "stream",
     "text": [
      "Predicted Label: 0,['truck']\n"
     ]
    },
    {
     "data": {
      "text/plain": [
       "<matplotlib.image.AxesImage at 0x7fc9562a8710>"
      ]
     },
     "execution_count": 11,
     "metadata": {
      "tags": []
     },
     "output_type": "execute_result"
    },
    {
     "data": {
      "image/png": "[encoded data removed]",
      "text/plain": [
       "<Figure size 432x288 with 1 Axes>"
      ]
     },
     "metadata": {
      "tags": []
     },
     "output_type": "display_data"
    }
   ],
   "source": [
    "res = rcnn.evaluate(model,rcnn.x_test[34])\n",
    "print(\"Predicted Label: {0},{1}\".format(0,res[1]))\n",
    "plt.imshow(res[0])"
   ]
  },
  {
   "cell_type": "code",
   "execution_count": 12,
   "metadata": {
    "colab": {
     "base_uri": "https://localhost:8080/",
     "height": 303
    },
    "colab_type": "code",
    "id": "-Iu6nEpHyI_T",
    "outputId": "329b9e90-9960-4895-d08f-ebbffdbb1668"
   },
   "outputs": [
    {
     "name": "stdout",
     "output_type": "stream",
     "text": [
      "Predicted Label: 0,['airplane']\n"
     ]
    },
    {
     "data": {
      "text/plain": [
       "<matplotlib.image.AxesImage at 0x7fc9562121d0>"
      ]
     },
     "execution_count": 12,
     "metadata": {
      "tags": []
     },
     "output_type": "execute_result"
    },
    {
     "data": {
      "image/png": "[encoded data removed]",
      "text/plain": [
       "<Figure size 432x288 with 1 Axes>"
      ]
     },
     "metadata": {
      "tags": []
     },
     "output_type": "display_data"
    }
   ],
   "source": [
    "res = rcnn.evaluate(model,rcnn.x_test[98])\n",
    "print(\"Predicted Label: {0},{1}\".format(0,res[1]))\n",
    "plt.imshow(res[0])"
   ]
  },
  {
   "cell_type": "code",
   "execution_count": 15,
   "metadata": {
    "colab": {
     "base_uri": "https://localhost:8080/",
     "height": 303
    },
    "colab_type": "code",
    "id": "f1I4lW5HyJCG",
    "outputId": "f7696854-80fa-4a2d-ea49-5dcd57c141cc"
   },
   "outputs": [
    {
     "name": "stdout",
     "output_type": "stream",
     "text": [
      "Predicted Label: 0,['cat']\n"
     ]
    },
    {
     "data": {
      "text/plain": [
       "<matplotlib.image.AxesImage at 0x7fc9560ac320>"
      ]
     },
     "execution_count": 15,
     "metadata": {
      "tags": []
     },
     "output_type": "execute_result"
    },
    {
     "data": {
      "image/png": "[encoded data removed]",
      "text/plain": [
       "<Figure size 432x288 with 1 Axes>"
      ]
     },
     "metadata": {
      "tags": []
     },
     "output_type": "display_data"
    }
   ],
   "source": [
    "res = rcnn.evaluate(model,rcnn.x_test[61])\n",
    "print(\"Predicted Label: {0},{1}\".format(0,res[1]))\n",
    "plt.imshow(res[0])"
   ]
  },
  {
   "cell_type": "code",
   "execution_count": 16,
   "metadata": {
    "colab": {
     "base_uri": "https://localhost:8080/",
     "height": 303
    },
    "colab_type": "code",
    "id": "jns9iqEH1kxh",
    "outputId": "69d76842-f234-4fa2-b22b-aad6e27cad0a"
   },
   "outputs": [
    {
     "name": "stdout",
     "output_type": "stream",
     "text": [
      "Predicted Label: 0,['cat']\n"
     ]
    },
    {
     "data": {
      "text/plain": [
       "<matplotlib.image.AxesImage at 0x7fc9560888d0>"
      ]
     },
     "execution_count": 16,
     "metadata": {
      "tags": []
     },
     "output_type": "execute_result"
    },
    {
     "data": {
      "image/png": "[encoded data removed]",
      "text/plain": [
       "<Figure size 432x288 with 1 Axes>"
      ]
     },
     "metadata": {
      "tags": []
     },
     "output_type": "display_data"
    }
   ],
   "source": [
    "res = rcnn.evaluate(model,rcnn.x_test[106])\n",
    "print(\"Predicted Label: {0},{1}\".format(0,res[1]))\n",
    "plt.imshow(res[0])"
   ]
  },
  {
   "cell_type": "code",
   "execution_count": 18,
   "metadata": {
    "colab": {
     "base_uri": "https://localhost:8080/",
     "height": 303
    },
    "colab_type": "code",
    "id": "VhA5iH222WI9",
    "outputId": "c44ae352-dc7a-47b5-e044-cb72b2de7263"
   },
   "outputs": [
    {
     "name": "stdout",
     "output_type": "stream",
     "text": [
      "Predicted Label: 0,['airplane']\n"
     ]
    },
    {
     "data": {
      "text/plain": [
       "<matplotlib.image.AxesImage at 0x7fc955fe9f28>"
      ]
     },
     "execution_count": 18,
     "metadata": {
      "tags": []
     },
     "output_type": "execute_result"
    },
    {
     "data": {
      "image/png": "[encoded data removed]",
      "text/plain": [
       "<Figure size 432x288 with 1 Axes>"
      ]
     },
     "metadata": {
      "tags": []
     },
     "output_type": "display_data"
    }
   ],
   "source": [
    "res = rcnn.evaluate(model,rcnn.x_test[206])\n",
    "print(\"Predicted Label: {0},{1}\".format(0,res[1]))\n",
    "plt.imshow(res[0])"
   ]
  },
  {
   "cell_type": "code",
   "execution_count": 19,
   "metadata": {
    "colab": {
     "base_uri": "https://localhost:8080/",
     "height": 303
    },
    "colab_type": "code",
    "id": "VFY3lLA62Z8k",
    "outputId": "3cbfca1d-5826-46b3-d6e5-4af253f87af8"
   },
   "outputs": [
    {
     "name": "stdout",
     "output_type": "stream",
     "text": [
      "Predicted Label: 0,['airplane']\n"
     ]
    },
    {
     "data": {
      "text/plain": [
       "<matplotlib.image.AxesImage at 0x7fc955fcb518>"
      ]
     },
     "execution_count": 19,
     "metadata": {
      "tags": []
     },
     "output_type": "execute_result"
    },
    {
     "data": {
      "image/png": "[encoded data removed]",
      "text/plain": [
       "<Figure size 432x288 with 1 Axes>"
      ]
     },
     "metadata": {
      "tags": []
     },
     "output_type": "display_data"
    }
   ],
   "source": [
    "res = rcnn.evaluate(model,rcnn.x_test[235])\n",
    "print(\"Predicted Label: {0},{1}\".format(0,res[1]))\n",
    "plt.imshow(res[0])"
   ]
  },
  {
   "cell_type": "code",
   "execution_count": 31,
   "metadata": {
    "colab": {
     "base_uri": "https://localhost:8080/",
     "height": 303
    },
    "colab_type": "code",
    "id": "87WRJ6q02dpq",
    "outputId": "0dc2aa36-ba19-428a-8b83-d8af953d369c"
   },
   "outputs": [
    {
     "name": "stdout",
     "output_type": "stream",
     "text": [
      "Predicted Label: 0,['deer']\n"
     ]
    },
    {
     "data": {
      "text/plain": [
       "<matplotlib.image.AxesImage at 0x7fc955be6550>"
      ]
     },
     "execution_count": 31,
     "metadata": {
      "tags": []
     },
     "output_type": "execute_result"
    },
    {
     "data": {
      "image/png": "[encoded data removed]",
      "text/plain": [
       "<Figure size 432x288 with 1 Axes>"
      ]
     },
     "metadata": {
      "tags": []
     },
     "output_type": "display_data"
    }
   ],
   "source": [
    "res = rcnn.evaluate(model,rcnn.x_test[278])\n",
    "print(\"Predicted Label: {0},{1}\".format(0,res[1]))\n",
    "plt.imshow(res[0])"
   ]
  },
  {
   "cell_type": "code",
   "execution_count": 32,
   "metadata": {
    "colab": {
     "base_uri": "https://localhost:8080/",
     "height": 303
    },
    "colab_type": "code",
    "id": "qM6yBRDM6m3R",
    "outputId": "a6d0bac4-ec77-4885-88dd-495a7987f84c"
   },
   "outputs": [
    {
     "name": "stdout",
     "output_type": "stream",
     "text": [
      "Predicted Label: 0,['bird']\n"
     ]
    },
    {
     "data": {
      "text/plain": [
       "<matplotlib.image.AxesImage at 0x7fc955b3f940>"
      ]
     },
     "execution_count": 32,
     "metadata": {
      "tags": []
     },
     "output_type": "execute_result"
    },
    {
     "data": {
      "image/png": "[encoded data removed]",
      "text/plain": [
       "<Figure size 432x288 with 1 Axes>"
      ]
     },
     "metadata": {
      "tags": []
     },
     "output_type": "display_data"
    }
   ],
   "source": [
    "res = rcnn.evaluate(model,rcnn.x_test[291])\n",
    "print(\"Predicted Label: {0},{1}\".format(0,res[1]))\n",
    "plt.imshow(res[0])"
   ]
  },
  {
   "cell_type": "code",
   "execution_count": 36,
   "metadata": {
    "colab": {
     "base_uri": "https://localhost:8080/",
     "height": 303
    },
    "colab_type": "code",
    "id": "rdkbqf_r6so-",
    "outputId": "cc691ad4-6681-4706-e844-76565b6ebaa0"
   },
   "outputs": [
    {
     "name": "stdout",
     "output_type": "stream",
     "text": [
      "Predicted Label: 0,['ship']\n"
     ]
    },
    {
     "data": {
      "text/plain": [
       "<matplotlib.image.AxesImage at 0x7fc955a5ab38>"
      ]
     },
     "execution_count": 36,
     "metadata": {
      "tags": []
     },
     "output_type": "execute_result"
    },
    {
     "data": {
      "image/png": "[encoded data removed]",
      "text/plain": [
       "<Figure size 432x288 with 1 Axes>"
      ]
     },
     "metadata": {
      "tags": []
     },
     "output_type": "display_data"
    }
   ],
   "source": [
    "res = rcnn.evaluate(model,rcnn.x_test[306])\n",
    "print(\"Predicted Label: {0},{1}\".format(0,res[1]))\n",
    "plt.imshow(res[0])"
   ]
  },
  {
   "cell_type": "code",
   "execution_count": 39,
   "metadata": {
    "colab": {
     "base_uri": "https://localhost:8080/",
     "height": 303
    },
    "colab_type": "code",
    "id": "P1V03ucc6srk",
    "outputId": "ceeaae71-a9e1-41c6-b430-f1ffab4611e2"
   },
   "outputs": [
    {
     "name": "stdout",
     "output_type": "stream",
     "text": [
      "Predicted Label: 0,['bird']\n"
     ]
    },
    {
     "data": {
      "text/plain": [
       "<matplotlib.image.AxesImage at 0x7fc9558f3c88>"
      ]
     },
     "execution_count": 39,
     "metadata": {
      "tags": []
     },
     "output_type": "execute_result"
    },
    {
     "data": {
      "image/png": "[encoded data removed]",
      "text/plain": [
       "<Figure size 432x288 with 1 Axes>"
      ]
     },
     "metadata": {
      "tags": []
     },
     "output_type": "display_data"
    }
   ],
   "source": [
    "res = rcnn.evaluate(model,rcnn.x_test[342])\n",
    "print(\"Predicted Label: {0},{1}\".format(0,res[1]))\n",
    "plt.imshow(res[0])"
   ]
  },
  {
   "cell_type": "code",
   "execution_count": 41,
   "metadata": {
    "colab": {
     "base_uri": "https://localhost:8080/",
     "height": 303
    },
    "colab_type": "code",
    "id": "yjkUjEcF6suy",
    "outputId": "6fd578ce-036c-45c5-9f58-5bd8488e3131"
   },
   "outputs": [
    {
     "name": "stdout",
     "output_type": "stream",
     "text": [
      "Predicted Label: 0,['automobile']\n"
     ]
    },
    {
     "data": {
      "text/plain": [
       "<matplotlib.image.AxesImage at 0x7fc9558d8320>"
      ]
     },
     "execution_count": 41,
     "metadata": {
      "tags": []
     },
     "output_type": "execute_result"
    },
    {
     "data": {
      "image/png": "[encoded data removed]",
      "text/plain": [
       "<Figure size 432x288 with 1 Axes>"
      ]
     },
     "metadata": {
      "tags": []
     },
     "output_type": "display_data"
    }
   ],
   "source": [
    "res = rcnn.evaluate(model,rcnn.x_test[363])\n",
    "print(\"Predicted Label: {0},{1}\".format(0,res[1]))\n",
    "plt.imshow(res[0])"
   ]
  },
  {
   "cell_type": "code",
   "execution_count": 49,
   "metadata": {
    "colab": {
     "base_uri": "https://localhost:8080/",
     "height": 303
    },
    "colab_type": "code",
    "id": "xf7Sdq0z6sxs",
    "outputId": "083046b6-086d-4d47-8c36-5b61ce55bdfd"
   },
   "outputs": [
    {
     "name": "stdout",
     "output_type": "stream",
     "text": [
      "Predicted Label: 0,['bird']\n"
     ]
    },
    {
     "data": {
      "text/plain": [
       "<matplotlib.image.AxesImage at 0x7fc9555c4160>"
      ]
     },
     "execution_count": 49,
     "metadata": {
      "tags": []
     },
     "output_type": "execute_result"
    },
    {
     "data": {
      "image/png": "[encoded data removed]",
      "text/plain": [
       "<Figure size 432x288 with 1 Axes>"
      ]
     },
     "metadata": {
      "tags": []
     },
     "output_type": "display_data"
    }
   ],
   "source": [
    "res = rcnn.evaluate(model,rcnn.x_test[384])\n",
    "print(\"Predicted Label: {0},{1}\".format(0,res[1]))\n",
    "plt.imshow(res[0])"
   ]
  },
  {
   "cell_type": "code",
   "execution_count": 50,
   "metadata": {
    "colab": {
     "base_uri": "https://localhost:8080/",
     "height": 303
    },
    "colab_type": "code",
    "id": "I9Ezcrxt6s1C",
    "outputId": "bfb041d9-6e7b-4449-f47c-2456b8fd5c4a"
   },
   "outputs": [
    {
     "name": "stdout",
     "output_type": "stream",
     "text": [
      "Predicted Label: 0,['dog']\n"
     ]
    },
    {
     "data": {
      "text/plain": [
       "<matplotlib.image.AxesImage at 0x7fc95559e710>"
      ]
     },
     "execution_count": 50,
     "metadata": {
      "tags": []
     },
     "output_type": "execute_result"
    },
    {
     "data": {
      "image/png": "[encoded data removed]",
      "text/plain": [
       "<Figure size 432x288 with 1 Axes>"
      ]
     },
     "metadata": {
      "tags": []
     },
     "output_type": "display_data"
    }
   ],
   "source": [
    "res = rcnn.evaluate(model,rcnn.x_test[396])\n",
    "print(\"Predicted Label: {0},{1}\".format(0,res[1]))\n",
    "plt.imshow(res[0])"
   ]
  },
  {
   "cell_type": "code",
   "execution_count": 53,
   "metadata": {
    "colab": {
     "base_uri": "https://localhost:8080/",
     "height": 303
    },
    "colab_type": "code",
    "id": "NB0BNajF6So2",
    "outputId": "1d62c5e6-7f9f-46aa-f8a3-4a4417f1c44c"
   },
   "outputs": [
    {
     "name": "stdout",
     "output_type": "stream",
     "text": [
      "Predicted Label: 0,['dog']\n"
     ]
    },
    {
     "data": {
      "text/plain": [
       "<matplotlib.image.AxesImage at 0x7fc955434860>"
      ]
     },
     "execution_count": 53,
     "metadata": {
      "tags": []
     },
     "output_type": "execute_result"
    },
    {
     "data": {
      "image/png": "[encoded data removed]",
      "text/plain": [
       "<Figure size 432x288 with 1 Axes>"
      ]
     },
     "metadata": {
      "tags": []
     },
     "output_type": "display_data"
    }
   ],
   "source": [
    "res = rcnn.evaluate(model,rcnn.x_test[389])\n",
    "print(\"Predicted Label: {0},{1}\".format(0,res[1]))\n",
    "plt.imshow(res[0])"
   ]
  },
  {
   "cell_type": "code",
   "execution_count": 54,
   "metadata": {
    "colab": {
     "base_uri": "https://localhost:8080/",
     "height": 303
    },
    "colab_type": "code",
    "id": "xF_2lb8o9ivw",
    "outputId": "c9a8e632-c180-4d44-9c9a-c749af54a34c"
   },
   "outputs": [
    {
     "name": "stdout",
     "output_type": "stream",
     "text": [
      "Predicted Label: 0,['truck']\n"
     ]
    },
    {
     "data": {
      "text/plain": [
       "<matplotlib.image.AxesImage at 0x7fc955412e10>"
      ]
     },
     "execution_count": 54,
     "metadata": {
      "tags": []
     },
     "output_type": "execute_result"
    },
    {
     "data": {
      "image/png": "[encoded data removed]",
      "text/plain": [
       "<Figure size 432x288 with 1 Axes>"
      ]
     },
     "metadata": {
      "tags": []
     },
     "output_type": "display_data"
    }
   ],
   "source": [
    "res = rcnn.evaluate(model,rcnn.x_test[372])\n",
    "print(\"Predicted Label: {0},{1}\".format(0,res[1]))\n",
    "plt.imshow(res[0])"
   ]
  },
  {
   "cell_type": "code",
   "execution_count": 0,
   "metadata": {
    "colab": {},
    "colab_type": "code",
    "id": "VvgtIVGC9o5_"
   },
   "outputs": [],
   "source": []
  }
 ],
 "metadata": {
  "accelerator": "GPU",
  "colab": {
   "collapsed_sections": [],
   "name": "Vanilla_RCNN.ipynb",
   "provenance": [],
   "version": "0.3.2"
  },
  "kernelspec": {
   "display_name": "Python 3",
   "language": "python",
   "name": "python3"
  },
  "language_info": {
   "codemirror_mode": {
    "name": "ipython",
    "version": 3
   },
   "file_extension": ".py",
   "mimetype": "text/x-python",
   "name": "python",
   "nbconvert_exporter": "python",
   "pygments_lexer": "ipython3",
   "version": "3.6.7"
  }
 },
 "nbformat": 4,
 "nbformat_minor": 1
}
