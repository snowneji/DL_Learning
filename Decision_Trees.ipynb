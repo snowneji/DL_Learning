{
 "cells": [
  {
   "cell_type": "markdown",
   "metadata": {},
   "source": [
    "### Author: Yifan Wang"
   ]
  },
  {
   "cell_type": "markdown",
   "metadata": {},
   "source": [
    "# Part 1: ID3\n",
    "\n",
    "\n"
   ]
  },
  {
   "cell_type": "code",
   "execution_count": 79,
   "metadata": {},
   "outputs": [],
   "source": [
    "from sklearn.datasets import load_breast_cancer\n",
    "import numpy as np\n",
    "from collections import Counter"
   ]
  },
  {
   "cell_type": "code",
   "execution_count": 177,
   "metadata": {},
   "outputs": [],
   "source": [
    "# Helper Functions.\n",
    "# Basically our tree will be searching for the best info gain at each split\n",
    "\n",
    "\n",
    "def entropy(tmp_y):\n",
    "    '''\n",
    "    Key Metrics of building a decision tree\n",
    "    Specifically Shannon Entropy\n",
    "    '''\n",
    "    tmp_ent = 0\n",
    "    for uni_y in np.unique(tmp_y):\n",
    "        p = len(tmp_y[tmp_y==uni_y])/len(tmp_y)\n",
    "        tmp_ent -= (p*np.log2(p))\n",
    "    return tmp_ent\n",
    "\n",
    "\n",
    "def decide_split_data(x,y):\n",
    "    '''\n",
    "    Given subset of X,Y, search for the best splitting node based on:\n",
    "    \n",
    "    information gain\n",
    "    '''\n",
    "    m,n = x.shape\n",
    "    best_gain = 0\n",
    "    split_row, split_col = None,None\n",
    "    \n",
    "    previous_entropy = entropy(y)\n",
    "    for col in range(n):\n",
    "        tmp_vec = x[:,col].ravel()\n",
    "\n",
    "        for row in range(m):\n",
    "            val = tmp_vec[row]\n",
    "            # >= & < is my convention here:\n",
    "            if val!=np.max(tmp_vec) and val!= np.min(tmp_vec):\n",
    "                left_b = np.where(tmp_vec<val)[0].tolist()\n",
    "                right_b = np.where(tmp_vec>=val)[0].tolist()\n",
    "\n",
    "                # new entropy is the weighted  average entropy from each of the subset\n",
    "                new_ent = \\\n",
    "                (len(y[left_b])/len(y))*entropy(y[left_b]) + \\\n",
    "                (len(y[right_b])/len(y))*entropy(y[right_b])\n",
    "                \n",
    "                \n",
    "#                 print('new entropy: %f'%new_ent)\n",
    "                info_gain = previous_entropy - new_ent\n",
    "\n",
    "                if info_gain > best_gain:\n",
    "                    split_row, split_col = row,col\n",
    "                    best_gain = info_gain\n",
    "                    print('better gain:{}'.format(best_gain))\n",
    "                    print()\n",
    "\n",
    "    return split_row, split_col\n",
    "                \n",
    "                \n",
    "\n",
    "def mode(x_list):\n",
    "    return Counter(x_list).most_common(1)[0][0]\n",
    "    \n"
   ]
  },
  {
   "cell_type": "code",
   "execution_count": 178,
   "metadata": {},
   "outputs": [],
   "source": [
    "### Again, breast cancer data, just a subset because I write crappy code and i might break\n",
    "X,y = load_breast_cancer(return_X_y=True)\n",
    "X,y = X[:30,:5],y[:30,]"
   ]
  },
  {
   "cell_type": "code",
   "execution_count": 179,
   "metadata": {},
   "outputs": [],
   "source": [
    "least_children = 2 # this can control overfit, maybe should more?"
   ]
  },
  {
   "cell_type": "code",
   "execution_count": 180,
   "metadata": {},
   "outputs": [],
   "source": [
    "def build_tree(tmp_x,tmp_y,threshold=1):\n",
    "#     Exit Condition 0:\n",
    "    \n",
    "    # Exit Condition 1:\n",
    "    if \\\n",
    "    len(tmp_y)== 1 or len(np.unique(tmp_y))==1:\n",
    "        print('exit condition:')\n",
    "        print('tmp_y:')\n",
    "        print(tmp_y)\n",
    "        \n",
    "        mode_val = mode(tmp_y.flatten().tolist())\n",
    "        return([np.nan, mode_val, np.nan, np.nan]) # Leaf Node: format [feat,splitval,]\n",
    "    \n",
    "    \n",
    "    \n",
    "    \n",
    "    \n",
    "    \n",
    "    # Otherwise Split:\n",
    "    print(\"start....subset Y len {}\".format(len(tmp_y)))\n",
    "    split_row,split_col = decide_split_data(tmp_x,tmp_y)\n",
    "    \n",
    "    if not split_row and not split_col:\n",
    "        print('no better split...return mode')\n",
    "        mode_val = mode(tmp_y.flatten().tolist())\n",
    "        return([np.nan, mode_val, np.nan, np.nan])\n",
    "        \n",
    "    \n",
    "    print(\"split on:\")\n",
    "    print(split_row,split_col)\n",
    "    split_vec = tmp_x[:,split_col]\n",
    "    split_val = tmp_x[split_row,split_col]\n",
    "    \n",
    "    # Recursively Split to left and right branches:\n",
    "    left_ind = np.where(split_vec<split_val)[0].tolist()\n",
    "    right_ind = np.where(split_vec>=split_val)[0].tolist()\n",
    "    left_dat,left_y = tmp_x[left_ind,:],tmp_y[left_ind,]\n",
    "    right_dat,right_y = tmp_x[right_ind,:],tmp_y[right_ind,]\n",
    "    \n",
    "    \n",
    "#     print('left dat shape')\n",
    "#     print(left_dat.shape)\n",
    "#     print(left_y.shape)\n",
    "#     print('right dat shape')\n",
    "#     print(right_dat.shape)\n",
    "#     print(right_y.shape)\n",
    "#     print()\n",
    "    \n",
    "    \n",
    "    left_tree = build_tree(left_dat,left_y)\n",
    "    right_tree = build_tree(right_dat,right_y)\n",
    "    \n",
    "    \n",
    "    if isinstance(left_tree, list): # If list, tree len 1\n",
    "        len_l_tree = 1\n",
    "    else:\n",
    "        len_l_tree = left_tree.shape[0] # If array, tree len >1\n",
    "    print('len left tree {}'.format(len_l_tree))\n",
    "    \n",
    "    \n",
    "    \n",
    "    root = [split_col,split_val,1,len_l_tree+1] # Format [split_col, split_val, left_tree_relative_idx, right_tree_relative_idx]\n",
    "    \n",
    "    \n",
    "    \n",
    "    return(np.vstack([root,left_tree,right_tree]))"
   ]
  },
  {
   "cell_type": "code",
   "execution_count": 181,
   "metadata": {},
   "outputs": [
    {
     "name": "stdout",
     "output_type": "stream",
     "text": [
      "start....subset Y len 30\n",
      "better gain:0.054824648581652036\n",
      "\n",
      "better gain:0.11901271691308318\n",
      "\n",
      "better gain:0.23910902851462254\n",
      "\n",
      "better gain:0.2689955935892812\n",
      "\n",
      "split on:\n",
      "8 2\n",
      "start....subset Y len 6\n",
      "better gain:0.19087450462110944\n",
      "\n",
      "better gain:0.4591479170272448\n",
      "\n",
      "better gain:1.0\n",
      "\n",
      "split on:\n",
      "2 4\n",
      "exit condition:\n",
      "tmp_y:\n",
      "[1 1 1]\n",
      "exit condition:\n",
      "tmp_y:\n",
      "[0 0 0]\n",
      "len left tree 1\n",
      "exit condition:\n",
      "tmp_y:\n",
      "[0 0 0 0 0 0 0 0 0 0 0 0 0 0 0 0 0 0 0 0 0 0 0 0]\n",
      "len left tree 3\n"
     ]
    }
   ],
   "source": [
    "tree = build_tree(X,y)"
   ]
  },
  {
   "cell_type": "markdown",
   "metadata": {},
   "source": [
    "#### This is how our tree look like, spend some time to stare at it\n",
    "\n",
    "* Each row is a node\n",
    "\n",
    "* the rows with 3 nan are leaves, means no more children they have\n",
    "\n",
    "* The format is [split_col, split_val, left_tree_relative_idx, right_tree_relative_idx]"
   ]
  },
  {
   "cell_type": "code",
   "execution_count": 183,
   "metadata": {},
   "outputs": [
    {
     "data": {
      "text/plain": [
       "array([[ 2.    , 87.5   ,  1.    ,  4.    ],\n",
       "       [ 4.    ,  0.1186,  1.    ,  2.    ],\n",
       "       [    nan,  1.    ,     nan,     nan],\n",
       "       [    nan,  0.    ,     nan,     nan],\n",
       "       [    nan,  0.    ,     nan,     nan]])"
      ]
     },
     "execution_count": 183,
     "metadata": {},
     "output_type": "execute_result"
    }
   ],
   "source": [
    "tree"
   ]
  },
  {
   "cell_type": "code",
   "execution_count": 191,
   "metadata": {},
   "outputs": [],
   "source": [
    "def query(tree,tmp_test_array):\n",
    "    '''\n",
    "    Test for single example\n",
    "    '''\n",
    "    assert len(tmp_test_array.shape) == 2, \"Make sure your test data is 2d array\"\n",
    "#     print(tree)\n",
    "\n",
    "    start_node = tree[0,:] # Iteratively hit first row\n",
    "#     print(start_node)\n",
    "#     print()\n",
    "    test_feat,test_val,left_tree_jump,right_tree_jump = start_node[0],start_node[1],start_node[2],start_node[3]\n",
    "     \n",
    "    # Exit Condition:\n",
    "    if np.isnan(test_feat) and np.isnan(left_tree_jump) and np.isnan(right_tree_jump):\n",
    "        pred = test_val;\n",
    "        return pred \n",
    "    #Test:\n",
    "    if tmp_test_array[0,int(test_feat)] < test_val:\n",
    "        # If <, go left branch:\n",
    "        jump_loc = left_tree_jump\n",
    "        pred = query(tree[int(jump_loc):,],tmp_test_array)\n",
    "    \n",
    "    else:\n",
    "        # If >=, go right branch:\n",
    "        jump_loc = right_tree_jump\n",
    "        pred = query(tree[int(jump_loc):,],tmp_test_array)\n",
    "\n",
    "    return pred\n",
    "    \n",
    "    \n",
    "    \n",
    "def predict(tree,tmp_test_array):\n",
    "    '''\n",
    "    Wrap-up fun for prediction\n",
    "    '''\n",
    "\n",
    "    assert len(tmp_test_array.shape) == 2, \"Make sure your test data is 2d array\"\n",
    "    result = []\n",
    "\n",
    "    for i in range(tmp_test_array.shape[0]):\n",
    "        inp = tmp_test_array[i,:].reshape(1,-1)\n",
    "        result.append(query(tree,inp))\n",
    "    return result  \n",
    "        \n",
    "        \n",
    "        \n",
    "    "
   ]
  },
  {
   "cell_type": "code",
   "execution_count": 194,
   "metadata": {},
   "outputs": [],
   "source": [
    "# We gonna cheat here, in-sample prediction:\n",
    "pred = predict(tree,X)"
   ]
  },
  {
   "cell_type": "code",
   "execution_count": 198,
   "metadata": {},
   "outputs": [
    {
     "name": "stdout",
     "output_type": "stream",
     "text": [
      "    in_sample_prediction  label\n",
      "0                    0.0      0\n",
      "1                    0.0      0\n",
      "2                    0.0      0\n",
      "3                    0.0      0\n",
      "4                    0.0      0\n",
      "5                    0.0      0\n",
      "6                    0.0      0\n",
      "7                    0.0      0\n",
      "8                    0.0      0\n",
      "9                    0.0      0\n",
      "10                   0.0      0\n",
      "11                   0.0      0\n",
      "12                   0.0      0\n",
      "13                   0.0      0\n",
      "14                   0.0      0\n",
      "15                   0.0      0\n",
      "16                   0.0      0\n",
      "17                   0.0      0\n",
      "18                   0.0      0\n",
      "19                   1.0      1\n",
      "20                   1.0      1\n",
      "21                   1.0      1\n",
      "22                   0.0      0\n",
      "23                   0.0      0\n",
      "24                   0.0      0\n",
      "25                   0.0      0\n",
      "26                   0.0      0\n",
      "27                   0.0      0\n",
      "28                   0.0      0\n",
      "29                   0.0      0\n"
     ]
    }
   ],
   "source": [
    "import pandas\n",
    "print(pandas.DataFrame([i for i in zip(pred,y)],columns=['in_sample_prediction','label']))"
   ]
  },
  {
   "cell_type": "markdown",
   "metadata": {},
   "source": [
    "Yay All correct!!"
   ]
  },
  {
   "cell_type": "markdown",
   "metadata": {},
   "source": [
    "### Next: \n",
    "\n",
    "* Perfect Ensemble Random Trees\n",
    "* Random Forest\n",
    "* Gradient Boosting"
   ]
  },
  {
   "cell_type": "code",
   "execution_count": null,
   "metadata": {},
   "outputs": [],
   "source": []
  }
 ],
 "metadata": {
  "kernelspec": {
   "display_name": "Python 3",
   "language": "python",
   "name": "python3"
  },
  "language_info": {
   "codemirror_mode": {
    "name": "ipython",
    "version": 3
   },
   "file_extension": ".py",
   "mimetype": "text/x-python",
   "name": "python",
   "nbconvert_exporter": "python",
   "pygments_lexer": "ipython3",
   "version": "3.6.5"
  }
 },
 "nbformat": 4,
 "nbformat_minor": 2
}
