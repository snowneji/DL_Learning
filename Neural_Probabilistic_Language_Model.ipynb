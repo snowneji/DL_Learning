{
 "cells": [
  {
   "cell_type": "markdown",
   "metadata": {},
   "source": [
    "Recently I was reading the paper: **A Neural Probabilistic Language Model** from Yoshua Bengio: [paper's link](http://www.jmlr.org/papers/volume3/bengio03a/bengio03a.pdf), which is the milestone of using Neural Network for Language Model. Traditionally, we multiply the chain of conditional probablity to estimate the probablity of the next word. However, the problem is in real world text, we got hundreds and thousands of words, which makes our calculation very expensive. One work around is to apply **n-gram** technique, which is basically just to estimate the probability using recent n words. What Yoshua Bengio did is using a neural network to build the language model, I believe later work such as **Word2vec** has some similar spirit to this work, so I decided to build  NNLM from scratch to understand it better."
   ]
  },
  {
   "cell_type": "markdown",
   "metadata": {},
   "source": [
    "According to the paper the overall approach is as the follows:\n",
    "\n",
    "1. associate with each word in the vocabulary a distributed word feature vector (a real- valued vector in Rm),\n",
    "2. express the joint probability function of word sequences in terms of the feature vectors of these words in the sequence, and\n",
    "3. learn simultaneously the word feature vectors and the parameters of that probability function."
   ]
  },
  {
   "cell_type": "markdown",
   "metadata": {},
   "source": [
    "So to get the next word unnormalized log probablity of each word, we simply calculate the following :\n",
    "    \n",
    "    \n",
    "    y = b + W x + U tanh(d + H x)\n",
    "    \n",
    "    \n",
    "in which the weight matrices:H,U,W and the biases: b,d are learned from the neural network.\n",
    "After we get y, we find the normalized probability using through `softmax(y)`"
   ]
  },
  {
   "cell_type": "code",
   "execution_count": 1,
   "metadata": {},
   "outputs": [],
   "source": [
    "import numpy as np\n",
    "from numpy import newaxis\n",
    "import time\n",
    "import matplotlib.pyplot as plt\n",
    "from tqdm import tqdm\n",
    "import re"
   ]
  },
  {
   "cell_type": "code",
   "execution_count": 2,
   "metadata": {},
   "outputs": [],
   "source": [
    "def oheY(Y,idx2word):\n",
    "    ncol = len(idx2word.keys())\n",
    "    nrow = len(Y)\n",
    "    OHE_Y = np.zeros((nrow,ncol))\n",
    "    for r in range(len(Y)):\n",
    "        if not isinstance(Y[r],list):\n",
    "            OHE_Y[r,Y[r]] = 1\n",
    "        else:\n",
    "            row_val = Y[r]\n",
    "            for c in row_val:\n",
    "                OHE_Y[r,c] = 1\n",
    "                \n",
    "    return OHE_Y\n",
    "        \n",
    "\n",
    "    \n",
    "def tokenize(x_list,word2idx,START_TOKEN,END_TOKEN):\n",
    "    #unique tokens:\n",
    "    unique_x = list(set([j for i in x_list for j in i]))\n",
    "    \n",
    "    for w in unique_x:\n",
    "        if w not in word2idx:\n",
    "            word2idx[w] = len(word2idx)\n",
    "    \n",
    "    \n",
    "        \n",
    "    idx2word = {i[1]:i[0] for i in word2idx.items()}\n",
    "    # Encode:\n",
    "    tokened_x_list = []\n",
    "    for sentence in x_list:\n",
    "        temp_sent = []\n",
    "        for word in sentence:\n",
    "            token = word2idx.get(word,-1)\n",
    "            temp_sent.append(token)\n",
    "        \n",
    "        tokened_x_list.append(temp_sent)\n",
    "    return tokened_x_list,idx2word,word2idx\n",
    "            \n",
    "\n",
    "    \n",
    "\n",
    "            \n",
    "            \n",
    "\n",
    "        \n",
    "def softmax(x):\n",
    "    e_x = np.exp(x)\n",
    "    return np.divide(e_x,e_x.sum(axis=1).reshape(-1,1))\n",
    "            \n",
    "            \n",
    "\n",
    "def sigmoid(x):\n",
    "    \n",
    "    return 1/(1+np.exp(-x))\n",
    "    \n",
    "    \n",
    "\n",
    "    \n",
    "def training_data_prep(x_list,n):\n",
    "    \"\"\"\n",
    "\n",
    "    \n",
    "    Arguments:\n",
    "        x_list(list): tokenized training data\n",
    "        \n",
    "        n: numbers of context word to look at to predict the next word\n",
    "    \n",
    "    Returns:\n",
    "        processd_data(list):  a list of tuples represents the processed data. Each pair of tuple is a (x,y) pair\n",
    "        \n",
    "    \"\"\"\n",
    "    X = []\n",
    "    Y = []\n",
    "    \n",
    "    for row in x_list:\n",
    "        row_len = len(row)\n",
    "        for i in range(n,row_len):\n",
    "       \n",
    "\n",
    "            X.append(row[(i-n):i])\n",
    "            Y.append(row[i])\n",
    "\n",
    "     \n",
    "    \n",
    "    return X,Y\n",
    "            \n",
    "    \n",
    "\n",
    "    \n",
    "    \n",
    "def tanh(x,if_derivative=False):\n",
    "    \n",
    "    if if_derivative:\n",
    "        return 1 - np.tanh(x)*np.tanh(x)\n",
    "    else:\n",
    "        return np.tanh(x)\n",
    "    \n",
    "    \n",
    "\n",
    "    \n",
    "def cross_entropy(y,y_hat):\n",
    "    return -np.sum(y*np.log(y_hat+1e-9))/len(y)\n",
    "    \n",
    "    \n",
    "\n",
    "    \n",
    "def text_clean(x_string):\n",
    "    x_string = x_string.lower()\n",
    "    x_string = re.sub(r'[\\w\\.-]+@[\\w\\.-]+(\\.[\\w]+)+','',x_string)\n",
    "    x_string = x_string.replace(\"\\n\",\" \")\n",
    "    x_string = x_string.replace(\"\\t\",\" \")\n",
    "\n",
    "    x_string = re.sub(r'[^\\s\\w_]+',' ',x_string)\n",
    "\n",
    "    return x_string"
   ]
  },
  {
   "cell_type": "code",
   "execution_count": 3,
   "metadata": {},
   "outputs": [],
   "source": [
    "\n",
    "data = [\n",
    "    'apple and banana are delicious food',\n",
    "    'I love play video game in game studio',\n",
    "    'i have orc warrior in world of warcraft',\n",
    "    'super mario is the best video game ever',\n",
    "    'is warcraft and world of warcraft the same game',\n",
    "    'icecream is too sweet for a meal',\n",
    "    'dove chocolate is my favorite',\n",
    "    'which is sweet chocolate or icecream',\n",
    "    'chocolate or banana or icecream is the most delicious food',\n",
    "    'go to buy a banana bread for my lunch',\n",
    "    'banana apple smoothie is the best for lunch',\n",
    "    'chocolate icecream taste more delicious than banana',\n",
    "    'chicken sandwich is different from chicken bread',\n",
    "    'The present tense is more common in writing', \n",
    "    'As you can see by all the explanations I give', \n",
    "    'Instructional writing is more commonly written in present tense',\n",
    "    'I want to make sure everyone is ready for the field trip next week',\n",
    "    'I find it rather difficult to pick one that leaves me with the fabled',\n",
    "    'I had the pleasure of traveling across America in many moving trips',\n",
    "    'The blazing, red, diesel fuel tanks beamed in front of the station, looking like cheap lipstick',\n",
    "    'This family was a victim of a problem they could have avoided',\n",
    "    'Do you think that schools should track students with tracking technology',\n",
    "    'im writing an essay write now and im getting super confused',\n",
    "    'Despite heading the Forbes list, Messi has endured a mixed season at the Catalan club',\n",
    "    'The move comes ahead of a vote in the committee',\n",
    "    'At least one federal court in a different, but related case, agreed with the administration',\n",
    "    'tomorrow evening is probably a better time to work on the assignment',\n",
    "    'do you think computer will replace human in the future',\n",
    "    'I think school is the worst place'\n",
    "]\n",
    "\n",
    "\n"
   ]
  },
  {
   "cell_type": "markdown",
   "metadata": {},
   "source": [
    "#### Basic Text Clean"
   ]
  },
  {
   "cell_type": "code",
   "execution_count": 4,
   "metadata": {},
   "outputs": [],
   "source": [
    "data = [text_clean(sent) for sent in data]\n",
    "data = [sent.split(\" \") for sent in data]\n",
    "data = [[word for word in sent if len(word)>1] for sent in data]"
   ]
  },
  {
   "cell_type": "markdown",
   "metadata": {},
   "source": [
    "#### Tokenization:"
   ]
  },
  {
   "cell_type": "code",
   "execution_count": 12,
   "metadata": {},
   "outputs": [],
   "source": [
    "START_TOKEN = '^'\n",
    "END_TOKEN = '$'\n",
    "init_dict = {START_TOKEN:0,END_TOKEN:1}"
   ]
  },
  {
   "cell_type": "code",
   "execution_count": 13,
   "metadata": {},
   "outputs": [],
   "source": [
    "tokenized_data_list,idx2word,word2idx = tokenize(data,init_dict,START_TOKEN,END_TOKEN)"
   ]
  },
  {
   "cell_type": "code",
   "execution_count": 14,
   "metadata": {},
   "outputs": [
    {
     "name": "stdout",
     "output_type": "stream",
     "text": [
      "{'^': 0, '$': 1, 'lipstick': 2, 'many': 3, 'better': 4, 'trip': 5, 'season': 6, 'in': 7, 'are': 8, 'is': 9, 'had': 10, 'an': 11, 'family': 12, 'they': 13, 'chicken': 14, 'red': 15, 'computer': 16, 'all': 17, 'banana': 18, 'has': 19, 'ever': 20, 'evening': 21, 'avoided': 22, 'fuel': 23, 'orc': 24, 'buy': 25, 'different': 26, 'to': 27, 'of': 28, 'looking': 29, 'will': 30, 'most': 31, 'week': 32, 'written': 33, 'writing': 34, 'than': 35, 'trips': 36, 'want': 37, 'think': 38, 'school': 39, 'least': 40, 'this': 41, 'like': 42, 'related': 43, 'warcraft': 44, 'apple': 45, 'for': 46, 'tense': 47, 'tanks': 48, 'could': 49, 'ahead': 50, 'probably': 51, 'time': 52, 'sure': 53, 'sweet': 54, 'bread': 55, 'game': 56, 'comes': 57, 'agreed': 58, 'from': 59, 'give': 60, 'worst': 61, 'place': 62, 'list': 63, 'play': 64, 'taste': 65, 'commonly': 66, 'leaves': 67, 'blazing': 68, 'case': 69, 'club': 70, 'should': 71, 'have': 72, 'everyone': 73, 'difficult': 74, 'explanations': 75, 'dove': 76, 'food': 77, 'despite': 78, 'committee': 79, 'instructional': 80, 'smoothie': 81, 'sandwich': 82, 'common': 83, 'lunch': 84, 'it': 85, 'was': 86, 'tracking': 87, 'administration': 88, 'ready': 89, 'that': 90, 'court': 91, 'pick': 92, 'tomorrow': 93, 'fabled': 94, 'on': 95, 'can': 96, 'traveling': 97, 'write': 98, 'too': 99, 'by': 100, 'victim': 101, 'technology': 102, 'forbes': 103, 'schools': 104, 'students': 105, 'future': 106, 'best': 107, 'delicious': 108, 'replace': 109, 'station': 110, 'super': 111, 'me': 112, 'see': 113, 'cheap': 114, 'messi': 115, 'present': 116, 'confused': 117, 'track': 118, 'meal': 119, 'problem': 120, 'with': 121, 'you': 122, 'human': 123, 'now': 124, 'my': 125, 'favorite': 126, 'more': 127, 'heading': 128, 'do': 129, 'getting': 130, 'mario': 131, 'move': 132, 'america': 133, 'at': 134, 'vote': 135, 'world': 136, 'love': 137, 'warrior': 138, 'catalan': 139, 'endured': 140, 'make': 141, 'beamed': 142, 'which': 143, 'studio': 144, 'work': 145, 'and': 146, 'im': 147, 'go': 148, 'rather': 149, 'icecream': 150, 'essay': 151, 'moving': 152, 'federal': 153, 'find': 154, 'diesel': 155, 'same': 156, 'mixed': 157, 'video': 158, 'front': 159, 'or': 160, 'pleasure': 161, 'the': 162, 'one': 163, 'but': 164, 'across': 165, 'as': 166, 'assignment': 167, 'field': 168, 'next': 169, 'chocolate': 170}\n"
     ]
    }
   ],
   "source": [
    "print(word2idx)"
   ]
  },
  {
   "cell_type": "markdown",
   "metadata": {},
   "source": [
    "#### Prepare the Training Data:\n",
    "\n",
    "To prepare the training data, we use n words before the target word to predict it, so we have the following output:"
   ]
  },
  {
   "cell_type": "code",
   "execution_count": 16,
   "metadata": {},
   "outputs": [],
   "source": [
    "N = 3  # think of 3-gram: 3 previous word to predict the target word"
   ]
  },
  {
   "cell_type": "code",
   "execution_count": 17,
   "metadata": {},
   "outputs": [],
   "source": [
    "X,Y = training_data_prep(tokenized_data_list,n=N)"
   ]
  },
  {
   "cell_type": "code",
   "execution_count": 18,
   "metadata": {},
   "outputs": [
    {
     "name": "stdout",
     "output_type": "stream",
     "text": [
      "['apple', 'and', 'banana'] -> are\n",
      "['and', 'banana', 'are'] -> delicious\n",
      "['banana', 'are', 'delicious'] -> food\n",
      "['love', 'play', 'video'] -> game\n",
      "['play', 'video', 'game'] -> in\n",
      "['video', 'game', 'in'] -> game\n",
      "['game', 'in', 'game'] -> studio\n",
      "['have', 'orc', 'warrior'] -> in\n",
      "['orc', 'warrior', 'in'] -> world\n",
      "['warrior', 'in', 'world'] -> of\n",
      "['in', 'world', 'of'] -> warcraft\n",
      "['super', 'mario', 'is'] -> the\n",
      "['mario', 'is', 'the'] -> best\n",
      "['is', 'the', 'best'] -> video\n",
      "['the', 'best', 'video'] -> game\n",
      "['best', 'video', 'game'] -> ever\n",
      "['is', 'warcraft', 'and'] -> world\n",
      "['warcraft', 'and', 'world'] -> of\n",
      "['and', 'world', 'of'] -> warcraft\n",
      "['world', 'of', 'warcraft'] -> the\n",
      "['of', 'warcraft', 'the'] -> same\n",
      "['warcraft', 'the', 'same'] -> game\n",
      "['icecream', 'is', 'too'] -> sweet\n",
      "['is', 'too', 'sweet'] -> for\n",
      "['too', 'sweet', 'for'] -> meal\n",
      "['dove', 'chocolate', 'is'] -> my\n",
      "['chocolate', 'is', 'my'] -> favorite\n",
      "['which', 'is', 'sweet'] -> chocolate\n",
      "['is', 'sweet', 'chocolate'] -> or\n",
      "['sweet', 'chocolate', 'or'] -> icecream\n",
      "['chocolate', 'or', 'banana'] -> or\n",
      "['or', 'banana', 'or'] -> icecream\n",
      "['banana', 'or', 'icecream'] -> is\n",
      "['or', 'icecream', 'is'] -> the\n",
      "['icecream', 'is', 'the'] -> most\n",
      "['is', 'the', 'most'] -> delicious\n",
      "['the', 'most', 'delicious'] -> food\n",
      "['go', 'to', 'buy'] -> banana\n",
      "['to', 'buy', 'banana'] -> bread\n",
      "['buy', 'banana', 'bread'] -> for\n",
      "['banana', 'bread', 'for'] -> my\n",
      "['bread', 'for', 'my'] -> lunch\n",
      "['banana', 'apple', 'smoothie'] -> is\n",
      "['apple', 'smoothie', 'is'] -> the\n",
      "['smoothie', 'is', 'the'] -> best\n",
      "['is', 'the', 'best'] -> for\n",
      "['the', 'best', 'for'] -> lunch\n",
      "['chocolate', 'icecream', 'taste'] -> more\n",
      "['icecream', 'taste', 'more'] -> delicious\n",
      "['taste', 'more', 'delicious'] -> than\n"
     ]
    }
   ],
   "source": [
    "for i in range(50):\n",
    "    tmpx = [idx2word.get(idx) for idx in X[i]]\n",
    "    tmpy = idx2word.get(Y[i])\n",
    "    print(f\"{tmpx} -> {tmpy}\")"
   ]
  },
  {
   "cell_type": "markdown",
   "metadata": {},
   "source": [
    "#### OHE:\n",
    "\n",
    "To feed into the network, we need to `one-hot-encode` our X and Y:"
   ]
  },
  {
   "cell_type": "code",
   "execution_count": 19,
   "metadata": {},
   "outputs": [],
   "source": [
    "ohe_Y = oheY(Y,idx2word)"
   ]
  },
  {
   "cell_type": "code",
   "execution_count": 20,
   "metadata": {},
   "outputs": [],
   "source": [
    "X_train = []\n",
    "for sent in X:\n",
    "    X_train.append(oheY(sent,idx2word))\n",
    "X_train = np.array(X_train)"
   ]
  },
  {
   "cell_type": "markdown",
   "metadata": {},
   "source": [
    "#### Now let's start working on the NN Architecture:\n",
    "\n"
   ]
  },
  {
   "cell_type": "markdown",
   "metadata": {},
   "source": [
    "We need to initialize some weights according to the paper:"
   ]
  },
  {
   "cell_type": "code",
   "execution_count": 21,
   "metadata": {},
   "outputs": [],
   "source": [
    "V = len(idx2word) # vocabulary size"
   ]
  },
  {
   "cell_type": "code",
   "execution_count": 24,
   "metadata": {},
   "outputs": [],
   "source": [
    "h = 32 # number of hiddent units"
   ]
  },
  {
   "cell_type": "code",
   "execution_count": 43,
   "metadata": {},
   "outputs": [],
   "source": [
    "m = 10 #5 embedding dimension"
   ]
  },
  {
   "cell_type": "code",
   "execution_count": 44,
   "metadata": {},
   "outputs": [],
   "source": [
    "n_iter = 300 #300\n",
    "alpha = 0.001"
   ]
  },
  {
   "cell_type": "code",
   "execution_count": 45,
   "metadata": {},
   "outputs": [],
   "source": [
    "a = 1"
   ]
  },
  {
   "cell_type": "code",
   "execution_count": 46,
   "metadata": {},
   "outputs": [],
   "source": [
    "\n",
    "\n",
    "C = np.random.normal(size=(V,m)) # embedding weight matrix\n",
    "\n",
    "\n",
    "\n",
    "\n",
    "U = np.random.normal(size=(V,h)) # embedding weight matrix\n",
    "W = np.random.normal(size=(V,N*m   )) # embedding weight matrix\n",
    "\n",
    "H = np.random.normal(size=(h,N*m)) # Hidden Layer matrix \n",
    "\n",
    "d = np.zeros((1,h))\n",
    "\n",
    "b = np.zeros((1,V))"
   ]
  },
  {
   "cell_type": "code",
   "execution_count": 47,
   "metadata": {},
   "outputs": [],
   "source": [
    "LOSS = []"
   ]
  },
  {
   "cell_type": "code",
   "execution_count": 48,
   "metadata": {},
   "outputs": [
    {
     "name": "stdout",
     "output_type": "stream",
     "text": [
      "Loss--17.5863945012791\n",
      "Loss--16.301090109644164\n",
      "Loss--15.07763623039535\n",
      "Loss--13.786544829959984\n",
      "Loss--12.581451978322162\n",
      "Loss--11.52855685054172\n",
      "Loss--10.532200729062874\n",
      "Loss--9.62115094786437\n",
      "Loss--8.804832455889342\n",
      "Loss--8.071000592576839\n",
      "Loss--7.3740497279147075\n",
      "Loss--6.724245348594548\n",
      "Loss--6.125990288990051\n",
      "Loss--5.576022455505613\n",
      "Loss--5.098825581125461\n",
      "Loss--4.668001167861786\n",
      "Loss--4.269081094027796\n",
      "Loss--3.893110833388573\n",
      "Loss--3.554180746917457\n",
      "Loss--3.2565690579755997\n",
      "Loss--3.001068702101286\n",
      "Loss--2.771461510292399\n",
      "Loss--2.5605727124608664\n",
      "Loss--2.365650415155716\n",
      "Loss--2.189037601077022\n",
      "Loss--2.029182396691733\n",
      "Loss--1.8800957636454982\n",
      "Loss--1.7403736507369145\n",
      "Loss--1.615985497526483\n",
      "Loss--1.503403130330452\n",
      "Loss--1.4015552634871564\n",
      "Loss--1.309298123561214\n",
      "Loss--1.2249641301926362\n",
      "Loss--1.1477363521972996\n",
      "Loss--1.0773685269267754\n",
      "Loss--1.0131205916002544\n",
      "Loss--0.954047421185588\n",
      "Loss--0.8990129286092258\n",
      "Loss--0.8475567191716692\n",
      "Loss--0.8004964210184423\n",
      "Loss--0.7577854249117643\n",
      "Loss--0.719095196079839\n",
      "Loss--0.6840360549913189\n",
      "Loss--0.6519367695359541\n",
      "Loss--0.6220510047143719\n",
      "Loss--0.5933512594459367\n",
      "Loss--0.5634146532712833\n",
      "Loss--0.5283231797814909\n",
      "Loss--0.5025873666952934\n",
      "Loss--0.4813443113769996\n",
      "Loss--0.46213091803695544\n",
      "Loss--0.44447204679564006\n",
      "Loss--0.4282673148783015\n",
      "Loss--0.4134567519885855\n",
      "Loss--0.39987212715295195\n",
      "Loss--0.3872857151085926\n",
      "Loss--0.37550144129589563\n",
      "Loss--0.36437329380334693\n",
      "Loss--0.3537886293500405\n",
      "Loss--0.34364577537993773\n"
     ]
    }
   ],
   "source": [
    "for iter in range(n_iter):\n",
    "    \n",
    "    # Forward Propagation:\n",
    "    x0 = X_train.dot(C) # query the word vector from Word Embedding Layer:  MxNxH\n",
    "    x = x0.reshape(x0.shape[0],-1) # Concat: Mx(N*H)\n",
    "    hx = x.dot(H.T) + d#Mxh\n",
    "    act_hx = tanh(hx,if_derivative=False)#Mxh\n",
    "    U_act_hx = act_hx.dot(U.T) # MxV\n",
    "    Wx = x.dot(W.T) #MxV\n",
    "    \n",
    "    add_all_x = b+Wx+U_act_hx\n",
    "    output = softmax(add_all_x)\n",
    "    loss = cross_entropy(ohe_Y,output)\n",
    "    LOSS.append(loss)\n",
    "    if iter%5==0:\n",
    "        print(f\"Loss--{loss}\")\n",
    "    \n",
    "    \n",
    "    # Backward Propagation\n",
    "\n",
    "    #d_loss/d_add_all_x: (I hacked this step), d of cross_entropy+softmax is the subtraction\n",
    "    d_add_all_x = output - ohe_Y\n",
    "    \n",
    "    \n",
    "    d_b = d_add_all_x.sum(axis=0,keepdims=True)\n",
    "    d_Wx = d_add_all_x.copy() # mxv\n",
    "    d_U_act_hx = d_add_all_x.copy()\n",
    "    \n",
    "    #d_loss/d_w\n",
    "    d_W = d_Wx.T.dot(x)\n",
    "    #d_loss/d_U\n",
    "    d_U = d_U_act_hx.T.dot(act_hx)\n",
    "    #d_loss/d_act_hx\n",
    "    d_act_hx = d_U_act_hx.dot(U)\n",
    "    #d_loss/d_hx\n",
    "    d_hx = d_act_hx* tanh(act_hx,if_derivative=True)\n",
    "    #d_loss/d_H\n",
    "    d_H = d_hx.T.dot(x)\n",
    "   \n",
    "    #d_loss/d_x\n",
    "    d_x = d_hx.dot(H)\n",
    "\n",
    "    #d_loss/d_d\n",
    "    d_d = d_hx.sum(axis=0,keepdims=True)\n",
    "\n",
    "\n",
    "    \n",
    "    # reshap back\n",
    "    d_x = d_x.reshape(x0.shape)\n",
    "\n",
    "\n",
    "    #     d_loss/d_C\n",
    "    d_C = np.zeros(C.shape) \n",
    "    for v in range(C.shape[0]):\n",
    "        for w in range(C.shape[1]):\n",
    "            d_C[v,w] = np.tensordot(d_x[:,:,w],X_train[:,:,v])\n",
    "\n",
    "\n",
    "\n",
    "\n",
    "    C -= alpha*d_C\n",
    "    U -= alpha*d_U\n",
    "    W -= alpha*d_W\n",
    "    H -= alpha*d_H\n",
    "    d -= alpha*d_d\n",
    "    b -= alpha*d_b"
   ]
  },
  {
   "cell_type": "code",
   "execution_count": 49,
   "metadata": {},
   "outputs": [
    {
     "data": {
      "text/plain": [
       "[<matplotlib.lines.Line2D at 0x1178b0208>]"
      ]
     },
     "execution_count": 49,
     "metadata": {},
     "output_type": "execute_result"
    },
    {
     "data": {
      "image/png": "[encoded data removed]",
      "text/plain": [
       "<Figure size 432x288 with 1 Axes>"
      ]
     },
     "metadata": {
      "needs_background": "light"
     },
     "output_type": "display_data"
    }
   ],
   "source": [
    "plt.plot(LOSS)"
   ]
  },
  {
   "cell_type": "markdown",
   "metadata": {},
   "source": [
    "#### Training is done, let's now evaluate our NNLM to see how well it predicts text:"
   ]
  },
  {
   "cell_type": "code",
   "execution_count": 50,
   "metadata": {},
   "outputs": [],
   "source": [
    "def predict(test_string,C=C,U=U,W=W,H=H,d=d,b=b,word2idx=word2idx):\n",
    "\n",
    "    # FP one time using trained weight:\n",
    "    test_list = test_string.split(\" \")\n",
    "    test_list = [[word2idx.get(i) for i in test_list]]\n",
    "    X_test = []\n",
    "    for sent in test_list:\n",
    "        X_test.append(oheY(sent,idx2word))\n",
    "    X_test = np.array(X_test)\n",
    "    x0 = X_test.dot(C) # query the word vector from Word Embedding Layer\n",
    "    x = x0.reshape(x0.shape[0],-1) # Concat: Mx(N*H)\n",
    "    hx = x.dot(H.T) + d#Mxh\n",
    "    act_hx = tanh(hx,if_derivative=False)#Mxh\n",
    "    U_act_hx = act_hx.dot(U.T) # MxV\n",
    "    Wx = x.dot(W.T) #MxV\n",
    "    \n",
    "    add_all_x = b+Wx+U_act_hx\n",
    "    output = softmax(add_all_x)\n",
    "    idxs = np.where(output==output.max())[1]\n",
    "   \n",
    "    return [idx2word.get(i) for i in idxs]\n",
    "\n",
    "\n"
   ]
  },
  {
   "cell_type": "code",
   "execution_count": 51,
   "metadata": {},
   "outputs": [
    {
     "data": {
      "text/plain": [
       "['than']"
      ]
     },
     "execution_count": 51,
     "metadata": {},
     "output_type": "execute_result"
    }
   ],
   "source": [
    "test_string = \"taste more delicious\"\n",
    "predict(test_string)"
   ]
  },
  {
   "cell_type": "code",
   "execution_count": 52,
   "metadata": {},
   "outputs": [
    {
     "data": {
      "text/plain": [
       "['warcraft']"
      ]
     },
     "execution_count": 52,
     "metadata": {},
     "output_type": "execute_result"
    }
   ],
   "source": [
    "test_string = \"in world of\"\n",
    "predict(test_string)"
   ]
  },
  {
   "cell_type": "code",
   "execution_count": 53,
   "metadata": {},
   "outputs": [
    {
     "data": {
      "text/plain": [
       "['sweet']"
      ]
     },
     "execution_count": 53,
     "metadata": {},
     "output_type": "execute_result"
    }
   ],
   "source": [
    "test_string = \"icecream is too\"\n",
    "predict(test_string)"
   ]
  },
  {
   "cell_type": "code",
   "execution_count": 54,
   "metadata": {},
   "outputs": [
    {
     "data": {
      "text/plain": [
       "['for']"
      ]
     },
     "execution_count": 54,
     "metadata": {},
     "output_type": "execute_result"
    }
   ],
   "source": [
    "test_string = \"everyone is ready\"\n",
    "predict(test_string)"
   ]
  },
  {
   "cell_type": "code",
   "execution_count": 57,
   "metadata": {},
   "outputs": [
    {
     "data": {
      "text/plain": [
       "['in']"
      ]
     },
     "execution_count": 57,
     "metadata": {},
     "output_type": "execute_result"
    }
   ],
   "source": [
    "test_string = \"have orc warrior\"\n",
    "predict(test_string)"
   ]
  },
  {
   "cell_type": "code",
   "execution_count": 60,
   "metadata": {},
   "outputs": [
    {
     "data": {
      "text/plain": [
       "['sandwich']"
      ]
     },
     "execution_count": 60,
     "metadata": {},
     "output_type": "execute_result"
    }
   ],
   "source": [
    "test_string = \"prefer ps4 to\"\n",
    "predict(test_string)"
   ]
  },
  {
   "cell_type": "code",
   "execution_count": 61,
   "metadata": {},
   "outputs": [
    {
     "data": {
      "text/plain": [
       "['favorite']"
      ]
     },
     "execution_count": 61,
     "metadata": {},
     "output_type": "execute_result"
    }
   ],
   "source": [
    "test_string = \"chocolate is my\"\n",
    "predict(test_string)"
   ]
  },
  {
   "cell_type": "code",
   "execution_count": 69,
   "metadata": {},
   "outputs": [
    {
     "data": {
      "text/plain": [
       "['trips']"
      ]
     },
     "execution_count": 69,
     "metadata": {},
     "output_type": "execute_result"
    }
   ],
   "source": [
    "test_string = \"do you love\"\n",
    "predict(test_string)"
   ]
  },
  {
   "cell_type": "code",
   "execution_count": 79,
   "metadata": {},
   "outputs": [
    {
     "data": {
      "text/plain": [
       "['probably']"
      ]
     },
     "execution_count": 79,
     "metadata": {},
     "output_type": "execute_result"
    }
   ],
   "source": [
    "test_string = \"tomorrow evening is\"\n",
    "predict(test_string)"
   ]
  }
 ],
 "metadata": {
  "kernelspec": {
   "display_name": "Python 3",
   "language": "python",
   "name": "python3"
  },
  "language_info": {
   "codemirror_mode": {
    "name": "ipython",
    "version": 3
   },
   "file_extension": ".py",
   "mimetype": "text/x-python",
   "name": "python",
   "nbconvert_exporter": "python",
   "pygments_lexer": "ipython3",
   "version": "3.6.8"
  }
 },
 "nbformat": 4,
 "nbformat_minor": 2
}
