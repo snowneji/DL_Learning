{
 "cells": [
  {
   "cell_type": "markdown",
   "metadata": {},
   "source": [
    "Learning from: https://machinelearningmastery.com/time-series-prediction-lstm-recurrent-neural-networks-python-keras/\n",
    "\n",
    "using USD_INR exchange rate data"
   ]
  },
  {
   "cell_type": "code",
   "execution_count": 1,
   "metadata": {},
   "outputs": [
    {
     "name": "stderr",
     "output_type": "stream",
     "text": [
      "Using TensorFlow backend.\n"
     ]
    }
   ],
   "source": [
    "import pandas as pd\n",
    "import numpy as np\n",
    "import keras\n",
    "import matplotlib.pyplot as plt\n",
    "%matplotlib inline\n",
    "\n",
    "import math\n",
    "from keras.models import Sequential\n",
    "from keras.layers import Dense\n",
    "from keras.layers import LSTM\n",
    "from sklearn.preprocessing import MinMaxScaler\n",
    "from sklearn.metrics import mean_squared_error"
   ]
  },
  {
   "cell_type": "markdown",
   "metadata": {},
   "source": [
    "# Basic LSTM"
   ]
  },
  {
   "cell_type": "code",
   "execution_count": 2,
   "metadata": {},
   "outputs": [],
   "source": [
    "dat = pd.read_csv('USD_INR.csv')"
   ]
  },
  {
   "cell_type": "code",
   "execution_count": 3,
   "metadata": {},
   "outputs": [],
   "source": [
    "price_dat = dat['Price']"
   ]
  },
  {
   "cell_type": "code",
   "execution_count": 4,
   "metadata": {},
   "outputs": [
    {
     "data": {
      "text/plain": [
       "[<matplotlib.lines.Line2D at 0x119155c90>]"
      ]
     },
     "execution_count": 4,
     "metadata": {},
     "output_type": "execute_result"
    },
    {
     "data": {
      "image/png": "[encoded data removed]",
      "text/plain": [
       "<matplotlib.figure.Figure at 0x10b5096d0>"
      ]
     },
     "metadata": {},
     "output_type": "display_data"
    }
   ],
   "source": [
    "plt.plot(price_dat)"
   ]
  },
  {
   "cell_type": "code",
   "execution_count": 5,
   "metadata": {
    "scrolled": true
   },
   "outputs": [
    {
     "name": "stdout",
     "output_type": "stream",
     "text": [
      "35.5577077447\n",
      "17.540190695\n"
     ]
    }
   ],
   "source": [
    "print(np.mean(price_dat.values))\n",
    "print(np.std(price_dat.values))"
   ]
  },
  {
   "cell_type": "markdown",
   "metadata": {},
   "source": [
    "### Normalize"
   ]
  },
  {
   "cell_type": "code",
   "execution_count": 6,
   "metadata": {},
   "outputs": [],
   "source": [
    "price_dat = price_dat.values.ravel().reshape(-1,1)"
   ]
  },
  {
   "cell_type": "code",
   "execution_count": 7,
   "metadata": {},
   "outputs": [],
   "source": [
    "scaler = MinMaxScaler(feature_range=(0, 1))\n",
    "price_dat = scaler.fit_transform(price_dat)"
   ]
  },
  {
   "cell_type": "code",
   "execution_count": 8,
   "metadata": {},
   "outputs": [
    {
     "name": "stdout",
     "output_type": "stream",
     "text": [
      "0.456077018318\n",
      "0.286956084989\n"
     ]
    }
   ],
   "source": [
    "print(np.mean(price_dat))\n",
    "print(np.std(price_dat))"
   ]
  },
  {
   "cell_type": "code",
   "execution_count": 9,
   "metadata": {},
   "outputs": [
    {
     "data": {
      "text/plain": [
       "[<matplotlib.lines.Line2D at 0x1192a5c50>]"
      ]
     },
     "execution_count": 9,
     "metadata": {},
     "output_type": "execute_result"
    },
    {
     "data": {
      "image/png": "[encoded data removed]",
      "text/plain": [
       "<matplotlib.figure.Figure at 0x11912eed0>"
      ]
     },
     "metadata": {},
     "output_type": "display_data"
    }
   ],
   "source": [
    "plt.plot(price_dat)"
   ]
  },
  {
   "cell_type": "markdown",
   "metadata": {},
   "source": [
    "### Train Test Split"
   ]
  },
  {
   "cell_type": "code",
   "execution_count": 10,
   "metadata": {},
   "outputs": [
    {
     "name": "stdout",
     "output_type": "stream",
     "text": [
      "7758\n"
     ]
    }
   ],
   "source": [
    "ratio = int(round(len(price_dat)*0.8))\n",
    "print(ratio)"
   ]
  },
  {
   "cell_type": "code",
   "execution_count": 11,
   "metadata": {},
   "outputs": [],
   "source": [
    "train_dat = price_dat[:ratio]\n",
    "valid_dat = price_dat[ratio:]"
   ]
  },
  {
   "cell_type": "markdown",
   "metadata": {},
   "source": [
    "### Creating look back dataset:"
   ]
  },
  {
   "cell_type": "code",
   "execution_count": 12,
   "metadata": {},
   "outputs": [],
   "source": [
    "# convert an array of values into a dataset matrix\n",
    "def create_dataset(dataset, look_back=1):\n",
    "    dataX, dataY = [], []\n",
    "    for i in range(len(dataset)-look_back-1):\n",
    "        a = dataset[i:(i+look_back), 0] # if look_back=1, look back 1 datapoint,  if look_back=2, look back 2 datapoints\n",
    "        dataX.append(a)\n",
    "        dataY.append(dataset[i + look_back, 0]) # the next point from the look back points\n",
    "    return np.array(dataX), np.array(dataY)"
   ]
  },
  {
   "cell_type": "code",
   "execution_count": 13,
   "metadata": {},
   "outputs": [],
   "source": [
    "# reshape into X=t and Y=t+1\n",
    "look_back = 1 # using past 1 value to predict the next\n",
    "\n",
    "trainX, trainY = create_dataset(train_dat, look_back)\n",
    "testX, testY = create_dataset(valid_dat, look_back)"
   ]
  },
  {
   "cell_type": "code",
   "execution_count": 14,
   "metadata": {},
   "outputs": [
    {
     "name": "stdout",
     "output_type": "stream",
     "text": [
      "(7756, 1)\n",
      "(7756,)\n"
     ]
    }
   ],
   "source": [
    "print(trainX.shape)\n",
    "print(trainY.shape)"
   ]
  },
  {
   "cell_type": "code",
   "execution_count": 15,
   "metadata": {},
   "outputs": [
    {
     "data": {
      "text/plain": [
       "array([[ 0.92408998],\n",
       "       [ 0.9191002 ],\n",
       "       [ 0.91635174],\n",
       "       [ 0.91877301],\n",
       "       [ 0.91607362]])"
      ]
     },
     "execution_count": 15,
     "metadata": {},
     "output_type": "execute_result"
    }
   ],
   "source": [
    "trainX[:5,:]"
   ]
  },
  {
   "cell_type": "code",
   "execution_count": 16,
   "metadata": {},
   "outputs": [],
   "source": [
    "# reshape input to be [samples, time steps, features]\n",
    "trainX = np.reshape(trainX, (trainX.shape[0], 1, trainX.shape[1]))\n",
    "testX = np.reshape(testX, (testX.shape[0], 1, testX.shape[1]))"
   ]
  },
  {
   "cell_type": "code",
   "execution_count": 17,
   "metadata": {},
   "outputs": [
    {
     "name": "stdout",
     "output_type": "stream",
     "text": [
      "(7756, 1, 1)\n"
     ]
    }
   ],
   "source": [
    "print(trainX.shape)\n"
   ]
  },
  {
   "cell_type": "code",
   "execution_count": 18,
   "metadata": {},
   "outputs": [
    {
     "name": "stdout",
     "output_type": "stream",
     "text": [
      "Epoch 1/100\n",
      " - 35s - loss: 0.0090\n",
      "Epoch 2/100\n",
      " - 35s - loss: 2.2377e-05\n",
      "Epoch 3/100\n",
      " - 35s - loss: 2.2617e-05\n",
      "Epoch 4/100\n",
      " - 35s - loss: 2.1635e-05\n",
      "Epoch 5/100\n",
      " - 36s - loss: 2.1810e-05\n",
      "Epoch 6/100\n",
      " - 36s - loss: 2.1904e-05\n",
      "Epoch 7/100\n",
      " - 35s - loss: 2.1110e-05\n",
      "Epoch 8/100\n",
      " - 36s - loss: 2.0766e-05\n",
      "Epoch 9/100\n",
      " - 36s - loss: 2.1023e-05\n",
      "Epoch 10/100\n",
      " - 36s - loss: 2.0615e-05\n",
      "Epoch 11/100\n",
      " - 36s - loss: 2.0614e-05\n",
      "Epoch 12/100\n",
      " - 37s - loss: 2.0501e-05\n",
      "Epoch 13/100\n",
      " - 36s - loss: 2.0126e-05\n",
      "Epoch 14/100\n",
      " - 36s - loss: 1.9376e-05\n",
      "Epoch 15/100\n",
      " - 36s - loss: 1.9805e-05\n",
      "Epoch 16/100\n",
      " - 36s - loss: 2.0230e-05\n",
      "Epoch 17/100\n",
      " - 35s - loss: 1.9323e-05\n",
      "Epoch 18/100\n",
      " - 36s - loss: 1.9156e-05\n",
      "Epoch 19/100\n",
      " - 36s - loss: 1.8696e-05\n",
      "Epoch 20/100\n",
      " - 36s - loss: 1.8746e-05\n",
      "Epoch 21/100\n",
      " - 36s - loss: 1.8549e-05\n",
      "Epoch 22/100\n",
      " - 36s - loss: 1.8400e-05\n",
      "Epoch 23/100\n",
      " - 36s - loss: 1.7666e-05\n",
      "Epoch 24/100\n",
      " - 36s - loss: 1.7457e-05\n",
      "Epoch 25/100\n",
      " - 36s - loss: 1.7579e-05\n",
      "Epoch 26/100\n",
      " - 36s - loss: 1.7555e-05\n",
      "Epoch 27/100\n",
      " - 36s - loss: 1.7891e-05\n",
      "Epoch 28/100\n",
      " - 36s - loss: 1.6896e-05\n",
      "Epoch 29/100\n",
      " - 36s - loss: 1.6908e-05\n",
      "Epoch 30/100\n",
      " - 36s - loss: 1.6403e-05\n",
      "Epoch 31/100\n",
      " - 36s - loss: 1.6798e-05\n",
      "Epoch 32/100\n",
      " - 36s - loss: 1.6849e-05\n",
      "Epoch 33/100\n",
      " - 36s - loss: 1.6923e-05\n",
      "Epoch 34/100\n",
      " - 37s - loss: 1.6170e-05\n",
      "Epoch 35/100\n",
      " - 38s - loss: 1.6585e-05\n",
      "Epoch 36/100\n",
      " - 36s - loss: 1.6701e-05\n",
      "Epoch 37/100\n",
      " - 36s - loss: 1.6240e-05\n",
      "Epoch 38/100\n",
      " - 36s - loss: 1.5738e-05\n",
      "Epoch 39/100\n",
      " - 36s - loss: 1.6222e-05\n",
      "Epoch 40/100\n",
      " - 36s - loss: 1.6111e-05\n",
      "Epoch 41/100\n",
      " - 36s - loss: 1.5766e-05\n",
      "Epoch 42/100\n",
      " - 36s - loss: 1.5494e-05\n",
      "Epoch 43/100\n",
      " - 36s - loss: 1.5953e-05\n",
      "Epoch 44/100\n",
      " - 36s - loss: 1.6202e-05\n",
      "Epoch 45/100\n",
      " - 36s - loss: 1.5480e-05\n",
      "Epoch 46/100\n",
      " - 37s - loss: 1.5163e-05\n",
      "Epoch 47/100\n",
      " - 36s - loss: 1.5356e-05\n",
      "Epoch 48/100\n",
      " - 36s - loss: 1.5636e-05\n",
      "Epoch 49/100\n",
      " - 36s - loss: 1.5725e-05\n",
      "Epoch 50/100\n",
      " - 36s - loss: 1.5688e-05\n",
      "Epoch 51/100\n",
      " - 36s - loss: 1.6020e-05\n",
      "Epoch 52/100\n",
      " - 36s - loss: 1.5470e-05\n",
      "Epoch 53/100\n",
      " - 36s - loss: 1.5059e-05\n",
      "Epoch 54/100\n",
      " - 37s - loss: 1.5782e-05\n",
      "Epoch 55/100\n",
      " - 36s - loss: 1.5830e-05\n",
      "Epoch 56/100\n",
      " - 36s - loss: 1.5593e-05\n",
      "Epoch 57/100\n",
      " - 35s - loss: 1.5487e-05\n",
      "Epoch 58/100\n",
      " - 35s - loss: 1.5364e-05\n",
      "Epoch 59/100\n",
      " - 35s - loss: 1.5413e-05\n",
      "Epoch 60/100\n",
      " - 35s - loss: 1.5046e-05\n",
      "Epoch 61/100\n",
      " - 35s - loss: 1.5603e-05\n",
      "Epoch 62/100\n",
      " - 35s - loss: 1.5148e-05\n",
      "Epoch 63/100\n",
      " - 37s - loss: 1.5727e-05\n",
      "Epoch 64/100\n",
      " - 35s - loss: 1.5502e-05\n",
      "Epoch 65/100\n",
      " - 35s - loss: 1.5911e-05\n",
      "Epoch 66/100\n",
      " - 36s - loss: 1.5326e-05\n",
      "Epoch 67/100\n",
      " - 37s - loss: 1.5183e-05\n",
      "Epoch 68/100\n",
      " - 36s - loss: 1.5160e-05\n",
      "Epoch 69/100\n",
      " - 35s - loss: 1.5424e-05\n",
      "Epoch 70/100\n",
      " - 36s - loss: 1.5095e-05\n",
      "Epoch 71/100\n",
      " - 36s - loss: 1.5227e-05\n",
      "Epoch 72/100\n",
      " - 37s - loss: 1.5498e-05\n",
      "Epoch 73/100\n",
      " - 36s - loss: 1.4848e-05\n",
      "Epoch 74/100\n",
      " - 36s - loss: 1.5360e-05\n",
      "Epoch 75/100\n",
      " - 36s - loss: 1.4969e-05\n",
      "Epoch 76/100\n",
      " - 36s - loss: 1.5150e-05\n",
      "Epoch 77/100\n",
      " - 36s - loss: 1.5835e-05\n",
      "Epoch 78/100\n",
      " - 37s - loss: 1.4996e-05\n",
      "Epoch 79/100\n",
      " - 38s - loss: 1.5184e-05\n",
      "Epoch 80/100\n",
      " - 37s - loss: 1.5138e-05\n",
      "Epoch 81/100\n",
      " - 36s - loss: 1.5462e-05\n",
      "Epoch 82/100\n",
      " - 37s - loss: 1.5175e-05\n",
      "Epoch 83/100\n",
      " - 41s - loss: 1.5283e-05\n",
      "Epoch 84/100\n",
      " - 40s - loss: 1.5151e-05\n",
      "Epoch 85/100\n",
      " - 39s - loss: 1.5380e-05\n",
      "Epoch 86/100\n",
      " - 39s - loss: 1.4794e-05\n",
      "Epoch 87/100\n",
      " - 39s - loss: 1.5023e-05\n",
      "Epoch 88/100\n",
      " - 38s - loss: 1.5047e-05\n",
      "Epoch 89/100\n",
      " - 39s - loss: 1.5300e-05\n",
      "Epoch 90/100\n",
      " - 40s - loss: 1.5107e-05\n",
      "Epoch 91/100\n",
      " - 41s - loss: 1.4665e-05\n",
      "Epoch 92/100\n",
      " - 35s - loss: 1.5048e-05\n",
      "Epoch 93/100\n",
      " - 36s - loss: 1.4934e-05\n",
      "Epoch 94/100\n",
      " - 35s - loss: 1.4972e-05\n",
      "Epoch 95/100\n",
      " - 38s - loss: 1.4708e-05\n",
      "Epoch 96/100\n",
      " - 42s - loss: 1.4728e-05\n",
      "Epoch 97/100\n",
      " - 42s - loss: 1.5354e-05\n",
      "Epoch 98/100\n",
      " - 39s - loss: 1.4526e-05\n",
      "Epoch 99/100\n",
      " - 38s - loss: 1.4633e-05\n",
      "Epoch 100/100\n",
      " - 39s - loss: 1.4951e-05\n"
     ]
    },
    {
     "data": {
      "text/plain": [
       "<keras.callbacks.History at 0x1199b8410>"
      ]
     },
     "execution_count": 18,
     "metadata": {},
     "output_type": "execute_result"
    }
   ],
   "source": [
    "# create and fit the LSTM network\n",
    "model = Sequential()\n",
    "model.add(LSTM(4, input_shape=(1, look_back))) # 4 in here means 4 LSTM blocks or neurons\n",
    "model.add(Dense(1))\n",
    "model.compile(loss='mean_squared_error', optimizer='adam')\n",
    "model.fit(trainX, trainY, epochs=100, batch_size=1, verbose=2)"
   ]
  },
  {
   "cell_type": "markdown",
   "metadata": {},
   "source": [
    "### Predict in-sample and out-sample"
   ]
  },
  {
   "cell_type": "code",
   "execution_count": 19,
   "metadata": {},
   "outputs": [],
   "source": [
    "res_insp = model.predict(trainX)\n",
    "res_outsp = model.predict(testX)"
   ]
  },
  {
   "cell_type": "code",
   "execution_count": 20,
   "metadata": {},
   "outputs": [],
   "source": [
    "# inverse the transformation back to get the true value:\n",
    "res_insp = scaler.inverse_transform(res_insp)\n",
    "trainY = scaler.inverse_transform([trainY])\n",
    "\n",
    "res_outsp = scaler.inverse_transform(res_outsp)\n",
    "testY = scaler.inverse_transform([testY])"
   ]
  },
  {
   "cell_type": "code",
   "execution_count": 21,
   "metadata": {},
   "outputs": [
    {
     "name": "stdout",
     "output_type": "stream",
     "text": [
      "Train Score: 0.22 RMSE\n",
      "Test Score: 0.18 RMSE\n"
     ]
    }
   ],
   "source": [
    "# RMSE:\n",
    "\n",
    "trainScore = math.sqrt(mean_squared_error(trainY[0], res_insp[:,0]))\n",
    "print('Train Score: %.2f RMSE' % (trainScore))\n",
    "testScore = math.sqrt(mean_squared_error(testY[0], res_outsp[:,0]))\n",
    "print('Test Score: %.2f RMSE' % (testScore))"
   ]
  },
  {
   "cell_type": "code",
   "execution_count": 22,
   "metadata": {},
   "outputs": [],
   "source": [
    "# shift train predictions for plotting\n",
    "trainPredictPlot = np.empty_like(price_dat)\n",
    "trainPredictPlot[:, :] = np.nan\n",
    "trainPredictPlot[look_back:len(res_insp)+look_back, :] = res_insp\n",
    "# shift test predictions for plotting\n",
    "testPredictPlot = np.empty_like(price_dat)\n",
    "testPredictPlot[:, :] = np.nan\n",
    "testPredictPlot[len(res_insp)+(look_back*2)+1:len(price_dat)-1, :] = res_outsp\n",
    "# plot baseline and predictions"
   ]
  },
  {
   "cell_type": "markdown",
   "metadata": {},
   "source": [
    "#### Original Data:"
   ]
  },
  {
   "cell_type": "code",
   "execution_count": 23,
   "metadata": {},
   "outputs": [
    {
     "data": {
      "text/plain": [
       "[<matplotlib.lines.Line2D at 0x11b296e90>]"
      ]
     },
     "execution_count": 23,
     "metadata": {},
     "output_type": "execute_result"
    },
    {
     "data": {
      "image/png": "[encoded data removed]",
      "text/plain": [
       "<matplotlib.figure.Figure at 0x11a950cd0>"
      ]
     },
     "metadata": {},
     "output_type": "display_data"
    }
   ],
   "source": [
    "\n",
    "plt.plot(scaler.inverse_transform(price_dat))\n"
   ]
  },
  {
   "cell_type": "markdown",
   "metadata": {},
   "source": [
    "#### In-sample Prediction:"
   ]
  },
  {
   "cell_type": "code",
   "execution_count": 24,
   "metadata": {},
   "outputs": [
    {
     "data": {
      "text/plain": [
       "[<matplotlib.lines.Line2D at 0x119207bd0>]"
      ]
     },
     "execution_count": 24,
     "metadata": {},
     "output_type": "execute_result"
    },
    {
     "data": {
      "image/png": "[encoded data removed]",
      "text/plain": [
       "<matplotlib.figure.Figure at 0x119207c50>"
      ]
     },
     "metadata": {},
     "output_type": "display_data"
    }
   ],
   "source": [
    "plt.plot(scaler.inverse_transform(price_dat))\n",
    "plt.plot(trainPredictPlot)\n"
   ]
  },
  {
   "cell_type": "markdown",
   "metadata": {},
   "source": [
    "#### Out-sample Prediction:"
   ]
  },
  {
   "cell_type": "code",
   "execution_count": 25,
   "metadata": {},
   "outputs": [
    {
     "data": {
      "text/plain": [
       "[<matplotlib.lines.Line2D at 0x11a964ad0>]"
      ]
     },
     "execution_count": 25,
     "metadata": {},
     "output_type": "execute_result"
    },
    {
     "data": {
      "image/png": "[encoded data removed]",
      "text/plain": [
       "<matplotlib.figure.Figure at 0x119282710>"
      ]
     },
     "metadata": {},
     "output_type": "display_data"
    }
   ],
   "source": [
    "plt.plot(scaler.inverse_transform(price_dat))\n",
    "plt.plot(testPredictPlot)"
   ]
  },
  {
   "cell_type": "markdown",
   "metadata": {},
   "source": [
    "# LSTM using Window Method"
   ]
  },
  {
   "cell_type": "code",
   "execution_count": 26,
   "metadata": {},
   "outputs": [],
   "source": [
    "# reshape into X=t and Y=t+1\n",
    "look_back = 3 # using past 3 values to predict the next\n",
    "\n",
    "trainX, trainY = create_dataset(train_dat, look_back)\n",
    "testX, testY = create_dataset(valid_dat, look_back)"
   ]
  },
  {
   "cell_type": "code",
   "execution_count": 27,
   "metadata": {},
   "outputs": [
    {
     "name": "stdout",
     "output_type": "stream",
     "text": [
      "(7754, 3)\n",
      "(7754,)\n"
     ]
    }
   ],
   "source": [
    "print(trainX.shape)\n",
    "print(trainY.shape)"
   ]
  },
  {
   "cell_type": "code",
   "execution_count": 28,
   "metadata": {},
   "outputs": [],
   "source": [
    "# reshape input to be [samples, time steps, features]\n",
    "trainX = np.reshape(trainX, (trainX.shape[0], 1, trainX.shape[1]))\n",
    "testX = np.reshape(testX, (testX.shape[0], 1, testX.shape[1]))"
   ]
  },
  {
   "cell_type": "code",
   "execution_count": 29,
   "metadata": {},
   "outputs": [
    {
     "name": "stdout",
     "output_type": "stream",
     "text": [
      "Epoch 1/100\n",
      " - 40s - loss: 0.0022\n",
      "Epoch 2/100\n",
      " - 38s - loss: 3.9795e-05\n",
      "Epoch 3/100\n",
      " - 39s - loss: 3.6600e-05\n",
      "Epoch 4/100\n",
      " - 37s - loss: 3.4438e-05\n",
      "Epoch 5/100\n",
      " - 35s - loss: 3.2608e-05\n",
      "Epoch 6/100\n",
      " - 41s - loss: 3.0971e-05\n",
      "Epoch 7/100\n",
      " - 40s - loss: 2.9821e-05\n",
      "Epoch 8/100\n",
      " - 36s - loss: 3.0972e-05\n",
      "Epoch 9/100\n",
      " - 35s - loss: 2.8879e-05\n",
      "Epoch 10/100\n",
      " - 35s - loss: 2.8230e-05\n",
      "Epoch 11/100\n",
      " - 35s - loss: 2.7879e-05\n",
      "Epoch 12/100\n",
      " - 35s - loss: 2.6454e-05\n",
      "Epoch 13/100\n",
      " - 35s - loss: 2.7068e-05\n",
      "Epoch 14/100\n",
      " - 35s - loss: 2.5651e-05\n",
      "Epoch 15/100\n",
      " - 36s - loss: 2.5170e-05\n",
      "Epoch 16/100\n",
      " - 35s - loss: 2.4591e-05\n",
      "Epoch 17/100\n",
      " - 37s - loss: 2.5322e-05\n",
      "Epoch 18/100\n",
      " - 37s - loss: 2.4499e-05\n",
      "Epoch 19/100\n",
      " - 37s - loss: 2.4276e-05\n",
      "Epoch 20/100\n",
      " - 37s - loss: 2.3820e-05\n",
      "Epoch 21/100\n",
      " - 37s - loss: 2.4345e-05\n",
      "Epoch 22/100\n",
      " - 37s - loss: 2.2636e-05\n",
      "Epoch 23/100\n",
      " - 37s - loss: 2.2174e-05\n",
      "Epoch 24/100\n",
      " - 37s - loss: 2.2564e-05\n",
      "Epoch 25/100\n",
      " - 37s - loss: 2.2201e-05\n",
      "Epoch 26/100\n",
      " - 37s - loss: 2.2338e-05\n",
      "Epoch 27/100\n",
      " - 37s - loss: 2.1971e-05\n",
      "Epoch 28/100\n",
      " - 38s - loss: 2.2033e-05\n",
      "Epoch 29/100\n",
      " - 38s - loss: 2.1087e-05\n",
      "Epoch 30/100\n",
      " - 37s - loss: 2.0905e-05\n",
      "Epoch 31/100\n",
      " - 196s - loss: 2.0802e-05\n",
      "Epoch 32/100\n",
      " - 91s - loss: 2.0593e-05\n",
      "Epoch 33/100\n",
      " - 8219s - loss: 2.0035e-05\n",
      "Epoch 34/100\n",
      " - 2329s - loss: 1.9780e-05\n",
      "Epoch 35/100\n",
      " - 13154s - loss: 2.0105e-05\n",
      "Epoch 36/100\n",
      " - 38s - loss: 1.9807e-05\n",
      "Epoch 37/100\n",
      " - 37s - loss: 2.0118e-05\n",
      "Epoch 38/100\n",
      " - 37s - loss: 1.9929e-05\n",
      "Epoch 39/100\n",
      " - 36s - loss: 1.9529e-05\n",
      "Epoch 40/100\n",
      " - 36s - loss: 1.9495e-05\n",
      "Epoch 41/100\n",
      " - 35s - loss: 1.9148e-05\n",
      "Epoch 42/100\n",
      " - 35s - loss: 1.9137e-05\n",
      "Epoch 43/100\n",
      " - 35s - loss: 1.8985e-05\n",
      "Epoch 44/100\n",
      " - 35s - loss: 1.8655e-05\n",
      "Epoch 45/100\n",
      " - 35s - loss: 1.8999e-05\n",
      "Epoch 46/100\n",
      " - 36s - loss: 1.8961e-05\n",
      "Epoch 47/100\n",
      " - 35s - loss: 1.8295e-05\n",
      "Epoch 48/100\n",
      " - 36s - loss: 1.8310e-05\n",
      "Epoch 49/100\n",
      " - 38s - loss: 1.8072e-05\n",
      "Epoch 50/100\n",
      " - 7235s - loss: 1.8017e-05\n",
      "Epoch 51/100\n",
      " - 10603s - loss: 1.7727e-05\n",
      "Epoch 52/100\n",
      " - 13608s - loss: 1.7359e-05\n",
      "Epoch 53/100\n",
      " - 38s - loss: 1.7818e-05\n",
      "Epoch 54/100\n",
      " - 37s - loss: 1.7543e-05\n",
      "Epoch 55/100\n",
      " - 41s - loss: 1.7734e-05\n",
      "Epoch 56/100\n",
      " - 37s - loss: 1.7151e-05\n",
      "Epoch 57/100\n",
      " - 37s - loss: 1.7648e-05\n",
      "Epoch 58/100\n",
      " - 38s - loss: 1.7574e-05\n",
      "Epoch 59/100\n",
      " - 42s - loss: 1.6962e-05\n",
      "Epoch 60/100\n",
      " - 36s - loss: 1.7007e-05\n",
      "Epoch 61/100\n",
      " - 35s - loss: 1.6996e-05\n",
      "Epoch 62/100\n",
      " - 35s - loss: 1.7002e-05\n",
      "Epoch 63/100\n",
      " - 102s - loss: 1.7115e-05\n",
      "Epoch 64/100\n",
      " - 35s - loss: 1.7094e-05\n",
      "Epoch 65/100\n",
      " - 35s - loss: 1.7008e-05\n",
      "Epoch 66/100\n",
      " - 35s - loss: 1.6681e-05\n",
      "Epoch 67/100\n",
      " - 36s - loss: 1.6952e-05\n",
      "Epoch 68/100\n",
      " - 35s - loss: 1.6877e-05\n",
      "Epoch 69/100\n",
      " - 39s - loss: 1.6869e-05\n",
      "Epoch 70/100\n",
      " - 40s - loss: 1.6603e-05\n",
      "Epoch 71/100\n",
      " - 37s - loss: 1.6767e-05\n",
      "Epoch 72/100\n",
      " - 37s - loss: 1.6363e-05\n",
      "Epoch 73/100\n",
      " - 39s - loss: 1.6820e-05\n",
      "Epoch 74/100\n",
      " - 37s - loss: 1.6186e-05\n",
      "Epoch 75/100\n",
      " - 39s - loss: 1.6644e-05\n",
      "Epoch 76/100\n",
      " - 38s - loss: 1.6508e-05\n",
      "Epoch 77/100\n",
      " - 37s - loss: 1.6331e-05\n",
      "Epoch 78/100\n",
      " - 38s - loss: 1.6293e-05\n",
      "Epoch 79/100\n",
      " - 37s - loss: 1.6445e-05\n",
      "Epoch 80/100\n",
      " - 38s - loss: 1.5695e-05\n",
      "Epoch 81/100\n",
      " - 40s - loss: 1.5955e-05\n",
      "Epoch 82/100\n",
      " - 40s - loss: 1.5713e-05\n",
      "Epoch 83/100\n",
      " - 39s - loss: 1.6305e-05\n",
      "Epoch 84/100\n",
      " - 34s - loss: 1.6378e-05\n",
      "Epoch 85/100\n",
      " - 38s - loss: 1.6374e-05\n",
      "Epoch 86/100\n",
      " - 40s - loss: 1.5931e-05\n",
      "Epoch 87/100\n",
      " - 39s - loss: 1.5488e-05\n",
      "Epoch 88/100\n",
      " - 38s - loss: 1.6194e-05\n",
      "Epoch 89/100\n",
      " - 36s - loss: 1.5820e-05\n",
      "Epoch 90/100\n",
      " - 39s - loss: 1.5682e-05\n",
      "Epoch 91/100\n",
      " - 38s - loss: 1.5708e-05\n",
      "Epoch 92/100\n",
      " - 43s - loss: 1.5795e-05\n",
      "Epoch 93/100\n",
      " - 40s - loss: 1.5503e-05\n",
      "Epoch 94/100\n",
      " - 38s - loss: 1.5650e-05\n",
      "Epoch 95/100\n",
      " - 38s - loss: 1.5382e-05\n",
      "Epoch 96/100\n",
      " - 39s - loss: 1.5680e-05\n",
      "Epoch 97/100\n",
      " - 40s - loss: 1.5457e-05\n",
      "Epoch 98/100\n",
      " - 38s - loss: 1.5461e-05\n",
      "Epoch 99/100\n",
      " - 35s - loss: 1.5776e-05\n",
      "Epoch 100/100\n",
      " - 35s - loss: 1.5813e-05\n"
     ]
    },
    {
     "data": {
      "text/plain": [
       "<keras.callbacks.History at 0x11b0ca610>"
      ]
     },
     "execution_count": 29,
     "metadata": {},
     "output_type": "execute_result"
    }
   ],
   "source": [
    "# create and fit the LSTM network\n",
    "model = Sequential()\n",
    "model.add(LSTM(4, input_shape=(1, look_back))) # 4 in here means 4 LSTM blocks or neurons\n",
    "model.add(Dense(1))\n",
    "model.compile(loss='mean_squared_error', optimizer='adam')\n",
    "model.fit(trainX, trainY, epochs=100, batch_size=1, verbose=2)"
   ]
  },
  {
   "cell_type": "markdown",
   "metadata": {},
   "source": [
    "#### Prediction:"
   ]
  },
  {
   "cell_type": "code",
   "execution_count": 30,
   "metadata": {},
   "outputs": [],
   "source": [
    "res_insp = model.predict(trainX)\n",
    "res_outsp = model.predict(testX)"
   ]
  },
  {
   "cell_type": "code",
   "execution_count": 31,
   "metadata": {},
   "outputs": [],
   "source": [
    "# inverse the transformation back to get the true value:\n",
    "res_insp = scaler.inverse_transform(res_insp)\n",
    "trainY = scaler.inverse_transform([trainY])\n",
    "\n",
    "res_outsp = scaler.inverse_transform(res_outsp)\n",
    "testY = scaler.inverse_transform([testY])"
   ]
  },
  {
   "cell_type": "code",
   "execution_count": 32,
   "metadata": {},
   "outputs": [
    {
     "name": "stdout",
     "output_type": "stream",
     "text": [
      "Train Score: 0.25 RMSE\n",
      "Test Score: 0.13 RMSE\n"
     ]
    }
   ],
   "source": [
    "# RMSE:\n",
    "\n",
    "trainScore = math.sqrt(mean_squared_error(trainY[0], res_insp[:,0]))\n",
    "print('Train Score: %.2f RMSE' % (trainScore))\n",
    "testScore = math.sqrt(mean_squared_error(testY[0], res_outsp[:,0]))\n",
    "print('Test Score: %.2f RMSE' % (testScore))"
   ]
  },
  {
   "cell_type": "code",
   "execution_count": 33,
   "metadata": {},
   "outputs": [],
   "source": [
    "# shift train predictions for plotting\n",
    "trainPredictPlot = np.empty_like(price_dat)\n",
    "trainPredictPlot[:, :] = np.nan\n",
    "trainPredictPlot[look_back:len(res_insp)+look_back, :] = res_insp\n",
    "# shift test predictions for plotting\n",
    "testPredictPlot = np.empty_like(price_dat)\n",
    "testPredictPlot[:, :] = np.nan\n",
    "testPredictPlot[len(res_insp)+(look_back*2)+1:len(price_dat)-1, :] = res_outsp\n",
    "# plot baseline and predictions"
   ]
  },
  {
   "cell_type": "markdown",
   "metadata": {},
   "source": [
    "#### Plotting:"
   ]
  },
  {
   "cell_type": "code",
   "execution_count": 34,
   "metadata": {},
   "outputs": [
    {
     "data": {
      "text/plain": [
       "[<matplotlib.lines.Line2D at 0x11c087450>]"
      ]
     },
     "execution_count": 34,
     "metadata": {},
     "output_type": "execute_result"
    },
    {
     "data": {
      "image/png": "[encoded data removed]",
      "text/plain": [
       "<matplotlib.figure.Figure at 0x11ac0b410>"
      ]
     },
     "metadata": {},
     "output_type": "display_data"
    }
   ],
   "source": [
    "# Original data:\n",
    "plt.plot(scaler.inverse_transform(price_dat))"
   ]
  },
  {
   "cell_type": "code",
   "execution_count": 35,
   "metadata": {},
   "outputs": [
    {
     "data": {
      "text/plain": [
       "[<matplotlib.lines.Line2D at 0x11c056d90>]"
      ]
     },
     "execution_count": 35,
     "metadata": {},
     "output_type": "execute_result"
    },
    {
     "data": {
      "image/png": "[encoded data removed]",
      "text/plain": [
       "<matplotlib.figure.Figure at 0x11c056e10>"
      ]
     },
     "metadata": {},
     "output_type": "display_data"
    }
   ],
   "source": [
    "# In Sample Prediction:\n",
    "\n",
    "plt.plot(scaler.inverse_transform(price_dat))\n",
    "plt.plot(trainPredictPlot)\n"
   ]
  },
  {
   "cell_type": "code",
   "execution_count": 36,
   "metadata": {},
   "outputs": [
    {
     "data": {
      "text/plain": [
       "[<matplotlib.lines.Line2D at 0x11c064490>]"
      ]
     },
     "execution_count": 36,
     "metadata": {},
     "output_type": "execute_result"
    },
    {
     "data": {
      "image/png": "[encoded data removed]",
      "text/plain": [
       "<matplotlib.figure.Figure at 0x11a9a4d90>"
      ]
     },
     "metadata": {},
     "output_type": "display_data"
    }
   ],
   "source": [
    "# Out Sample Prediction\n",
    "plt.plot(scaler.inverse_transform(price_dat))\n",
    "plt.plot(testPredictPlot)"
   ]
  },
  {
   "cell_type": "code",
   "execution_count": null,
   "metadata": {},
   "outputs": [],
   "source": []
  }
 ],
 "metadata": {
  "kernelspec": {
   "display_name": "Python 2",
   "language": "python",
   "name": "python2"
  },
  "language_info": {
   "codemirror_mode": {
    "name": "ipython",
    "version": 2
   },
   "file_extension": ".py",
   "mimetype": "text/x-python",
   "name": "python",
   "nbconvert_exporter": "python",
   "pygments_lexer": "ipython2",
   "version": "2.7.10"
  }
 },
 "nbformat": 4,
 "nbformat_minor": 2
}
