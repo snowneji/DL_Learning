{
 "cells": [
  {
   "cell_type": "markdown",
   "metadata": {},
   "source": [
    "Recently I was reading the paper: **A Neural Probabilistic Language Model** from Yoshua Bengio: http://www.jmlr.org/papers/volume3/bengio03a/bengio03a.pdf, which is the milestone of using Neural Network for Language Model. Traditionally, we multiply the chain of conditional probablity to estimate the probablity of the next word: **Pˆ(w1)=∏Pˆ(wt|w1 )**. However, the problem is in real world text, we got hundreds and thousands of words, which makes our calculation very expensive. One work around is to apply **n-gram** technique, which is basically just to estimate the probability using recent n words. What Yoshua Bengio did is using a neural network to build the language model, I believe later work such as **Word2vec** has some similar spirit to this work, so I decided to build  NNLM from scratch to understand it better."
   ]
  },
  {
   "cell_type": "markdown",
   "metadata": {},
   "source": [
    "According to the paper the overall approach is as the follows:\n",
    "\n",
    "1. associate with each word in the vocabulary a distributed word feature vector (a real- valued vector in Rm),\n",
    "2. express the joint probability function of word sequences in terms of the feature vectors of these words in the sequence, and\n",
    "3. learn simultaneously the word feature vectors and the parameters of that probability function."
   ]
  },
  {
   "cell_type": "markdown",
   "metadata": {},
   "source": [
    "So to get the next word unnormalized log probablity of each word, we simply calculate the following :\n",
    "    \n",
    "    \n",
    "    y = b + W x + U tanh(d + H x)\n",
    "    \n",
    "    \n",
    "in which the weight matrices:H,U,W and the biases: b,d are learned from the neural network.\n",
    "After we get y, we find the normalized probability using through `softmax(y)`"
   ]
  },
  {
   "cell_type": "code",
   "execution_count": 1,
   "metadata": {},
   "outputs": [],
   "source": [
    "import numpy as np\n",
    "from numpy import newaxis\n",
    "import time\n",
    "import matplotlib.pyplot as plt\n",
    "from tqdm import tqdm\n",
    "import re"
   ]
  },
  {
   "cell_type": "code",
   "execution_count": 2,
   "metadata": {},
   "outputs": [],
   "source": [
    "def oheY(Y,idx2word):\n",
    "    ncol = len(idx2word.keys())\n",
    "    nrow = len(Y)\n",
    "    OHE_Y = np.zeros((nrow,ncol))\n",
    "    for r in range(len(Y)):\n",
    "        if not isinstance(Y[r],list):\n",
    "            OHE_Y[r,Y[r]] = 1\n",
    "        else:\n",
    "            row_val = Y[r]\n",
    "            for c in row_val:\n",
    "                OHE_Y[r,c] = 1\n",
    "                \n",
    "    return OHE_Y\n",
    "        \n",
    "\n",
    "    \n",
    "def tokenize(x_list,word2idx,START_TOKEN,END_TOKEN):\n",
    "    #unique tokens:\n",
    "    unique_x = list(set([j for i in x_list for j in i]))\n",
    "    \n",
    "    for w in unique_x:\n",
    "        if w not in word2idx:\n",
    "            word2idx[w] = len(word2idx)\n",
    "    \n",
    "    \n",
    "        \n",
    "    idx2word = {i[1]:i[0] for i in word2idx.items()}\n",
    "    # Encode:\n",
    "    tokened_x_list = []\n",
    "    for sentence in x_list:\n",
    "        temp_sent = []\n",
    "        for word in sentence:\n",
    "            token = word2idx.get(word,-1)\n",
    "            temp_sent.append(token)\n",
    "        \n",
    "        tokened_x_list.append(temp_sent)\n",
    "    return tokened_x_list,idx2word,word2idx\n",
    "            \n",
    "\n",
    "    \n",
    "\n",
    "            \n",
    "            \n",
    "\n",
    "        \n",
    "def softmax(x):\n",
    "    e_x = np.exp(x)\n",
    "    return np.divide(e_x,e_x.sum(axis=1).reshape(-1,1))\n",
    "            \n",
    "            \n",
    "\n",
    "def sigmoid(x):\n",
    "    \n",
    "    return 1/(1+np.exp(-x))\n",
    "    \n",
    "    \n",
    "\n",
    "    \n",
    "def training_data_prep(x_list,n):\n",
    "    \"\"\"\n",
    "\n",
    "    \n",
    "    Arguments:\n",
    "        x_list(list): tokenized training data\n",
    "        \n",
    "        n: numbers of context word to look at to predict the next word\n",
    "    \n",
    "    Returns:\n",
    "        processd_data(list):  a list of tuples represents the processed data. Each pair of tuple is a (x,y) pair\n",
    "        \n",
    "    \"\"\"\n",
    "    X = []\n",
    "    Y = []\n",
    "    \n",
    "    for row in x_list:\n",
    "        row_len = len(row)\n",
    "        for i in range(n,row_len):\n",
    "       \n",
    "\n",
    "            X.append(row[(i-n):i])\n",
    "            Y.append(row[i])\n",
    "\n",
    "     \n",
    "    \n",
    "    return X,Y\n",
    "            \n",
    "    \n",
    "\n",
    "    \n",
    "    \n",
    "def tanh(x,if_derivative=False):\n",
    "    \n",
    "    if if_derivative:\n",
    "        return 1 - np.tanh(x)*np.tanh(x)\n",
    "    else:\n",
    "        return np.tanh(x)\n",
    "    \n",
    "    \n",
    "\n",
    "    \n",
    "def cross_entropy(y,y_hat):\n",
    "    return -np.sum(y*np.log(y_hat+1e-9))/len(y)\n",
    "    \n",
    "    \n",
    "\n",
    "    \n",
    "def text_clean(x_string):\n",
    "    x_string = x_string.lower()\n",
    "    x_string = re.sub(r'[\\w\\.-]+@[\\w\\.-]+(\\.[\\w]+)+','',x_string)\n",
    "    x_string = x_string.replace(\"\\n\",\" \")\n",
    "    x_string = x_string.replace(\"\\t\",\" \")\n",
    "\n",
    "    x_string = re.sub(r'[^\\s\\w_]+',' ',x_string)\n",
    "\n",
    "    return x_string"
   ]
  },
  {
   "cell_type": "code",
   "execution_count": 255,
   "metadata": {},
   "outputs": [],
   "source": [
    "\n",
    "data = [\n",
    "    'apple and banana are delicious food',\n",
    "    'I love play video game in game studio',\n",
    "    'i have orc warrior in world of warcraft',\n",
    "    'super mario is the best video game ever',\n",
    "    'is warcraft and world of warcraft the same game',\n",
    "    'icecream is too sweet for a meal',\n",
    "    'dove chocolate is my favorite',\n",
    "    'which is sweet chocolate or icecream',\n",
    "    'chocolate or banana or icecream is the most delicious food',\n",
    "    'go to buy a banana bread for my lunch',\n",
    "    'banana apple smoothie is the best for lunch',\n",
    "    'chocolate icecream taste more delicious than banana',\n",
    "    'chicken sandwich is different from chicken bread',\n",
    "    'The present tense is more common in writing', \n",
    "    'As you can see by all the explanations I give', \n",
    "    'Instructional writing is more commonly written in present tense',\n",
    "    'I want to make sure everyone is ready for the field trip next week',\n",
    "    'I find it rather difficult to pick one that leaves me with the fabled',\n",
    "    'I had the pleasure of traveling across America in many moving trips',\n",
    "    'The blazing, red, diesel fuel tanks beamed in front of the station, looking like cheap lipstick',\n",
    "    'This family was a victim of a problem they could have avoided',\n",
    "    'Do you think that schools should track students with tracking technology',\n",
    "    'im writing an essay write now and im getting super confused',\n",
    "    'Despite heading the Forbes list, Messi has endured a mixed season at the Catalan club',\n",
    "    'The move comes ahead of a vote in the committee',\n",
    "    'At least one federal court in a different, but related case, agreed with the administration',\n",
    "    'tomorrow evening is probably a better time to work on the assignment',\n",
    "    'do you think computer will replace human in the future',\n",
    "    'I think school is the worst place'\n",
    "]\n",
    "\n",
    "\n"
   ]
  },
  {
   "cell_type": "markdown",
   "metadata": {},
   "source": [
    "#### Basic Text Clean"
   ]
  },
  {
   "cell_type": "code",
   "execution_count": 256,
   "metadata": {},
   "outputs": [],
   "source": [
    "data = [text_clean(sent) for sent in data]\n",
    "data = [sent.split(\" \") for sent in data]\n",
    "data = [[word for word in sent if len(word)>1] for sent in data]"
   ]
  },
  {
   "cell_type": "markdown",
   "metadata": {},
   "source": [
    "#### Preprocessing:\n",
    "\n",
    "For the preprocessing step, we add `start_token` and `end_token` and for the sentences"
   ]
  },
  {
   "cell_type": "code",
   "execution_count": 258,
   "metadata": {},
   "outputs": [],
   "source": [
    "# START_TOKEN = '^'\n",
    "# END_TOKEN = '$'\n",
    "\n",
    "# data = [[START_TOKEN]+sent+[END_TOKEN] for sent in data]\n",
    "\n",
    "# print(data[:3])"
   ]
  },
  {
   "cell_type": "markdown",
   "metadata": {},
   "source": [
    "#### Tokenization:"
   ]
  },
  {
   "cell_type": "code",
   "execution_count": 259,
   "metadata": {},
   "outputs": [],
   "source": [
    "init_dict = {START_TOKEN:0,END_TOKEN:1}"
   ]
  },
  {
   "cell_type": "code",
   "execution_count": 260,
   "metadata": {},
   "outputs": [],
   "source": [
    "tokenized_data_list,idx2word,word2idx = tokenize(data,init_dict,START_TOKEN,END_TOKEN)"
   ]
  },
  {
   "cell_type": "code",
   "execution_count": 261,
   "metadata": {},
   "outputs": [
    {
     "name": "stdout",
     "output_type": "stream",
     "text": [
      "{'^': 0, '$': 1, 'by': 2, 'now': 3, 'leaves': 4, 'across': 5, 'meal': 6, 'most': 7, 'in': 8, 'court': 9, 'all': 10, 'see': 11, 'ahead': 12, 'blazing': 13, 'or': 14, 'technology': 15, 'of': 16, 'front': 17, 'replace': 18, 'list': 19, 'trips': 20, 'time': 21, 'orc': 22, 'im': 23, 'banana': 24, 'avoided': 25, 'dove': 26, 'trip': 27, 'tracking': 28, 'human': 29, 'do': 30, 'place': 31, 'with': 32, 'sure': 33, 'catalan': 34, 'lunch': 35, 'warrior': 36, 'pick': 37, 'from': 38, 'but': 39, 'as': 40, 'related': 41, 'future': 42, 'my': 43, 'make': 44, 'favorite': 45, 'looking': 46, 'problem': 47, 'present': 48, 'delicious': 49, 'work': 50, 'that': 51, 'explanations': 52, 'for': 53, 'sandwich': 54, 'station': 55, 'tomorrow': 56, 'love': 57, 'students': 58, 'written': 59, 'pleasure': 60, 'difficult': 61, 'to': 62, 'taste': 63, 'rather': 64, 'vote': 65, 'commonly': 66, 'they': 67, 'traveling': 68, 'want': 69, 'cheap': 70, 'has': 71, 'schools': 72, 'different': 73, 'this': 74, 'the': 75, 'beamed': 76, 'tense': 77, 'red': 78, 'assignment': 79, 'committee': 80, 'fabled': 81, 'field': 82, 'think': 83, 'which': 84, 'season': 85, 'family': 86, 'forbes': 87, 'same': 88, 'it': 89, 'super': 90, 'had': 91, 'chicken': 92, 'studio': 93, 'are': 94, 'chocolate': 95, 'club': 96, 'sweet': 97, 'evening': 98, 'is': 99, 'ever': 100, 'mario': 101, 'tanks': 102, 'than': 103, 'go': 104, 'comes': 105, 'best': 106, 'one': 107, 'america': 108, 'messi': 109, 'move': 110, 'moving': 111, 'next': 112, 'federal': 113, 'better': 114, 'heading': 115, 'give': 116, 'least': 117, 'mixed': 118, 'worst': 119, 'despite': 120, 'essay': 121, 'track': 122, 'video': 123, 'writing': 124, 'computer': 125, 'everyone': 126, 'agreed': 127, 'game': 128, 'week': 129, 'many': 130, 'and': 131, 'getting': 132, 'an': 133, 'world': 134, 'probably': 135, 'school': 136, 'at': 137, 'can': 138, 'endured': 139, 'case': 140, 'smoothie': 141, 'ready': 142, 'have': 143, 'on': 144, 'find': 145, 'fuel': 146, 'bread': 147, 'you': 148, 'like': 149, 'victim': 150, 'play': 151, 'diesel': 152, 'common': 153, 'too': 154, 'write': 155, 'more': 156, 'me': 157, 'could': 158, 'administration': 159, 'lipstick': 160, 'confused': 161, 'will': 162, 'food': 163, 'apple': 164, 'warcraft': 165, 'was': 166, 'instructional': 167, 'should': 168, 'icecream': 169, 'buy': 170}\n"
     ]
    }
   ],
   "source": [
    "print(word2idx)"
   ]
  },
  {
   "cell_type": "markdown",
   "metadata": {},
   "source": [
    "#### Prepare the Training Data:\n",
    "\n",
    "To prepare the training data, we use n words before the target word to predict it, so we have the following output:"
   ]
  },
  {
   "cell_type": "code",
   "execution_count": 262,
   "metadata": {},
   "outputs": [],
   "source": [
    "N = 3"
   ]
  },
  {
   "cell_type": "code",
   "execution_count": 263,
   "metadata": {},
   "outputs": [],
   "source": [
    "X,Y = training_data_prep(tokenized_data_list,n=N)"
   ]
  },
  {
   "cell_type": "code",
   "execution_count": 396,
   "metadata": {},
   "outputs": [
    {
     "name": "stdout",
     "output_type": "stream",
     "text": [
      "['apple', 'and', 'banana'] -> are\n",
      "['and', 'banana', 'are'] -> delicious\n",
      "['banana', 'are', 'delicious'] -> food\n",
      "['love', 'play', 'video'] -> game\n",
      "['play', 'video', 'game'] -> in\n",
      "['video', 'game', 'in'] -> game\n",
      "['game', 'in', 'game'] -> studio\n",
      "['have', 'orc', 'warrior'] -> in\n",
      "['orc', 'warrior', 'in'] -> world\n",
      "['warrior', 'in', 'world'] -> of\n",
      "['in', 'world', 'of'] -> warcraft\n",
      "['super', 'mario', 'is'] -> the\n",
      "['mario', 'is', 'the'] -> best\n",
      "['is', 'the', 'best'] -> video\n",
      "['the', 'best', 'video'] -> game\n",
      "['best', 'video', 'game'] -> ever\n",
      "['is', 'warcraft', 'and'] -> world\n",
      "['warcraft', 'and', 'world'] -> of\n",
      "['and', 'world', 'of'] -> warcraft\n",
      "['world', 'of', 'warcraft'] -> the\n",
      "['of', 'warcraft', 'the'] -> same\n",
      "['warcraft', 'the', 'same'] -> game\n",
      "['icecream', 'is', 'too'] -> sweet\n",
      "['is', 'too', 'sweet'] -> for\n",
      "['too', 'sweet', 'for'] -> meal\n",
      "['dove', 'chocolate', 'is'] -> my\n",
      "['chocolate', 'is', 'my'] -> favorite\n",
      "['which', 'is', 'sweet'] -> chocolate\n",
      "['is', 'sweet', 'chocolate'] -> or\n",
      "['sweet', 'chocolate', 'or'] -> icecream\n",
      "['chocolate', 'or', 'banana'] -> or\n",
      "['or', 'banana', 'or'] -> icecream\n",
      "['banana', 'or', 'icecream'] -> is\n",
      "['or', 'icecream', 'is'] -> the\n",
      "['icecream', 'is', 'the'] -> most\n",
      "['is', 'the', 'most'] -> delicious\n",
      "['the', 'most', 'delicious'] -> food\n",
      "['go', 'to', 'buy'] -> banana\n",
      "['to', 'buy', 'banana'] -> bread\n",
      "['buy', 'banana', 'bread'] -> for\n",
      "['banana', 'bread', 'for'] -> my\n",
      "['bread', 'for', 'my'] -> lunch\n",
      "['banana', 'apple', 'smoothie'] -> is\n",
      "['apple', 'smoothie', 'is'] -> the\n",
      "['smoothie', 'is', 'the'] -> best\n",
      "['is', 'the', 'best'] -> for\n",
      "['the', 'best', 'for'] -> lunch\n",
      "['chocolate', 'icecream', 'taste'] -> more\n",
      "['icecream', 'taste', 'more'] -> delicious\n",
      "['taste', 'more', 'delicious'] -> than\n"
     ]
    }
   ],
   "source": [
    "for i in range(50):\n",
    "    tmpx = [idx2word.get(idx) for idx in X[i]]\n",
    "    tmpy = idx2word.get(Y[i])\n",
    "    print(f\"{tmpx} -> {tmpy}\")"
   ]
  },
  {
   "cell_type": "markdown",
   "metadata": {},
   "source": [
    "#### OHE:\n",
    "\n",
    "To feed into the network, we need to `one-hot-encode` our X and Y:"
   ]
  },
  {
   "cell_type": "code",
   "execution_count": 265,
   "metadata": {},
   "outputs": [],
   "source": [
    "ohe_Y = oheY(Y,idx2word)"
   ]
  },
  {
   "cell_type": "code",
   "execution_count": 266,
   "metadata": {},
   "outputs": [],
   "source": [
    "X_train = []\n",
    "for sent in X:\n",
    "    X_train.append(oheY(sent,idx2word))\n",
    "X_train = np.array(X_train)"
   ]
  },
  {
   "cell_type": "markdown",
   "metadata": {},
   "source": [
    "#### Now let's start the NN Architecture:\n",
    "\n",
    "now we have our data prepared for the model, note that we get rid of the biases for the simplicity"
   ]
  },
  {
   "cell_type": "code",
   "execution_count": 267,
   "metadata": {},
   "outputs": [],
   "source": [
    "X;ohe_Y;idx2word;word2idx;"
   ]
  },
  {
   "cell_type": "markdown",
   "metadata": {},
   "source": [
    "And parameters:"
   ]
  },
  {
   "cell_type": "code",
   "execution_count": 476,
   "metadata": {},
   "outputs": [],
   "source": [
    "V = len(idx2word) # vocabulary size"
   ]
  },
  {
   "cell_type": "code",
   "execution_count": 477,
   "metadata": {},
   "outputs": [],
   "source": [
    "h = 16 # number of hiddent units"
   ]
  },
  {
   "cell_type": "code",
   "execution_count": 478,
   "metadata": {},
   "outputs": [],
   "source": [
    "m = 5 #5 embedding dimension"
   ]
  },
  {
   "cell_type": "code",
   "execution_count": 486,
   "metadata": {},
   "outputs": [],
   "source": [
    "n_iter = 300 #300\n",
    "alpha = 0.001"
   ]
  },
  {
   "cell_type": "code",
   "execution_count": 487,
   "metadata": {},
   "outputs": [],
   "source": [
    "a = 1"
   ]
  },
  {
   "cell_type": "code",
   "execution_count": 488,
   "metadata": {},
   "outputs": [],
   "source": [
    "\n",
    "\n",
    "C = np.random.normal(size=(V,m)) # embedding weight matrix\n",
    "\n",
    "\n",
    "\n",
    "\n",
    "U = np.random.normal(size=(V,h)) # embedding weight matrix\n",
    "W = np.random.normal(size=(V,N*m   )) # embedding weight matrix\n",
    "\n",
    "H = np.random.normal(size=(h,N*m)) # Hidden Layer matrix \n",
    "\n",
    "d = np.zeros((1,h))\n",
    "\n",
    "b = np.zeros((1,V))"
   ]
  },
  {
   "cell_type": "code",
   "execution_count": 489,
   "metadata": {},
   "outputs": [],
   "source": [
    "LOSS = []"
   ]
  },
  {
   "cell_type": "code",
   "execution_count": 490,
   "metadata": {},
   "outputs": [
    {
     "name": "stdout",
     "output_type": "stream",
     "text": [
      "Loss--14.056023024923679\n",
      "Loss--13.341058998834047\n",
      "Loss--12.632042007867355\n",
      "Loss--11.981858695556054\n",
      "Loss--11.429418374507307\n",
      "Loss--10.957535597872845\n",
      "Loss--10.52879492619196\n",
      "Loss--10.122839055458668\n",
      "Loss--9.743512316584301\n",
      "Loss--9.39730930438617\n",
      "Loss--9.083354037011866\n",
      "Loss--8.799498273915685\n",
      "Loss--8.539225107942102\n",
      "Loss--8.295292696900908\n",
      "Loss--8.063266827986105\n",
      "Loss--7.840909489726805\n",
      "Loss--7.627451476964967\n",
      "Loss--7.42363843856118\n",
      "Loss--7.230214871300546\n",
      "Loss--7.047177402633065\n",
      "Loss--6.873703961682445\n",
      "Loss--6.708297069763818\n",
      "Loss--6.548997746092417\n",
      "Loss--6.394100920816377\n",
      "Loss--6.242815088334415\n",
      "Loss--6.095622675208398\n",
      "Loss--5.95357357474589\n",
      "Loss--5.817165485727904\n",
      "Loss--5.686026236454435\n",
      "Loss--5.559475888367311\n",
      "Loss--5.4370423083014465\n",
      "Loss--5.318514128822914\n",
      "Loss--5.203802485932598\n",
      "Loss--5.092788992341444\n",
      "Loss--4.985239766868958\n",
      "Loss--4.880826580985282\n",
      "Loss--4.77920557343942\n",
      "Loss--4.6800870446229785\n",
      "Loss--4.583267438185829\n",
      "Loss--4.488598981549998\n",
      "Loss--4.39594083437299\n",
      "Loss--4.305191001409964\n",
      "Loss--4.216339203947551\n",
      "Loss--4.129407501801854\n",
      "Loss--4.044361946744393\n",
      "Loss--3.9611312427731566\n",
      "Loss--3.879658192432235\n",
      "Loss--3.7999001488439696\n",
      "Loss--3.7218046002592935\n",
      "Loss--3.645299352538926\n",
      "Loss--3.5702993541962025\n",
      "Loss--3.496717687670862\n",
      "Loss--3.4244752917902614\n",
      "Loss--3.3535097134182106\n",
      "Loss--3.2837823227967307\n",
      "Loss--3.215281004252819\n",
      "Loss--3.1480151813014317\n",
      "Loss--3.0820034085056323\n",
      "Loss--3.017258898616232\n",
      "Loss--2.9537798871507097\n"
     ]
    }
   ],
   "source": [
    "for iter in range(n_iter):\n",
    "    \n",
    "    # Forward Propagation:\n",
    "    x0 = X_train.dot(C) # query the word vector from Word Embedding Layer:  MxNxH\n",
    "    x = x0.reshape(x0.shape[0],-1) # Concat: Mx(N*H)\n",
    "    hx = x.dot(H.T) + d#Mxh\n",
    "    act_hx = tanh(hx,if_derivative=False)#Mxh\n",
    "    U_act_hx = act_hx.dot(U.T) # MxV\n",
    "    Wx = x.dot(W.T) #MxV\n",
    "    \n",
    "    add_all_x = b+Wx+U_act_hx\n",
    "    output = softmax(add_all_x)\n",
    "    loss = cross_entropy(ohe_Y,output)\n",
    "    LOSS.append(loss)\n",
    "    if iter%5==0:\n",
    "        print(f\"Loss--{loss}\")\n",
    "    \n",
    "    \n",
    "    # Backward Propagation\n",
    "\n",
    "    #d_loss/d_add_all_x: (I hacked this step), d of cross_entropy+softmax is the subtraction\n",
    "    d_add_all_x = output - ohe_Y\n",
    "    \n",
    "    \n",
    "    d_b = d_add_all_x.sum(axis=0,keepdims=True)\n",
    "    d_Wx = d_add_all_x.copy() # mxv\n",
    "    d_U_act_hx = d_add_all_x.copy()\n",
    "    \n",
    "    #d_loss/d_w\n",
    "    d_W = d_Wx.T.dot(x)\n",
    "    #d_loss/d_U\n",
    "    d_U = d_U_act_hx.T.dot(act_hx)\n",
    "    #d_loss/d_act_hx\n",
    "    d_act_hx = d_U_act_hx.dot(U)\n",
    "    #d_loss/d_hx\n",
    "    d_hx = d_act_hx* tanh(act_hx,if_derivative=True)\n",
    "    #d_loss/d_H\n",
    "    d_H = d_hx.T.dot(x)\n",
    "   \n",
    "    #d_loss/d_x\n",
    "    d_x = d_hx.dot(H)\n",
    "\n",
    "    #d_loss/d_d\n",
    "    d_d = d_hx.sum(axis=0,keepdims=True)\n",
    "\n",
    "\n",
    "    \n",
    "    # reshap back\n",
    "    d_x = d_x.reshape(x0.shape)\n",
    "\n",
    "\n",
    "    #     d_loss/d_C\n",
    "    d_C = np.zeros(C.shape) \n",
    "    for v in range(C.shape[0]):\n",
    "        for w in range(C.shape[1]):\n",
    "            d_C[v,w] = np.tensordot(d_X_embedding[:,:,w],X_train[:,:,v])\n",
    "\n",
    "\n",
    "\n",
    "\n",
    "    C -= alpha*d_C\n",
    "    U -= alpha*d_U\n",
    "    W -= alpha*d_W\n",
    "    H -= alpha*d_H\n",
    "    d -= alpha*d_d\n",
    "    b -= alpha*d_b"
   ]
  },
  {
   "cell_type": "code",
   "execution_count": 491,
   "metadata": {},
   "outputs": [
    {
     "data": {
      "text/plain": [
       "[<matplotlib.lines.Line2D at 0x123a340f0>]"
      ]
     },
     "execution_count": 491,
     "metadata": {},
     "output_type": "execute_result"
    },
    {
     "data": {
      "image/png": "[encoded data removed]",
      "text/plain": [
       "<Figure size 432x288 with 1 Axes>"
      ]
     },
     "metadata": {
      "needs_background": "light"
     },
     "output_type": "display_data"
    }
   ],
   "source": [
    "plt.plot(LOSS)"
   ]
  },
  {
   "cell_type": "markdown",
   "metadata": {},
   "source": [
    "#### Training is done, let's now evaluate our NNLM to see how well it predicts text:"
   ]
  },
  {
   "cell_type": "code",
   "execution_count": 499,
   "metadata": {},
   "outputs": [],
   "source": [
    "def predict(test_string,C=C,U=U,W=W,H=H,d=d,b=b,word2idx=word2idx):\n",
    "\n",
    "    # FP one time using trained weight:\n",
    "    test_list = test_string.split(\" \")\n",
    "    test_list = [[word2idx.get(i) for i in test_list]]\n",
    "    X_test = []\n",
    "    for sent in test_list:\n",
    "        X_test.append(oheY(sent,idx2word))\n",
    "    X_test = np.array(X_test)\n",
    "    x0 = X_test.dot(C) # query the word vector from Word Embedding Layer\n",
    "    x = x0.reshape(x0.shape[0],-1) # Concat: Mx(N*H)\n",
    "    hx = x.dot(H.T) + d#Mxh\n",
    "    act_hx = tanh(hx,if_derivative=False)#Mxh\n",
    "    U_act_hx = act_hx.dot(U.T) # MxV\n",
    "    Wx = x.dot(W.T) #MxV\n",
    "    \n",
    "    add_all_x = b+Wx+U_act_hx\n",
    "    output = softmax(add_all_x)\n",
    "    idxs = np.where(output==output.max())[1]\n",
    "   \n",
    "    return [idx2word.get(i) for i in idxs]\n",
    "\n",
    "\n"
   ]
  },
  {
   "cell_type": "code",
   "execution_count": 500,
   "metadata": {},
   "outputs": [
    {
     "data": {
      "text/plain": [
       "['icecream']"
      ]
     },
     "execution_count": 500,
     "metadata": {},
     "output_type": "execute_result"
    }
   ],
   "source": [
    "test_string = \"taste more delicious\"\n",
    "predict(test_string)"
   ]
  },
  {
   "cell_type": "code",
   "execution_count": 501,
   "metadata": {},
   "outputs": [
    {
     "data": {
      "text/plain": [
       "['warcraft']"
      ]
     },
     "execution_count": 501,
     "metadata": {},
     "output_type": "execute_result"
    }
   ],
   "source": [
    "test_string = \"in world of\"\n",
    "predict(test_string)"
   ]
  },
  {
   "cell_type": "code",
   "execution_count": 502,
   "metadata": {},
   "outputs": [
    {
     "data": {
      "text/plain": [
       "['sweet']"
      ]
     },
     "execution_count": 502,
     "metadata": {},
     "output_type": "execute_result"
    }
   ],
   "source": [
    "test_string = \"icecream is too\"\n",
    "predict(test_string)"
   ]
  },
  {
   "cell_type": "code",
   "execution_count": 503,
   "metadata": {},
   "outputs": [
    {
     "data": {
      "text/plain": [
       "['for']"
      ]
     },
     "execution_count": 503,
     "metadata": {},
     "output_type": "execute_result"
    }
   ],
   "source": [
    "test_string = \"everyone is ready\"\n",
    "predict(test_string)"
   ]
  }
 ],
 "metadata": {
  "kernelspec": {
   "display_name": "Python 3",
   "language": "python",
   "name": "python3"
  },
  "language_info": {
   "codemirror_mode": {
    "name": "ipython",
    "version": 3
   },
   "file_extension": ".py",
   "mimetype": "text/x-python",
   "name": "python",
   "nbconvert_exporter": "python",
   "pygments_lexer": "ipython3",
   "version": "3.6.8"
  }
 },
 "nbformat": 4,
 "nbformat_minor": 2
}
