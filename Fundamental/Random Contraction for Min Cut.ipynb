{
 "cells": [
  {
   "cell_type": "code",
   "execution_count": 1,
   "metadata": {},
   "outputs": [],
   "source": [
    "import random"
   ]
  },
  {
   "cell_type": "code",
   "execution_count": 2,
   "metadata": {},
   "outputs": [],
   "source": [
    "def load_data(filename:str)->list:\n",
    "    graph = {}\n",
    "    with open(filename,'r') as f:\n",
    "        data = f.readlines()\n",
    "    data = [i.replace('\\n','').split('\\t') for i in data]\n",
    "    changetype = lambda x: [int(i) for i in x if len(i)>0]\n",
    "    data = [changetype(i) for i in data]\n",
    "    for row in data:\n",
    "        graph[row[0]] = row[1:]\n",
    "    \n",
    "    return graph\n",
    "\n",
    "\n",
    "def choose_random_edge(graph:dict)->tuple:\n",
    "    v0 = random.choice(list(graph.keys()))\n",
    "    v1 = random.choice(list(graph[v0]))\n",
    "    return v0,v1\n",
    "\n",
    "\n",
    "def contraction(graph:dict,edge:tuple)->dict:\n",
    "    v0,v1 = edge\n",
    "\n",
    "    # merge:\n",
    "    graph[v1] = list(graph[v0] + graph[v1])\n",
    "\n",
    "    # replace all v0 by v1\n",
    "    for k in graph.keys():\n",
    "        graph[k] = [v1 if val==v0 else val for val in graph[k]]\n",
    "    # remove self after merge\n",
    "    graph[v1] = [i for i in graph[v1] if i!=v1] \n",
    "    # del vertice\n",
    "    del graph[v0]  \n",
    "    return graph\n",
    "\n",
    "def count_graph_len(graph:dict)->int:\n",
    "    length = []\n",
    "    for key in graph.keys():\n",
    "        length.append(len(graph[key]))\n",
    "    return length[0]   \n",
    "\n",
    "\n",
    "\n",
    "def random_contract_main(graph:dict)->int:\n",
    "    \n",
    "    while len(graph)>2:\n",
    "        rd_edge = choose_random_edge(graph)  \n",
    "        graph = contraction(graph,rd_edge)\n",
    "    length = count_graph_len(graph)\n",
    "    return length\n",
    "     \n",
    "        "
   ]
  },
  {
   "cell_type": "code",
   "execution_count": 3,
   "metadata": {},
   "outputs": [
    {
     "name": "stdout",
     "output_type": "stream",
     "text": [
      "17\n"
     ]
    }
   ],
   "source": [
    "min_val = []\n",
    "for i in range(50): # n iterations:\n",
    "    graph = load_data('mincut.txt')\n",
    "    min_val.append(random_contract_main(graph))\n",
    "\n",
    "print(min(min_val))\n",
    "\n",
    "    "
   ]
  }
 ],
 "metadata": {
  "kernelspec": {
   "display_name": "Python 3",
   "language": "python",
   "name": "python3"
  },
  "language_info": {
   "codemirror_mode": {
    "name": "ipython",
    "version": 3
   },
   "file_extension": ".py",
   "mimetype": "text/x-python",
   "name": "python",
   "nbconvert_exporter": "python",
   "pygments_lexer": "ipython3",
   "version": "3.6.7"
  }
 },
 "nbformat": 4,
 "nbformat_minor": 2
}
