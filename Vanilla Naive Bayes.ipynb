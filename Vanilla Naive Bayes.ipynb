{
 "cells": [
  {
   "cell_type": "code",
   "execution_count": 423,
   "metadata": {},
   "outputs": [],
   "source": [
    "import numpy as np\n",
    "from sklearn.datasets import make_hastie_10_2"
   ]
  },
  {
   "cell_type": "markdown",
   "metadata": {},
   "source": [
    "### Important Parameters:"
   ]
  },
  {
   "cell_type": "code",
   "execution_count": 424,
   "metadata": {},
   "outputs": [],
   "source": [
    "N_SAMPLE = 200\n",
    "TV_RATIO = 0.8\n",
    "N_TRAIN = int(N_SAMPLE*TV_RATIO)"
   ]
  },
  {
   "cell_type": "markdown",
   "metadata": {},
   "source": [
    "### Get Data:"
   ]
  },
  {
   "cell_type": "code",
   "execution_count": 425,
   "metadata": {},
   "outputs": [],
   "source": [
    "\n",
    "X,y = sklearn.datasets.make_hastie_10_2(n_samples=N_SAMPLE, random_state=None)"
   ]
  },
  {
   "cell_type": "code",
   "execution_count": 421,
   "metadata": {},
   "outputs": [
    {
     "name": "stdout",
     "output_type": "stream",
     "text": [
      "[[-0.89285345  0.24279028 -1.1444126  -0.33471867  0.58528437  1.08140706\n",
      "   0.5519119   0.47022415 -0.8429417   0.37413704]\n",
      " [-1.73162857 -0.26329552  0.51869942 -0.26950049  2.00294608  2.45408667\n",
      "  -1.23503318  1.40683048  1.19969165  0.92684624]\n",
      " [-0.37972927  0.95199815 -0.47972362 -0.45041395 -0.52770192 -0.86058965\n",
      "  -0.78772956  2.07316509 -0.09069499  0.29210754]\n",
      " [ 0.65714564  0.82801008  0.96381419  1.4408851  -0.66706405  0.67435262\n",
      "   2.35106398 -0.61607145  0.76966316 -0.9344723 ]\n",
      " [-0.3331528  -0.13646056 -0.14160308  0.9842972  -1.44209571 -0.66258911\n",
      "  -0.11309678  0.07824391  0.68342435 -0.19026776]]\n"
     ]
    }
   ],
   "source": [
    "print(X[:5,:])"
   ]
  },
  {
   "cell_type": "code",
   "execution_count": 422,
   "metadata": {},
   "outputs": [
    {
     "name": "stdout",
     "output_type": "stream",
     "text": [
      "[-1.  1. -1.  1. -1.]\n"
     ]
    }
   ],
   "source": [
    "print(y[:5])"
   ]
  },
  {
   "cell_type": "code",
   "execution_count": 383,
   "metadata": {},
   "outputs": [],
   "source": [
    "y[y==1] = 1\n",
    "y[y==-1] = 0"
   ]
  },
  {
   "cell_type": "code",
   "execution_count": 385,
   "metadata": {},
   "outputs": [],
   "source": [
    "X,X_test = (X[:N_TRAIN,:],X[N_TRAIN:,:])\n",
    "y,y_test = (y[:N_TRAIN],y[N_TRAIN:])"
   ]
  },
  {
   "cell_type": "code",
   "execution_count": 386,
   "metadata": {},
   "outputs": [
    {
     "name": "stdout",
     "output_type": "stream",
     "text": [
      "(160, 10) (40, 10)\n"
     ]
    }
   ],
   "source": [
    "print(X.shape,X_test.shape)"
   ]
  },
  {
   "cell_type": "code",
   "execution_count": 387,
   "metadata": {},
   "outputs": [
    {
     "name": "stdout",
     "output_type": "stream",
     "text": [
      "(160,) (40,)\n"
     ]
    }
   ],
   "source": [
    "print(y.shape,y_test.shape)"
   ]
  },
  {
   "cell_type": "code",
   "execution_count": 388,
   "metadata": {
    "scrolled": true
   },
   "outputs": [],
   "source": [
    "class NB_Binary_Classifier(object):\n",
    "    \n",
    "    def fit(self, X,y):\n",
    "        \n",
    "        def col_stats(dat):\n",
    "            '''helper fn calc mean and var'''\n",
    "            res = []\n",
    "            for i in range(0,dat.shape[1]):\n",
    "                res.append((np.mean(dat[:,i]),np.var(dat[:,i],ddof=1)))\n",
    "            return res\n",
    "    \n",
    "        y = y.reshape(-1,1)\n",
    "        dat = np.hstack([y,X])\n",
    "        self.category = np.unique([i[0] for i in dat]).tolist()\n",
    "        X0 = X[np.ravel((y==self.category[0])),:]\n",
    "        X1 = X[np.ravel((y==self.category[1])),:]\n",
    "        # Output\n",
    "        self.dat0_stats = col_stats(X0)\n",
    "        self.dat1_stats = col_stats(X1)\n",
    "        self.P0 = len(X0)/len(y)\n",
    "        self.P1 = len(X1)/len(y)\n",
    "\n",
    "    \n",
    "    def predict(self,X_test):\n",
    "        def prob_distribution(mu,var,x):\n",
    "            '''helper fn calc distribution'''\n",
    "            return (1/np.sqrt(2*np.pi*var)) * np.exp( (-(x-mu)**2)/(2*var) )\n",
    "        \n",
    "        \n",
    "        n = X_test.shape[1]\n",
    "\n",
    "        self.PP0s = []\n",
    "        self.PP1s = []\n",
    "        self.evidences = []\n",
    "        predictions = []\n",
    "        \n",
    "        \n",
    "        for row in range(X_test.shape[0]):\n",
    "            post_p = []\n",
    "            cat0_pp = []\n",
    "            cat1_pp = []\n",
    "            #Cat0\n",
    "            for col in range(X_test.shape[1]):\n",
    "                #cat 0 pp:\n",
    "                cat0_pp.append(prob_distribution(self.dat0_stats[col][0],self.dat0_stats[col][1],X_test[row][col]))\n",
    "                #cat 1 pp:\n",
    "                cat1_pp.append(prob_distribution(self.dat1_stats[col][0],self.dat1_stats[col][1],X_test[row][col]))\n",
    "\n",
    "\n",
    "            PP0 = self.P0 * np.prod(cat0_pp)\n",
    "            PP1 = self.P1 * np.prod(cat1_pp)\n",
    "            evidence = PP0+PP1\n",
    "\n",
    "            \n",
    "            self.cat0_pp = cat0_pp\n",
    "            self.cat1_pp = cat1_pp\n",
    "            self.PP0s.append(PP0)\n",
    "            self.PP1s.append(PP1)\n",
    "            self.evidences.append (evidence)\n",
    "            \n",
    "            # Output:\n",
    "            \n",
    "            predictions.append( ( round(PP0/evidence,3), round(PP1/evidence,3)   )  )\n",
    "        \n",
    "        \n",
    "        return predictions\n",
    "\n",
    "        \n",
    "        \n",
    "    \n",
    "\n",
    "        "
   ]
  },
  {
   "cell_type": "code",
   "execution_count": 389,
   "metadata": {},
   "outputs": [],
   "source": [
    "model = NB_Binary_Classifier()"
   ]
  },
  {
   "cell_type": "code",
   "execution_count": 390,
   "metadata": {},
   "outputs": [],
   "source": [
    "model.fit(X=X,y=y)"
   ]
  },
  {
   "cell_type": "code",
   "execution_count": 391,
   "metadata": {},
   "outputs": [
    {
     "data": {
      "text/plain": [
       "[(0.87, 0.13),\n",
       " (0.144, 0.856),\n",
       " (0.825, 0.175),\n",
       " (0.067, 0.933),\n",
       " (0.922, 0.078),\n",
       " (0.304, 0.696),\n",
       " (0.929, 0.071),\n",
       " (0.711, 0.289),\n",
       " (0.452, 0.548),\n",
       " (0.858, 0.142),\n",
       " (0.387, 0.613),\n",
       " (0.727, 0.273),\n",
       " (0.629, 0.371),\n",
       " (0.807, 0.193),\n",
       " (0.002, 0.998),\n",
       " (0.182, 0.818),\n",
       " (0.333, 0.667),\n",
       " (0.432, 0.568),\n",
       " (0.859, 0.141),\n",
       " (0.53, 0.47),\n",
       " (0.117, 0.883),\n",
       " (0.391, 0.609),\n",
       " (0.259, 0.741),\n",
       " (0.407, 0.593),\n",
       " (0.13, 0.87),\n",
       " (0.628, 0.372),\n",
       " (0.652, 0.348),\n",
       " (0.524, 0.476),\n",
       " (0.348, 0.652),\n",
       " (0.164, 0.836),\n",
       " (0.85, 0.15),\n",
       " (0.952, 0.048),\n",
       " (0.249, 0.751),\n",
       " (0.137, 0.863),\n",
       " (0.269, 0.731),\n",
       " (0.031, 0.969),\n",
       " (0.033, 0.967),\n",
       " (0.052, 0.948),\n",
       " (0.424, 0.576),\n",
       " (0.059, 0.941)]"
      ]
     },
     "execution_count": 391,
     "metadata": {},
     "output_type": "execute_result"
    }
   ],
   "source": [
    "prediction = model.predict(X_test)\n",
    "prediction"
   ]
  },
  {
   "cell_type": "code",
   "execution_count": 405,
   "metadata": {},
   "outputs": [],
   "source": [
    "pred_res = [np.argmax(i) for i in prediction]"
   ]
  },
  {
   "cell_type": "markdown",
   "metadata": {},
   "source": [
    "### Check CV Accuracy:"
   ]
  },
  {
   "cell_type": "code",
   "execution_count": 412,
   "metadata": {},
   "outputs": [],
   "source": [
    "def accuracy(prediction,label):\n",
    "    return float(np.sum(np.ravel(prediction)==np.ravel(label)))*100/len(prediction)\n",
    "    "
   ]
  },
  {
   "cell_type": "code",
   "execution_count": 415,
   "metadata": {},
   "outputs": [],
   "source": [
    "acc = accuracy(pred_res,y_test)"
   ]
  },
  {
   "cell_type": "code",
   "execution_count": 417,
   "metadata": {},
   "outputs": [
    {
     "name": "stdout",
     "output_type": "stream",
     "text": [
      "The cross validation result is 80.0%\n"
     ]
    }
   ],
   "source": [
    "print('The cross validation result is {}%'.format(acc))"
   ]
  },
  {
   "cell_type": "code",
   "execution_count": null,
   "metadata": {},
   "outputs": [],
   "source": []
  }
 ],
 "metadata": {
  "kernelspec": {
   "display_name": "Python 3",
   "language": "python",
   "name": "python3"
  },
  "language_info": {
   "codemirror_mode": {
    "name": "ipython",
    "version": 3
   },
   "file_extension": ".py",
   "mimetype": "text/x-python",
   "name": "python",
   "nbconvert_exporter": "python",
   "pygments_lexer": "ipython3",
   "version": "3.6.4"
  }
 },
 "nbformat": 4,
 "nbformat_minor": 2
}
