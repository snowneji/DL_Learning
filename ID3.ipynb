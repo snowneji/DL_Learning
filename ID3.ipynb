{
 "cells": [
  {
   "cell_type": "markdown",
   "metadata": {},
   "source": [
    "# ID3 Classifier\n",
    "\n",
    "\n",
    "### Author: Yifan Wang"
   ]
  },
  {
   "cell_type": "code",
   "execution_count": 1,
   "metadata": {},
   "outputs": [],
   "source": [
    "from sklearn.datasets import load_breast_cancer\n",
    "import numpy as np\n",
    "from collections import Counter"
   ]
  },
  {
   "cell_type": "code",
   "execution_count": 2,
   "metadata": {},
   "outputs": [],
   "source": [
    "class id3_tree():\n",
    "    'Implementation of ID3 Decision Tree in Python, majorly in NumPy'\n",
    "    def __init__(self,least_children_num,verbose=True):\n",
    "        self.least_children_num = least_children_num\n",
    "        self.verbose = verbose\n",
    "        \n",
    "    \n",
    "    def fit(self,tmp_x,tmp_y):\n",
    "        def fit_tree(tmp_x,tmp_y):\n",
    "        #     Exit Condition 0:\n",
    "            # Exit Condition 1:\n",
    "            if \\\n",
    "            len(tmp_y) < self.least_children_num or len(np.unique(tmp_y))==1:\n",
    "\n",
    "                if self.verbose:\n",
    "                    print('exit condition:')\n",
    "                    print('tmp_y:')\n",
    "                    print(tmp_y)\n",
    "\n",
    "                mode_val = self.mode(tmp_y.flatten().tolist())\n",
    "                return([np.nan, mode_val, np.nan, np.nan]) # Leaf Node: format [feat,splitval,]\n",
    "\n",
    "            # Otherwise Split:\n",
    "            if self.verbose:\n",
    "                print(\"start....subset Y len {}\".format(len(tmp_y)))\n",
    "\n",
    "\n",
    "            split_row,split_col = self.decide_split_data(tmp_x,tmp_y)\n",
    "\n",
    "            if not split_row and not split_col:\n",
    "                print('no better split...return mode')\n",
    "                mode_val = self.mode(tmp_y.flatten().tolist())\n",
    "                return([np.nan, mode_val, np.nan, np.nan])\n",
    "\n",
    "            if self.verbose:\n",
    "                print(\"split on:\")\n",
    "                print(split_row,split_col)\n",
    "\n",
    "\n",
    "            split_vec = tmp_x[:,split_col]\n",
    "            split_val = tmp_x[split_row,split_col]\n",
    "\n",
    "            # Recursively Split to left and right branches:\n",
    "            left_ind = np.where(split_vec<split_val)[0].tolist()\n",
    "            right_ind = np.where(split_vec>=split_val)[0].tolist()\n",
    "            left_dat,left_y = tmp_x[left_ind,:],tmp_y[left_ind,]\n",
    "            right_dat,right_y = tmp_x[right_ind,:],tmp_y[right_ind,]\n",
    "\n",
    "            left_tree = fit_tree(left_dat,left_y)\n",
    "            right_tree = fit_tree(right_dat,right_y)\n",
    "\n",
    "            if isinstance(left_tree, list): # If list, tree len 1\n",
    "                len_l_tree = 1\n",
    "            else:\n",
    "                len_l_tree = left_tree.shape[0] # If array, tree len >1\n",
    "\n",
    "            root = [split_col,split_val,1,len_l_tree+1] # Format [split_col, split_val, left_tree_relative_idx, right_tree_relative_idx]\n",
    "            return(np.vstack([root,left_tree,right_tree]))\n",
    "        \n",
    "        tree = fit_tree(tmp_x,tmp_y)\n",
    "        self.tree = tree\n",
    "\n",
    "    \n",
    "\n",
    "    def decide_split_data(self,x,y):\n",
    "        'Given subset of X,Y, search for the best splitting node based on: information gain'\n",
    "        def entropy(tmp_y):\n",
    "            'Key Metrics of building a decision tree. Specifically Shannon Entropy'\n",
    "            tmp_ent = 0\n",
    "            for uni_y in np.unique(tmp_y):\n",
    "                p = len(tmp_y[tmp_y==uni_y])/len(tmp_y)\n",
    "                tmp_ent -= (p*np.log2(p))\n",
    "            return tmp_ent\n",
    "\n",
    "        m,n = x.shape\n",
    "        best_gain = 0\n",
    "        split_row, split_col = None,None\n",
    "\n",
    "        previous_entropy = entropy(y)\n",
    "        for col in range(n):\n",
    "            tmp_vec = x[:,col].ravel()\n",
    "\n",
    "            for row in range(m):\n",
    "                val = tmp_vec[row]\n",
    "                # >= & < is my convention here:\n",
    "                if val!=np.max(tmp_vec) and val!= np.min(tmp_vec):\n",
    "                    left_b = np.where(tmp_vec<val)[0].tolist()\n",
    "                    right_b = np.where(tmp_vec>=val)[0].tolist()\n",
    "\n",
    "                    # new entropy is the weighted  average entropy from each of the subset\n",
    "                    new_ent = \\\n",
    "                    (len(y[left_b])/len(y))*entropy(y[left_b]) + \\\n",
    "                    (len(y[right_b])/len(y))*entropy(y[right_b])\n",
    "\n",
    "\n",
    "    #                 print('new entropy: %f'%new_ent)\n",
    "                    info_gain = previous_entropy - new_ent\n",
    "\n",
    "                    if info_gain > best_gain:\n",
    "                        split_row, split_col = row,col\n",
    "                        best_gain = info_gain\n",
    "                        if self.verbose:\n",
    "                            print('better gain:{}'.format(best_gain))\n",
    "                            print()\n",
    "\n",
    "        return split_row, split_col\n",
    "                \n",
    "                \n",
    "\n",
    "    def mode(self, x_list):\n",
    "        'calculate the mode'\n",
    "        return Counter(x_list).most_common(1)[0][0]\n",
    "\n",
    "    \n",
    "    \n",
    "\n",
    "    \n",
    "    \n",
    "    \n",
    "\n",
    "    \n",
    "    \n",
    "    \n",
    "    def predict(self, tmp_test_array):\n",
    "        'Wrap-up fun for prediction'\n",
    "        def query(tree,tmp_test_array):\n",
    "            'Test for single example'\n",
    "            assert len(tmp_test_array.shape) == 2, \"Make sure your test data is 2d array\"\n",
    "\n",
    "\n",
    "            if isinstance(tree,list):\n",
    "                start_node = tree # only the 1 row in data\n",
    "            else:\n",
    "                start_node = tree[0,:] # Iteratively hit first row\n",
    "   \n",
    "            test_feat,test_val,left_tree_jump,right_tree_jump = start_node[0],start_node[1],start_node[2],start_node[3]\n",
    "\n",
    "            # Exit Condition:\n",
    "            if np.isnan(test_feat) and np.isnan(left_tree_jump) and np.isnan(right_tree_jump):\n",
    "                pred = test_val;\n",
    "                return pred \n",
    "            #Test:\n",
    "            if tmp_test_array[0,int(test_feat)] < test_val:\n",
    "                # If <, go left branch:\n",
    "                jump_loc = left_tree_jump\n",
    "                pred = query(tree[int(jump_loc):,],tmp_test_array)\n",
    "\n",
    "            else:\n",
    "                # If >=, go right branch:\n",
    "                jump_loc = right_tree_jump\n",
    "                pred = query(tree[int(jump_loc):,],tmp_test_array)\n",
    "\n",
    "            return pred\n",
    "\n",
    "        assert len(tmp_test_array.shape) == 2, \"Make sure your test data is 2d array\"\n",
    "        result = []\n",
    "\n",
    "        for i in range(tmp_test_array.shape[0]):\n",
    "            inp = tmp_test_array[i,:].reshape(1,-1)\n",
    "            result.append(query(self.tree,inp))\n",
    "        return result  \n",
    "        \n",
    "        \n",
    "        \n",
    "    \n",
    "    \n",
    "    "
   ]
  },
  {
   "cell_type": "markdown",
   "metadata": {},
   "source": [
    "#### As always load the toy dataset breast cancer classification, we will just use a small subset to test if the algorithm is working"
   ]
  },
  {
   "cell_type": "code",
   "execution_count": 3,
   "metadata": {},
   "outputs": [],
   "source": [
    "X,y = load_breast_cancer(return_X_y=True)\n",
    "X,y = X[:30,:5],y[:30,]"
   ]
  },
  {
   "cell_type": "code",
   "execution_count": 4,
   "metadata": {},
   "outputs": [],
   "source": [
    "# Construct and Fit:\n",
    "model = id3_tree(least_children_num = 2,verbose=False)\n",
    "model.fit(X,y)\n"
   ]
  },
  {
   "cell_type": "markdown",
   "metadata": {},
   "source": [
    "#### This is how our actual tree look like, spend some time to stare at it\n",
    "\n",
    "* Each row is a node\n",
    "\n",
    "* the rows with 3 nan are leaves, means no more children they have\n",
    "\n",
    "* The format is [split_col, split_val, left_tree_relative_idx, right_tree_relative_idx]"
   ]
  },
  {
   "cell_type": "code",
   "execution_count": 5,
   "metadata": {},
   "outputs": [
    {
     "data": {
      "text/plain": [
       "array([[ 2.    , 87.5   ,  1.    ,  4.    ],\n",
       "       [ 4.    ,  0.1186,  1.    ,  2.    ],\n",
       "       [    nan,  1.    ,     nan,     nan],\n",
       "       [    nan,  0.    ,     nan,     nan],\n",
       "       [    nan,  0.    ,     nan,     nan]])"
      ]
     },
     "execution_count": 5,
     "metadata": {},
     "output_type": "execute_result"
    }
   ],
   "source": [
    "model.tree"
   ]
  },
  {
   "cell_type": "markdown",
   "metadata": {},
   "source": [
    "#### We will cheat a little in here because we will just use training data to predict to check the bottom line that if it is working with training data"
   ]
  },
  {
   "cell_type": "code",
   "execution_count": 6,
   "metadata": {},
   "outputs": [],
   "source": [
    "pred = model.predict(X)"
   ]
  },
  {
   "cell_type": "code",
   "execution_count": 7,
   "metadata": {},
   "outputs": [
    {
     "name": "stdout",
     "output_type": "stream",
     "text": [
      "    in_sample_prediction  label\n",
      "0                    0.0      0\n",
      "1                    0.0      0\n",
      "2                    0.0      0\n",
      "3                    0.0      0\n",
      "4                    0.0      0\n",
      "5                    0.0      0\n",
      "6                    0.0      0\n",
      "7                    0.0      0\n",
      "8                    0.0      0\n",
      "9                    0.0      0\n",
      "10                   0.0      0\n",
      "11                   0.0      0\n",
      "12                   0.0      0\n",
      "13                   0.0      0\n",
      "14                   0.0      0\n",
      "15                   0.0      0\n",
      "16                   0.0      0\n",
      "17                   0.0      0\n",
      "18                   0.0      0\n",
      "19                   1.0      1\n",
      "20                   1.0      1\n",
      "21                   1.0      1\n",
      "22                   0.0      0\n",
      "23                   0.0      0\n",
      "24                   0.0      0\n",
      "25                   0.0      0\n",
      "26                   0.0      0\n",
      "27                   0.0      0\n",
      "28                   0.0      0\n",
      "29                   0.0      0\n"
     ]
    }
   ],
   "source": [
    "import pandas\n",
    "print(pandas.DataFrame([i for i in zip(pred,y)],columns=['in_sample_prediction','label']))"
   ]
  },
  {
   "cell_type": "code",
   "execution_count": 8,
   "metadata": {},
   "outputs": [],
   "source": [
    "# Accuracy Function:\n",
    "accuracy = lambda pred,y:   float(sum([pred[i]==y[i] for i in range(len(y))])) / len(y)"
   ]
  },
  {
   "cell_type": "code",
   "execution_count": 9,
   "metadata": {},
   "outputs": [],
   "source": [
    "y_list = y.tolist()"
   ]
  },
  {
   "cell_type": "markdown",
   "metadata": {},
   "source": [
    "#### Not bad,  it's getting 100% in-sample accuracy, means the tree is splitting correctly"
   ]
  },
  {
   "cell_type": "code",
   "execution_count": 10,
   "metadata": {},
   "outputs": [
    {
     "data": {
      "text/plain": [
       "1.0"
      ]
     },
     "execution_count": 10,
     "metadata": {},
     "output_type": "execute_result"
    }
   ],
   "source": [
    "accuracy(pred,y_list)"
   ]
  },
  {
   "cell_type": "markdown",
   "metadata": {},
   "source": [
    "###  Now Fit with all data:"
   ]
  },
  {
   "cell_type": "code",
   "execution_count": 11,
   "metadata": {},
   "outputs": [],
   "source": [
    "X,y = load_breast_cancer(return_X_y=True)\n"
   ]
  },
  {
   "cell_type": "code",
   "execution_count": 12,
   "metadata": {},
   "outputs": [
    {
     "name": "stdout",
     "output_type": "stream",
     "text": [
      "no better split...return mode\n"
     ]
    }
   ],
   "source": [
    "# Construct and Fit:\n",
    "model = id3_tree(least_children_num = 3,verbose=False)\n",
    "model.fit(X,y)\n"
   ]
  },
  {
   "cell_type": "code",
   "execution_count": 13,
   "metadata": {},
   "outputs": [
    {
     "data": {
      "text/plain": [
       "array([[2.200e+01, 1.060e+02, 1.000e+00, 2.000e+01],\n",
       "       [2.700e+01, 1.359e-01, 1.000e+00, 1.400e+01],\n",
       "       [1.300e+01, 4.911e+01, 1.000e+00, 1.000e+01],\n",
       "       [2.100e+01, 3.025e+01, 1.000e+00, 2.000e+00],\n",
       "       [      nan, 1.000e+00,       nan,       nan],\n",
       "       [1.100e+01, 8.927e-01, 1.000e+00, 2.000e+00],\n",
       "       [      nan, 0.000e+00,       nan,       nan],\n",
       "       [2.000e+01, 1.449e+01, 1.000e+00, 2.000e+00],\n",
       "       [      nan, 1.000e+00,       nan,       nan],\n",
       "       [0.000e+00, 1.338e+01, 1.000e+00, 2.000e+00],\n",
       "       [      nan, 0.000e+00,       nan,       nan],\n",
       "       [      nan, 1.000e+00,       nan,       nan],\n",
       "       [4.000e+00, 9.387e-02, 1.000e+00, 2.000e+00],\n",
       "       [      nan, 1.000e+00,       nan,       nan],\n",
       "       [      nan, 0.000e+00,       nan,       nan],\n",
       "       [2.100e+01, 2.795e+01, 1.000e+00, 4.000e+00],\n",
       "       [2.800e+01, 3.630e-01, 1.000e+00, 2.000e+00],\n",
       "       [      nan, 1.000e+00,       nan,       nan],\n",
       "       [      nan, 0.000e+00,       nan,       nan],\n",
       "       [      nan, 0.000e+00,       nan,       nan],\n",
       "       [2.200e+01, 1.177e+02, 1.000e+00, 1.200e+01],\n",
       "       [2.400e+01, 1.368e-01, 1.000e+00, 8.000e+00],\n",
       "       [2.100e+01, 2.584e+01, 1.000e+00, 2.000e+00],\n",
       "       [      nan, 1.000e+00,       nan,       nan],\n",
       "       [0.000e+00, 1.505e+01, 1.000e+00, 4.000e+00],\n",
       "       [4.000e+00, 9.444e-02, 1.000e+00, 2.000e+00],\n",
       "       [      nan, 1.000e+00,       nan,       nan],\n",
       "       [      nan, 0.000e+00,       nan,       nan],\n",
       "       [      nan, 0.000e+00,       nan,       nan],\n",
       "       [1.000e+00, 1.556e+01, 1.000e+00, 2.000e+00],\n",
       "       [      nan, 1.000e+00,       nan,       nan],\n",
       "       [      nan, 0.000e+00,       nan,       nan],\n",
       "       [1.900e+01, 1.575e-03, 1.000e+00, 4.000e+00],\n",
       "       [1.000e+01, 4.789e-01, 1.000e+00, 2.000e+00],\n",
       "       [      nan, 0.000e+00,       nan,       nan],\n",
       "       [      nan, 1.000e+00,       nan,       nan],\n",
       "       [      nan, 0.000e+00,       nan,       nan]])"
      ]
     },
     "execution_count": 13,
     "metadata": {},
     "output_type": "execute_result"
    }
   ],
   "source": [
    "# Tree:\n",
    "model.tree"
   ]
  },
  {
   "cell_type": "code",
   "execution_count": 14,
   "metadata": {},
   "outputs": [],
   "source": [
    "pred = model.predict(X)"
   ]
  },
  {
   "cell_type": "code",
   "execution_count": 15,
   "metadata": {},
   "outputs": [
    {
     "name": "stdout",
     "output_type": "stream",
     "text": [
      "     in_sample_prediction  label\n",
      "0                     0.0      0\n",
      "1                     0.0      0\n",
      "2                     0.0      0\n",
      "3                     0.0      0\n",
      "4                     0.0      0\n",
      "5                     0.0      0\n",
      "6                     0.0      0\n",
      "7                     0.0      0\n",
      "8                     0.0      0\n",
      "9                     0.0      0\n",
      "10                    0.0      0\n",
      "11                    0.0      0\n",
      "12                    0.0      0\n",
      "13                    0.0      0\n",
      "14                    0.0      0\n",
      "15                    0.0      0\n",
      "16                    0.0      0\n",
      "17                    0.0      0\n",
      "18                    0.0      0\n",
      "19                    1.0      1\n",
      "20                    1.0      1\n",
      "21                    1.0      1\n",
      "22                    0.0      0\n",
      "23                    0.0      0\n",
      "24                    0.0      0\n",
      "25                    0.0      0\n",
      "26                    0.0      0\n",
      "27                    0.0      0\n",
      "28                    0.0      0\n",
      "29                    0.0      0\n",
      "..                    ...    ...\n",
      "539                   1.0      1\n",
      "540                   1.0      1\n",
      "541                   1.0      1\n",
      "542                   1.0      1\n",
      "543                   1.0      1\n",
      "544                   1.0      1\n",
      "545                   1.0      1\n",
      "546                   1.0      1\n",
      "547                   1.0      1\n",
      "548                   1.0      1\n",
      "549                   1.0      1\n",
      "550                   1.0      1\n",
      "551                   1.0      1\n",
      "552                   1.0      1\n",
      "553                   1.0      1\n",
      "554                   1.0      1\n",
      "555                   1.0      1\n",
      "556                   1.0      1\n",
      "557                   1.0      1\n",
      "558                   1.0      1\n",
      "559                   1.0      1\n",
      "560                   1.0      1\n",
      "561                   1.0      1\n",
      "562                   0.0      0\n",
      "563                   0.0      0\n",
      "564                   0.0      0\n",
      "565                   0.0      0\n",
      "566                   0.0      0\n",
      "567                   0.0      0\n",
      "568                   1.0      1\n",
      "\n",
      "[569 rows x 2 columns]\n"
     ]
    }
   ],
   "source": [
    "import pandas\n",
    "print(pandas.DataFrame([i for i in zip(pred,y)],columns=['in_sample_prediction','label']))"
   ]
  },
  {
   "cell_type": "markdown",
   "metadata": {},
   "source": [
    "#### with all data we are getting 99.8% in-sample accuracy, nothing surprised here"
   ]
  },
  {
   "cell_type": "code",
   "execution_count": 16,
   "metadata": {},
   "outputs": [
    {
     "data": {
      "text/plain": [
       "0.9982425307557118"
      ]
     },
     "execution_count": 16,
     "metadata": {},
     "output_type": "execute_result"
    }
   ],
   "source": [
    "y_list = y.tolist()\n",
    "accuracy(pred,y_list)"
   ]
  },
  {
   "cell_type": "markdown",
   "metadata": {},
   "source": [
    "### Now, let's be more serious, and do some real data science, let's hold-out a part to do validation, to see how well the tree generalized:"
   ]
  },
  {
   "cell_type": "code",
   "execution_count": 17,
   "metadata": {},
   "outputs": [],
   "source": [
    "X,y = load_breast_cancer(return_X_y=True)"
   ]
  },
  {
   "cell_type": "code",
   "execution_count": 18,
   "metadata": {},
   "outputs": [],
   "source": [
    "# shuffling:\n",
    "idx = [i for i in range(len(y))]\n",
    "np.random.seed(1028)\n",
    "np.random.shuffle(idx)"
   ]
  },
  {
   "cell_type": "markdown",
   "metadata": {},
   "source": [
    "##### We use 20% data for validation, which is 113 examples"
   ]
  },
  {
   "cell_type": "code",
   "execution_count": 19,
   "metadata": {},
   "outputs": [
    {
     "name": "stdout",
     "output_type": "stream",
     "text": [
      "We will be using 113 validation examples\n"
     ]
    }
   ],
   "source": [
    "val_ratio = 0.2\n",
    "val_num = int(len(y)*val_ratio)\n",
    "\n",
    "print(\"We will be using {} validation examples\".format(val_num))"
   ]
  },
  {
   "cell_type": "code",
   "execution_count": 20,
   "metadata": {},
   "outputs": [],
   "source": [
    "X_train,X_valid = X[val_num:], X[:val_num]\n",
    "\n",
    "y_train,y_valid = y[val_num:], y[:val_num]"
   ]
  },
  {
   "cell_type": "code",
   "execution_count": 21,
   "metadata": {},
   "outputs": [
    {
     "name": "stdout",
     "output_type": "stream",
     "text": [
      "Shapes:\n",
      "(456, 30)\n",
      "(456,)\n",
      "(113, 30)\n",
      "(113,)\n"
     ]
    }
   ],
   "source": [
    "print(\"Shapes:\")\n",
    "print(X_train.shape)\n",
    "print(y_train.shape)\n",
    "print(X_valid.shape)\n",
    "print(y_valid.shape)"
   ]
  },
  {
   "cell_type": "code",
   "execution_count": 22,
   "metadata": {},
   "outputs": [],
   "source": [
    "# Construct and Fit:\n",
    "model = id3_tree(least_children_num = 3,verbose=False)\n",
    "model.fit(X_train,y_train)\n"
   ]
  },
  {
   "cell_type": "code",
   "execution_count": 23,
   "metadata": {},
   "outputs": [
    {
     "name": "stdout",
     "output_type": "stream",
     "text": [
      "[[2.200e+01 1.177e+02 1.000e+00 2.400e+01]\n",
      " [2.700e+01 1.654e-01 1.000e+00 2.200e+01]\n",
      " [2.200e+01 1.017e+02 1.000e+00 1.000e+01]\n",
      " [1.300e+01 4.911e+01 1.000e+00 6.000e+00]\n",
      " [2.100e+01 3.337e+01 1.000e+00 2.000e+00]\n",
      " [      nan 1.000e+00       nan       nan]\n",
      " [2.100e+01 3.375e+01 1.000e+00 2.000e+00]\n",
      " [      nan 0.000e+00       nan       nan]\n",
      " [      nan 1.000e+00       nan       nan]\n",
      " [5.000e+00 6.601e-02 1.000e+00 2.000e+00]\n",
      " [      nan 0.000e+00       nan       nan]\n",
      " [      nan 1.000e+00       nan       nan]\n",
      " [2.100e+01 2.803e+01 1.000e+00 6.000e+00]\n",
      " [2.400e+01 1.426e-01 1.000e+00 2.000e+00]\n",
      " [      nan 1.000e+00       nan       nan]\n",
      " [4.000e+00 1.096e-01 1.000e+00 2.000e+00]\n",
      " [      nan 1.000e+00       nan       nan]\n",
      " [      nan 0.000e+00       nan       nan]\n",
      " [1.000e+01 3.860e-01 1.000e+00 4.000e+00]\n",
      " [1.000e+01 2.323e-01 1.000e+00 2.000e+00]\n",
      " [      nan 0.000e+00       nan       nan]\n",
      " [      nan 1.000e+00       nan       nan]\n",
      " [      nan 0.000e+00       nan       nan]\n",
      " [      nan 0.000e+00       nan       nan]\n",
      " [1.900e+01 1.575e-03 1.000e+00 4.000e+00]\n",
      " [1.000e+01 4.789e-01 1.000e+00 2.000e+00]\n",
      " [      nan 0.000e+00       nan       nan]\n",
      " [      nan 1.000e+00       nan       nan]\n",
      " [      nan 0.000e+00       nan       nan]]\n"
     ]
    }
   ],
   "source": [
    "# Tree:\n",
    "print(model.tree)"
   ]
  },
  {
   "cell_type": "code",
   "execution_count": 24,
   "metadata": {},
   "outputs": [],
   "source": [
    "# Prediction:\n",
    "pred = model.predict(X_valid)"
   ]
  },
  {
   "cell_type": "code",
   "execution_count": 25,
   "metadata": {},
   "outputs": [
    {
     "name": "stdout",
     "output_type": "stream",
     "text": [
      "     out_sample_prediction  pred\n",
      "0                      0.0     0\n",
      "1                      0.0     0\n",
      "2                      0.0     0\n",
      "3                      0.0     0\n",
      "4                      0.0     0\n",
      "5                      0.0     0\n",
      "6                      0.0     0\n",
      "7                      0.0     0\n",
      "8                      0.0     0\n",
      "9                      0.0     0\n",
      "10                     0.0     0\n",
      "11                     0.0     0\n",
      "12                     0.0     0\n",
      "13                     1.0     0\n",
      "14                     0.0     0\n",
      "15                     0.0     0\n",
      "16                     0.0     0\n",
      "17                     0.0     0\n",
      "18                     0.0     0\n",
      "19                     1.0     1\n",
      "20                     1.0     1\n",
      "21                     1.0     1\n",
      "22                     0.0     0\n",
      "23                     0.0     0\n",
      "24                     0.0     0\n",
      "25                     0.0     0\n",
      "26                     0.0     0\n",
      "27                     0.0     0\n",
      "28                     0.0     0\n",
      "29                     0.0     0\n",
      "..                     ...   ...\n",
      "83                     0.0     0\n",
      "84                     1.0     1\n",
      "85                     0.0     0\n",
      "86                     0.0     0\n",
      "87                     0.0     0\n",
      "88                     1.0     1\n",
      "89                     1.0     1\n",
      "90                     1.0     1\n",
      "91                     1.0     0\n",
      "92                     1.0     1\n",
      "93                     1.0     1\n",
      "94                     0.0     0\n",
      "95                     0.0     0\n",
      "96                     1.0     1\n",
      "97                     1.0     1\n",
      "98                     1.0     1\n",
      "99                     1.0     0\n",
      "100                    0.0     0\n",
      "101                    1.0     1\n",
      "102                    1.0     1\n",
      "103                    1.0     1\n",
      "104                    1.0     1\n",
      "105                    0.0     0\n",
      "106                    1.0     1\n",
      "107                    1.0     1\n",
      "108                    0.0     0\n",
      "109                    1.0     1\n",
      "110                    1.0     1\n",
      "111                    1.0     1\n",
      "112                    1.0     1\n",
      "\n",
      "[113 rows x 2 columns]\n"
     ]
    }
   ],
   "source": [
    "import pandas\n",
    "print(pandas.DataFrame([i for i in zip(pred,y_valid)],columns=['out_sample_prediction','pred']))"
   ]
  },
  {
   "cell_type": "code",
   "execution_count": 26,
   "metadata": {},
   "outputs": [
    {
     "data": {
      "text/plain": [
       "0.9026548672566371"
      ]
     },
     "execution_count": 26,
     "metadata": {},
     "output_type": "execute_result"
    }
   ],
   "source": [
    "y_valid_list = y_valid.tolist()\n",
    "accuracy(pred,y_valid_list)"
   ]
  },
  {
   "cell_type": "markdown",
   "metadata": {},
   "source": [
    "### Not bad, we reached 90.3% out-of-sample accuracy with a single tree. That's why I'm a tree hugger =)"
   ]
  },
  {
   "cell_type": "markdown",
   "metadata": {},
   "source": [
    " "
   ]
  },
  {
   "cell_type": "markdown",
   "metadata": {},
   "source": [
    " "
   ]
  },
  {
   "cell_type": "markdown",
   "metadata": {},
   "source": [
    " "
   ]
  },
  {
   "cell_type": "markdown",
   "metadata": {},
   "source": [
    " "
   ]
  },
  {
   "cell_type": "markdown",
   "metadata": {},
   "source": [
    " "
   ]
  },
  {
   "cell_type": "markdown",
   "metadata": {},
   "source": [
    "## Next: \n",
    "\n",
    "* Random Forest:  https://gecgithub01.walmart.com/y0w0252/Algorithms/blob/master/Machine_Learning_with_Numpy/All%20you%20need%20to%20know%20about%20Trees-2%20Random%20Forest.ipynb"
   ]
  }
 ],
 "metadata": {
  "kernelspec": {
   "display_name": "Python 3",
   "language": "python",
   "name": "python3"
  },
  "language_info": {
   "codemirror_mode": {
    "name": "ipython",
    "version": 3
   },
   "file_extension": ".py",
   "mimetype": "text/x-python",
   "name": "python",
   "nbconvert_exporter": "python",
   "pygments_lexer": "ipython3",
   "version": "3.6.5"
  }
 },
 "nbformat": 4,
 "nbformat_minor": 2
}
