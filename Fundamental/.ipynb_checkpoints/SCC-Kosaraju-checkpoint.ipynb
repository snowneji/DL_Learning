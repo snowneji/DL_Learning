{
 "cells": [
  {
   "cell_type": "markdown",
   "metadata": {},
   "source": [
    "### Using Kosaraju’s algorithm to discover SCCs:"
   ]
  },
  {
   "cell_type": "code",
   "execution_count": 1,
   "metadata": {},
   "outputs": [],
   "source": [
    "import sys,threading  \n",
    "sys.setrecursionlimit(3000000)  \n",
    "threading.stack_size(67108864)  \n",
    "  \n",
    "def firstdfs(vertexind):  \n",
    "    global fs,isexplored,visitordered,mapDictT  \n",
    "    if len(mapDictT[vertexind])>0:  \n",
    "        for ind in mapDictT[vertexind]:  \n",
    "            if not isexplored[ind-1]:  \n",
    "                isexplored[ind-1]=True  \n",
    "                firstdfs(ind)  \n",
    "    visitordered[fs-1]=vertexind  \n",
    "    #print(str(vertexind)+' fs: '+str(fs))  \n",
    "    fs=fs-1  \n",
    "  \n",
    "def seconddfs(vertexind):  \n",
    "    global s,secisexplored,header,mapDict  \n",
    "    if len(mapDict[vertexind])==0:return  \n",
    "    for ind in mapDict[vertexind]:  \n",
    "        if not secisexplored[ind-1]:  \n",
    "            secisexplored[ind-1]=True  \n",
    "            seconddfs(ind)  \n",
    "    header[s-1]+=1  \n",
    "  \n"
   ]
  },
  {
   "cell_type": "code",
   "execution_count": null,
   "metadata": {},
   "outputs": [],
   "source": [
    "\n",
    "global mapDict,mapDictT,fs,isexplored,visitordered,s,secisexplored,header  \n",
    "maplength=875714  \n",
    "\n",
    "# Load Graph\n",
    "f=open('SCC.txt','r')  \n",
    "mapDict={x:[] for x in range(1,maplength+1)}  # key:val\n",
    "mapDictT={x:[] for x in range(1,maplength+1)} # val:key\n",
    "for line in f.readlines():  \n",
    "    tmp=[int(x) for x in line.split()]  \n",
    "    mapDict[tmp[0]].append(tmp[1])  \n",
    "    mapDictT[tmp[1]].append(tmp[0])  \n",
    "f.close()\n",
    "print()\n"
   ]
  },
  {
   "cell_type": "code",
   "execution_count": null,
   "metadata": {},
   "outputs": [],
   "source": [
    "fs=maplength  \n",
    "isexplored=[False for x in range(1,maplength+1)]  \n",
    "secisexplored=[False for x in range(1,maplength+1)]  \n",
    "visitordered=[0 for x in range(1,maplength+1)]  \n",
    "header=[0 for x in range(1,maplength+1)]  \n",
    "\n",
    "for ind in range(1,maplength+1):  \n",
    "    if not isexplored[ind-1]:  \n",
    "        #print('Begin from: '+str(ind))  \n",
    "        isexplored[ind-1]=True  \n",
    "        firstdfs(ind)  \n",
    "print('Second DFS')  \n",
    "for ind in visitordered:  \n",
    "    if not secisexplored[ind-1]:  \n",
    "        s=ind  \n",
    "        secisexplored[ind-1]=True  \n",
    "        seconddfs(ind)  \n",
    "\n",
    "header.sort(reverse=True)  \n",
    "print(header[0:20])  \n"
   ]
  }
 ],
 "metadata": {
  "kernelspec": {
   "display_name": "Python 3",
   "language": "python",
   "name": "python3"
  },
  "language_info": {
   "codemirror_mode": {
    "name": "ipython",
    "version": 3
   },
   "file_extension": ".py",
   "mimetype": "text/x-python",
   "name": "python",
   "nbconvert_exporter": "python",
   "pygments_lexer": "ipython3",
   "version": "3.6.6"
  }
 },
 "nbformat": 4,
 "nbformat_minor": 2
}
